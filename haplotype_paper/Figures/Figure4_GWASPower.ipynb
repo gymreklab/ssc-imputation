{
 "cells": [
  {
   "cell_type": "code",
   "execution_count": 1,
   "metadata": {
    "collapsed": false
   },
   "outputs": [
    {
     "name": "stdout",
     "output_type": "stream",
     "text": [
      "Populating the interactive namespace from numpy and matplotlib\n"
     ]
    }
   ],
   "source": [
    "%pylab inline\n",
    "\n",
    "# Import our plot library\n",
    "from vplot import *\n",
    "\n",
    "# Allow us to edit fonts in Illustrator\n",
    "import matplotlib\n",
    "matplotlib.rcParams['ps.useafm'] = True\n",
    "matplotlib.rcParams['pdf.use14corefonts'] = True\n",
    "matplotlib.rcParams['text.usetex'] = True\n",
    "\n",
    "# Libraries\n",
    "import matplotlib.pyplot as plt\n",
    "import numpy as np\n",
    "import os\n",
    "import pandas as pd\n",
    "from matplotlib.patches import Polygon\n",
    "import scipy.stats\n",
    "from sklearn.cluster import AgglomerativeClustering\n",
    "from sklearn.decomposition import PCA\n",
    "import seaborn as sns; sns.set(style=\"white\", color_codes=True)\n",
    "\n",
    "SIMDIR=\"/storage/ileena/simulation/SSC/fig_haplo_paper/\"\n",
    "DATADIR=\"/storage/mgymrek/ssc-imputation/\"\n",
    "OUTPATH=\"pdfs/\"\n",
    "PREFIX=\"Figure4\""
   ]
  },
  {
   "cell_type": "markdown",
   "metadata": {},
   "source": [
    "# Figure 4A: Example STR gt vs. pt"
   ]
  },
  {
   "cell_type": "code",
   "execution_count": 28,
   "metadata": {
    "collapsed": false
   },
   "outputs": [
    {
     "name": "stdout",
     "output_type": "stream",
     "text": [
      "0.0\r\n",
      "10.0\r\n",
      "5.0\r\n",
      "NaN\r\n",
      "True_STR_Sum\r\n"
     ]
    }
   ],
   "source": [
    "!cat /storage/ileena/simulation/SSC/fig_haplo_paper/chr21_25000266_STR_21_25000266.gt | cut -f 3 | sort | uniq"
   ]
  },
  {
   "cell_type": "code",
   "execution_count": 33,
   "metadata": {
    "collapsed": false
   },
   "outputs": [
    {
     "data": {
      "image/png": "[encoded data removed]",
      "text/plain": [
       "<matplotlib.figure.Figure at 0x7f8a2ca84fd0>"
      ]
     },
     "metadata": {},
     "output_type": "display_data"
    }
   ],
   "source": [
    "# Load data for example\n",
    "ex_gt_data = pd.read_csv(os.path.join(SIMDIR, \"b03_chr21_25000266_STR_21_25000266.gt\"), sep=\"\\t\")\n",
    "ex_pt_data = pd.read_csv(os.path.join(SIMDIR, \"b03_chr21_25000266_0.pheno\"), sep=\"\\t\", names=[\"Sample_ID\", \"x\", \"pt\"])\n",
    "ex_data = pd.merge(ex_gt_data, ex_pt_data, on=[\"Sample_ID\"])\n",
    "ex_data[\"gt\"] = ex_data[\"True_STR_Sum\"]\n",
    "\n",
    "fig = plt.figure()\n",
    "ax = fig.add_subplot(111)\n",
    "ex_data.boxplot(column=\"pt\", by=\"gt\", ax=ax, grid=False);\n",
    "ax.set_title(\"\")\n",
    "plt.suptitle(\"\");\n",
    "ax.spines['right'].set_visible(False)\n",
    "ax.spines['top'].set_visible(False)\n",
    "ax.yaxis.set_ticks_position('left')\n",
    "ax.xaxis.set_ticks_position('bottom');\n",
    "ax.set_xlabel(\"STR Genotype\", size=15)\n",
    "ax.set_ylabel(\"Normalized phenotype\", size=15);\n",
    "ax.set_xticklabels(ax.get_xticklabels(), size=15);\n",
    "ax.set_yticklabels(ax.get_yticklabels(), size=15);"
   ]
  },
  {
   "cell_type": "markdown",
   "metadata": {},
   "source": [
    "# Figure 4B: LD vs. p-value"
   ]
  },
  {
   "cell_type": "code",
   "execution_count": 52,
   "metadata": {
    "collapsed": false
   },
   "outputs": [],
   "source": [
    "r2 = pd.read_csv(os.path.join(DATADIR, \"gwas-power\", \"r2_snp.tab\"), sep=\"\\t\")\n",
    "r2_imp = pd.read_csv(os.path.join(DATADIR, \"gwas-power\", \"r2_imp.tab\"), sep=\"\\t\")\n",
    "assoc = pd.read_csv(os.path.join(SIMDIR, \"b03_chr21_25000266_power_simulation_results.txt\"), sep=\"\\t\")\n",
    "str_coord = assoc[assoc[\"testclass\"]==\"STR\"][\"locus\"].values[0]\n",
    "\n",
    "# Pull out SNPs\n",
    "r2 = r2[r2[\"locus1\"]==str_coord]\n",
    "r2[\"locus\"] = r2[\"locus2\"]\n",
    "snp_assoc = assoc[assoc[\"testclass\"]==\"SNP\"]\n",
    "snp_assoc = pd.merge(snp_assoc, r2, on=[\"locus\"])"
   ]
  },
  {
   "cell_type": "code",
   "execution_count": 72,
   "metadata": {
    "collapsed": false
   },
   "outputs": [
    {
     "data": {
      "image/png": "[encoded data removed]",
      "text/plain": [
       "<matplotlib.figure.Figure at 0x7f89cde22160>"
      ]
     },
     "metadata": {},
     "output_type": "display_data"
    }
   ],
   "source": [
    "fig = plt.figure()\n",
    "ax = fig.add_subplot(111)\n",
    "\n",
    "# Plotting all SNPs\n",
    "ax.scatter(snp_assoc[\"r2\"], snp_assoc[\"pvalue\"].apply(lambda x: -1*np.log10(x)), color=\"gray\", s=8, label=\"SNPs\");\n",
    "\n",
    "# Plot the STR\n",
    "ax.scatter([1.0], [assoc[assoc[\"testclass\"]==\"STR\"][\"pvalue\"].apply(lambda x: -1*np.log10(x)).values[0]], color=\"red\", s=40, label=\"STR\")\n",
    "\n",
    "# Plot the imputed STR\n",
    "imp_ld = r2_imp[r2_imp[\"locus1\"]==str_coord][\"r2\"].values[0]\n",
    "imp_p = assoc[assoc[\"testclass\"]==\"IMPSTR\"][\"pvalue\"].apply(lambda x: -1*np.log10(x)).values[0]\n",
    "ax.scatter([imp_ld], [imp_p], color=\"blue\", s=40, label=\"Imputed STR\");\n",
    "\n",
    "ax.spines['right'].set_visible(False)\n",
    "ax.spines['top'].set_visible(False)\n",
    "ax.yaxis.set_ticks_position('left')\n",
    "ax.xaxis.set_ticks_position('bottom');\n",
    "ax.set_xlabel(\"R2 with causal STR\", size=15)\n",
    "ax.set_ylabel(\"-log10 P\", size=15);\n",
    "ax.set_xticklabels([\"%.2f\"%x for x in ax.get_xticks()], size=12)\n",
    "ax.set_yticklabels([\"%.1f\"%x for x in ax.get_yticks()], size=12)\n",
    "ax.legend(loc=\"upper left\");"
   ]
  },
  {
   "cell_type": "markdown",
   "metadata": {},
   "source": [
    "# Figure 4C"
   ]
  },
  {
   "cell_type": "code",
   "execution_count": 21,
   "metadata": {
    "collapsed": true
   },
   "outputs": [],
   "source": [
    "# Load LD values\n",
    "snpstr = pd.read_csv(os.path.join(DATADIR, \"gwas-power\",\"r2_snp.tab\"), sep=\"\\t\")\n",
    "best_snp = snpstr.groupby(\"locus1\", as_index=False).agg({\"r2\": max, \"freq_het\": np.mean})\n",
    "sscloo = pd.read_csv(os.path.join(DATADIR, \"gwas-power\",\"r2_imp.tab\"), sep=\"\\t\")\n",
    "r2comp = pd.merge(best_snp, sscloo, on=[\"locus1\"])[[\"locus1\",\"freq_het_x\",\"r2_x\",\"r2_y\"]]\n",
    "r2comp.columns = [\"locus\",\"het\",\"r2_bestsnp\",\"r2_ssc\"]\n",
    "r2comp[\"r2diff\"] = r2comp[\"r2_ssc\"]-r2comp[\"r2_bestsnp\"]\n",
    "\n",
    "# Computer power for each association\n",
    "#assoc = pd.read_csv(os.path.join(SIMDIR, \"chr21_power_simulation_results.txt\"), sep=\"\\t\")\n",
    "assoc = pd.read_csv(\"/storage/ileena/simulation/SSC/fig_haplo_paper/test_100sims_chr21_power_simulation_results.txt\", sep=\"\\t\") # TODO change to final path\n",
    "\n",
    "def GetPower(x, alpha=0.05):\n",
    "    return np.mean([int(item < alpha) for item in x])\n",
    "\n",
    "# Calculate power for each class\n",
    "assoc_tmp = assoc.groupby([\"str\",\"testclass\"], as_index=False).agg({\"pvalue\": lambda x: GetPower(x)}) # TODO change \"locus\"  to STR locus\"\n",
    "assoc_tmp[\"power\"] = assoc_tmp[\"pvalue\"]\n",
    "assoc_tmp = assoc_tmp[[\"str\",\"testclass\",\"power\"]]\n",
    "\n",
    "# Merge to a single table\n",
    "loci = list(set(assoc_tmp[\"str\"]))\n",
    "imp_power = []\n",
    "str_power = []\n",
    "snp_power = []\n",
    "for l in loci:\n",
    "    x_imp = assoc_tmp[(assoc_tmp[\"str\"]==l) & (assoc_tmp[\"testclass\"]==\"IMPSTR\")][\"power\"].values[0]\n",
    "    x_str = assoc_tmp[(assoc_tmp[\"str\"]==l) & (assoc_tmp[\"testclass\"]==\"STR\")][\"power\"].values[0]\n",
    "    x_snp = assoc_tmp[(assoc_tmp[\"str\"]==l) & (assoc_tmp[\"testclass\"]==\"SNP\")][\"power\"].values[0]\n",
    "    imp_power.append(x_imp)\n",
    "    str_power.append(x_str)\n",
    "    snp_power.append(x_snp)\n",
    "power = pd.DataFrame({\"locus\": loci, \"imp_power\": imp_power, \"str_power\": str_power, \"snp_power\": snp_power})\n",
    "power[\"powerdiff\"] = power[\"imp_power\"] - power[\"snp_power\"]\n",
    "data = pd.merge(power, r2comp, on=[\"locus\"])"
   ]
  },
  {
   "cell_type": "code",
   "execution_count": 22,
   "metadata": {
    "collapsed": false
   },
   "outputs": [
    {
     "data": {
      "image/png": "[encoded data removed]",
      "text/plain": [
       "<matplotlib.figure.Figure at 0x7f5c111df320>"
      ]
     },
     "metadata": {},
     "output_type": "display_data"
    }
   ],
   "source": [
    "g = sns.jointplot(x=\"r2diff\", y=\"powerdiff\", data=data)"
   ]
  },
  {
   "cell_type": "markdown",
   "metadata": {},
   "source": []
  }
 ],
 "metadata": {
  "kernelspec": {
   "display_name": "Python 3",
   "language": "python",
   "name": "python3"
  },
  "language_info": {
   "codemirror_mode": {
    "name": "ipython",
    "version": 3
   },
   "file_extension": ".py",
   "mimetype": "text/x-python",
   "name": "python",
   "nbconvert_exporter": "python",
   "pygments_lexer": "ipython3",
   "version": "3.4.5"
  }
 },
 "nbformat": 4,
 "nbformat_minor": 2
}

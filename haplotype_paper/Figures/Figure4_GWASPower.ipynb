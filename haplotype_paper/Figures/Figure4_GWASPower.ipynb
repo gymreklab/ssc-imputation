{
 "cells": [
  {
   "cell_type": "code",
   "execution_count": 61,
   "metadata": {
    "collapsed": false
   },
   "outputs": [
    {
     "name": "stdout",
     "output_type": "stream",
     "text": [
      "Populating the interactive namespace from numpy and matplotlib\n"
     ]
    },
    {
     "name": "stderr",
     "output_type": "stream",
     "text": [
      "/usr/lib/python3.4/site-packages/IPython/core/magics/pylab.py:161: UserWarning: pylab import has clobbered these variables: ['power']\n",
      "`%matplotlib` prevents importing * from pylab and numpy\n",
      "  \"\\n`%matplotlib` prevents importing * from pylab and numpy\"\n"
     ]
    }
   ],
   "source": [
    "%pylab inline\n",
    "\n",
    "# Import our plot library\n",
    "from vplot import *\n",
    "\n",
    "# Allow us to edit fonts in Illustrator\n",
    "import matplotlib\n",
    "matplotlib.rcParams['ps.useafm'] = True\n",
    "matplotlib.rcParams['pdf.use14corefonts'] = True\n",
    "matplotlib.rcParams['text.usetex'] = True\n",
    "\n",
    "# Libraries\n",
    "import matplotlib.pyplot as plt\n",
    "import numpy as np\n",
    "import os\n",
    "import pandas as pd\n",
    "from matplotlib.patches import Polygon\n",
    "import scipy.stats\n",
    "from sklearn.cluster import AgglomerativeClustering\n",
    "from sklearn.decomposition import PCA\n",
    "import seaborn as sns; sns.set(style=\"white\", color_codes=True)\n",
    "\n",
    "SIMDIR=\"/storage/ileena/simulation/SSC/fig_haplo_paper/\"\n",
    "DATADIR=\"/storage/mgymrek/ssc-imputation/\"\n",
    "OUTPATH=\"pdfs/\"\n",
    "PREFIX=\"Figure4\"\n",
    "REGION=\"chr21_23934706\""
   ]
  },
  {
   "cell_type": "markdown",
   "metadata": {},
   "source": [
    "# Figure 4A: Example STR gt vs. pt"
   ]
  },
  {
   "cell_type": "code",
   "execution_count": 62,
   "metadata": {
    "collapsed": false
   },
   "outputs": [
    {
     "data": {
      "image/png": "[encoded data removed]",
      "text/plain": [
       "<matplotlib.figure.Figure at 0x7f8f24bbdf28>"
      ]
     },
     "metadata": {},
     "output_type": "display_data"
    }
   ],
   "source": [
    "# Load data for example\n",
    "ex_gt_data = pd.read_csv(os.path.join(SIMDIR, REGION+ \"_STR_21_23934706.gt\"), sep=\"\\t\")\n",
    "ex_pt_data = pd.read_csv(os.path.join(SIMDIR, REGION+ \"_0.pheno\"), sep=\"\\t\", names=[\"Sample_ID\", \"x\", \"pt\"])\n",
    "ex_data = pd.merge(ex_gt_data, ex_pt_data, on=[\"Sample_ID\"])\n",
    "ex_data[\"gt\"] = ex_data[\"True_STR_Sum\"]\n",
    "\n",
    "# Figure\n",
    "fig = plt.figure()\n",
    "fig.set_size_inches((8, 5))\n",
    "ax = fig.add_subplot(111)\n",
    "ex_data.boxplot(column=\"pt\", by=\"gt\", ax=ax, grid=False);\n",
    "\n",
    "ax.set_title(\"\")\n",
    "plt.suptitle(\"\");\n",
    "ax.spines['right'].set_visible(False)\n",
    "ax.spines['top'].set_visible(False)\n",
    "ax.yaxis.set_ticks_position('left')\n",
    "ax.xaxis.set_ticks_position('bottom');\n",
    "ax.set_xlabel(\"STR Genotype\", size=15)\n",
    "ax.set_ylabel(\"Normalized phenotype\", size=15);\n",
    "ax.set_xticklabels(ax.get_xticklabels(), size=15);\n",
    "ax.set_yticks(np.arange(-3, 3.1, 1))\n",
    "ax.set_yticklabels(ax.get_yticks(), size=15);\n",
    "fig.savefig(os.path.join(OUTPATH, \"%s_ExampleAssociation.pdf\"%PREFIX))"
   ]
  },
  {
   "cell_type": "markdown",
   "metadata": {},
   "source": [
    "# Figure 4B: LD vs. p-value"
   ]
  },
  {
   "cell_type": "code",
   "execution_count": 63,
   "metadata": {
    "collapsed": false
   },
   "outputs": [
    {
     "ename": "KeyboardInterrupt",
     "evalue": "",
     "output_type": "error",
     "traceback": [
      "\u001b[0;31m---------------------------------------------------------------------------\u001b[0m",
      "\u001b[0;31mKeyboardInterrupt\u001b[0m                         Traceback (most recent call last)",
      "\u001b[0;32m<ipython-input-63-0a39fd0bb839>\u001b[0m in \u001b[0;36m<module>\u001b[0;34m()\u001b[0m\n\u001b[0;32m----> 1\u001b[0;31m \u001b[0mr2\u001b[0m \u001b[0;34m=\u001b[0m \u001b[0mpd\u001b[0m\u001b[0;34m.\u001b[0m\u001b[0mread_csv\u001b[0m\u001b[0;34m(\u001b[0m\u001b[0mos\u001b[0m\u001b[0;34m.\u001b[0m\u001b[0mpath\u001b[0m\u001b[0;34m.\u001b[0m\u001b[0mjoin\u001b[0m\u001b[0;34m(\u001b[0m\u001b[0mDATADIR\u001b[0m\u001b[0;34m,\u001b[0m \u001b[0;34m\"gwas-power\"\u001b[0m\u001b[0;34m,\u001b[0m \u001b[0;34m\"r2_snp.tab\"\u001b[0m\u001b[0;34m)\u001b[0m\u001b[0;34m,\u001b[0m \u001b[0msep\u001b[0m\u001b[0;34m=\u001b[0m\u001b[0;34m\"\\t\"\u001b[0m\u001b[0;34m)\u001b[0m\u001b[0;34m\u001b[0m\u001b[0m\n\u001b[0m\u001b[1;32m      2\u001b[0m \u001b[0mr2_imp\u001b[0m \u001b[0;34m=\u001b[0m \u001b[0mpd\u001b[0m\u001b[0;34m.\u001b[0m\u001b[0mread_csv\u001b[0m\u001b[0;34m(\u001b[0m\u001b[0mos\u001b[0m\u001b[0;34m.\u001b[0m\u001b[0mpath\u001b[0m\u001b[0;34m.\u001b[0m\u001b[0mjoin\u001b[0m\u001b[0;34m(\u001b[0m\u001b[0mDATADIR\u001b[0m\u001b[0;34m,\u001b[0m \u001b[0;34m\"gwas-power\"\u001b[0m\u001b[0;34m,\u001b[0m \u001b[0;34m\"r2_imp.tab\"\u001b[0m\u001b[0;34m)\u001b[0m\u001b[0;34m,\u001b[0m \u001b[0msep\u001b[0m\u001b[0;34m=\u001b[0m\u001b[0;34m\"\\t\"\u001b[0m\u001b[0;34m)\u001b[0m\u001b[0;34m\u001b[0m\u001b[0m\n\u001b[1;32m      3\u001b[0m \u001b[0massoc\u001b[0m \u001b[0;34m=\u001b[0m \u001b[0mpd\u001b[0m\u001b[0;34m.\u001b[0m\u001b[0mread_csv\u001b[0m\u001b[0;34m(\u001b[0m\u001b[0mos\u001b[0m\u001b[0;34m.\u001b[0m\u001b[0mpath\u001b[0m\u001b[0;34m.\u001b[0m\u001b[0mjoin\u001b[0m\u001b[0;34m(\u001b[0m\u001b[0mSIMDIR\u001b[0m\u001b[0;34m,\u001b[0m \u001b[0mREGION\u001b[0m \u001b[0;34m+\u001b[0m \u001b[0;34m\"_power_simulation_results.txt\"\u001b[0m\u001b[0;34m)\u001b[0m\u001b[0;34m,\u001b[0m \u001b[0msep\u001b[0m\u001b[0;34m=\u001b[0m\u001b[0;34m\"\\t\"\u001b[0m\u001b[0;34m)\u001b[0m\u001b[0;34m\u001b[0m\u001b[0m\n\u001b[1;32m      4\u001b[0m \u001b[0mstr_coord\u001b[0m \u001b[0;34m=\u001b[0m \u001b[0massoc\u001b[0m\u001b[0;34m[\u001b[0m\u001b[0massoc\u001b[0m\u001b[0;34m[\u001b[0m\u001b[0;34m\"testclass\"\u001b[0m\u001b[0;34m]\u001b[0m\u001b[0;34m==\u001b[0m\u001b[0;34m\"STR\"\u001b[0m\u001b[0;34m]\u001b[0m\u001b[0;34m[\u001b[0m\u001b[0;34m\"locus\"\u001b[0m\u001b[0;34m]\u001b[0m\u001b[0;34m.\u001b[0m\u001b[0mvalues\u001b[0m\u001b[0;34m[\u001b[0m\u001b[0;36m0\u001b[0m\u001b[0;34m]\u001b[0m\u001b[0;34m\u001b[0m\u001b[0m\n\u001b[1;32m      5\u001b[0m \u001b[0;34m\u001b[0m\u001b[0m\n",
      "\u001b[0;32m/usr/lib64/python3.4/site-packages/pandas/io/parsers.py\u001b[0m in \u001b[0;36mparser_f\u001b[0;34m(filepath_or_buffer, sep, delimiter, header, names, index_col, usecols, squeeze, prefix, mangle_dupe_cols, dtype, engine, converters, true_values, false_values, skipinitialspace, skiprows, nrows, na_values, keep_default_na, na_filter, verbose, skip_blank_lines, parse_dates, infer_datetime_format, keep_date_col, date_parser, dayfirst, iterator, chunksize, compression, thousands, decimal, lineterminator, quotechar, quoting, escapechar, comment, encoding, dialect, tupleize_cols, error_bad_lines, warn_bad_lines, skipfooter, skip_footer, doublequote, delim_whitespace, as_recarray, compact_ints, use_unsigned, low_memory, buffer_lines, memory_map, float_precision)\u001b[0m\n\u001b[1;32m    707\u001b[0m                     skip_blank_lines=skip_blank_lines)\n\u001b[1;32m    708\u001b[0m \u001b[0;34m\u001b[0m\u001b[0m\n\u001b[0;32m--> 709\u001b[0;31m         \u001b[0;32mreturn\u001b[0m \u001b[0m_read\u001b[0m\u001b[0;34m(\u001b[0m\u001b[0mfilepath_or_buffer\u001b[0m\u001b[0;34m,\u001b[0m \u001b[0mkwds\u001b[0m\u001b[0;34m)\u001b[0m\u001b[0;34m\u001b[0m\u001b[0m\n\u001b[0m\u001b[1;32m    710\u001b[0m \u001b[0;34m\u001b[0m\u001b[0m\n\u001b[1;32m    711\u001b[0m     \u001b[0mparser_f\u001b[0m\u001b[0;34m.\u001b[0m\u001b[0m__name__\u001b[0m \u001b[0;34m=\u001b[0m \u001b[0mname\u001b[0m\u001b[0;34m\u001b[0m\u001b[0m\n",
      "\u001b[0;32m/usr/lib64/python3.4/site-packages/pandas/io/parsers.py\u001b[0m in \u001b[0;36m_read\u001b[0;34m(filepath_or_buffer, kwds)\u001b[0m\n\u001b[1;32m    453\u001b[0m \u001b[0;34m\u001b[0m\u001b[0m\n\u001b[1;32m    454\u001b[0m     \u001b[0;32mtry\u001b[0m\u001b[0;34m:\u001b[0m\u001b[0;34m\u001b[0m\u001b[0m\n\u001b[0;32m--> 455\u001b[0;31m         \u001b[0mdata\u001b[0m \u001b[0;34m=\u001b[0m \u001b[0mparser\u001b[0m\u001b[0;34m.\u001b[0m\u001b[0mread\u001b[0m\u001b[0;34m(\u001b[0m\u001b[0mnrows\u001b[0m\u001b[0;34m)\u001b[0m\u001b[0;34m\u001b[0m\u001b[0m\n\u001b[0m\u001b[1;32m    456\u001b[0m     \u001b[0;32mfinally\u001b[0m\u001b[0;34m:\u001b[0m\u001b[0;34m\u001b[0m\u001b[0m\n\u001b[1;32m    457\u001b[0m         \u001b[0mparser\u001b[0m\u001b[0;34m.\u001b[0m\u001b[0mclose\u001b[0m\u001b[0;34m(\u001b[0m\u001b[0;34m)\u001b[0m\u001b[0;34m\u001b[0m\u001b[0m\n",
      "\u001b[0;32m/usr/lib64/python3.4/site-packages/pandas/io/parsers.py\u001b[0m in \u001b[0;36mread\u001b[0;34m(self, nrows)\u001b[0m\n\u001b[1;32m   1067\u001b[0m                 \u001b[0;32mraise\u001b[0m \u001b[0mValueError\u001b[0m\u001b[0;34m(\u001b[0m\u001b[0;34m'skipfooter not supported for iteration'\u001b[0m\u001b[0;34m)\u001b[0m\u001b[0;34m\u001b[0m\u001b[0m\n\u001b[1;32m   1068\u001b[0m \u001b[0;34m\u001b[0m\u001b[0m\n\u001b[0;32m-> 1069\u001b[0;31m         \u001b[0mret\u001b[0m \u001b[0;34m=\u001b[0m \u001b[0mself\u001b[0m\u001b[0;34m.\u001b[0m\u001b[0m_engine\u001b[0m\u001b[0;34m.\u001b[0m\u001b[0mread\u001b[0m\u001b[0;34m(\u001b[0m\u001b[0mnrows\u001b[0m\u001b[0;34m)\u001b[0m\u001b[0;34m\u001b[0m\u001b[0m\n\u001b[0m\u001b[1;32m   1070\u001b[0m \u001b[0;34m\u001b[0m\u001b[0m\n\u001b[1;32m   1071\u001b[0m         \u001b[0;32mif\u001b[0m \u001b[0mself\u001b[0m\u001b[0;34m.\u001b[0m\u001b[0moptions\u001b[0m\u001b[0;34m.\u001b[0m\u001b[0mget\u001b[0m\u001b[0;34m(\u001b[0m\u001b[0;34m'as_recarray'\u001b[0m\u001b[0;34m)\u001b[0m\u001b[0;34m:\u001b[0m\u001b[0;34m\u001b[0m\u001b[0m\n",
      "\u001b[0;32m/usr/lib64/python3.4/site-packages/pandas/io/parsers.py\u001b[0m in \u001b[0;36mread\u001b[0;34m(self, nrows)\u001b[0m\n\u001b[1;32m   1837\u001b[0m     \u001b[0;32mdef\u001b[0m \u001b[0mread\u001b[0m\u001b[0;34m(\u001b[0m\u001b[0mself\u001b[0m\u001b[0;34m,\u001b[0m \u001b[0mnrows\u001b[0m\u001b[0;34m=\u001b[0m\u001b[0;32mNone\u001b[0m\u001b[0;34m)\u001b[0m\u001b[0;34m:\u001b[0m\u001b[0;34m\u001b[0m\u001b[0m\n\u001b[1;32m   1838\u001b[0m         \u001b[0;32mtry\u001b[0m\u001b[0;34m:\u001b[0m\u001b[0;34m\u001b[0m\u001b[0m\n\u001b[0;32m-> 1839\u001b[0;31m             \u001b[0mdata\u001b[0m \u001b[0;34m=\u001b[0m \u001b[0mself\u001b[0m\u001b[0;34m.\u001b[0m\u001b[0m_reader\u001b[0m\u001b[0;34m.\u001b[0m\u001b[0mread\u001b[0m\u001b[0;34m(\u001b[0m\u001b[0mnrows\u001b[0m\u001b[0;34m)\u001b[0m\u001b[0;34m\u001b[0m\u001b[0m\n\u001b[0m\u001b[1;32m   1840\u001b[0m         \u001b[0;32mexcept\u001b[0m \u001b[0mStopIteration\u001b[0m\u001b[0;34m:\u001b[0m\u001b[0;34m\u001b[0m\u001b[0m\n\u001b[1;32m   1841\u001b[0m             \u001b[0;32mif\u001b[0m \u001b[0mself\u001b[0m\u001b[0;34m.\u001b[0m\u001b[0m_first_chunk\u001b[0m\u001b[0;34m:\u001b[0m\u001b[0;34m\u001b[0m\u001b[0m\n",
      "\u001b[0;32mpandas/_libs/parsers.pyx\u001b[0m in \u001b[0;36mpandas._libs.parsers.TextReader.read\u001b[0;34m()\u001b[0m\n",
      "\u001b[0;32mpandas/_libs/parsers.pyx\u001b[0m in \u001b[0;36mpandas._libs.parsers.TextReader._read_low_memory\u001b[0;34m()\u001b[0m\n",
      "\u001b[0;32mpandas/_libs/parsers.pyx\u001b[0m in \u001b[0;36mpandas._libs.parsers.TextReader._read_rows\u001b[0;34m()\u001b[0m\n",
      "\u001b[0;32mpandas/_libs/parsers.pyx\u001b[0m in \u001b[0;36mpandas._libs.parsers.TextReader._convert_column_data\u001b[0;34m()\u001b[0m\n",
      "\u001b[0;32mpandas/_libs/parsers.pyx\u001b[0m in \u001b[0;36mpandas._libs.parsers.TextReader._convert_tokens\u001b[0;34m()\u001b[0m\n",
      "\u001b[0;32mpandas/_libs/parsers.pyx\u001b[0m in \u001b[0;36mpandas._libs.parsers.TextReader._convert_with_dtype\u001b[0;34m()\u001b[0m\n",
      "\u001b[0;32m/usr/lib64/python3.4/site-packages/pandas/core/dtypes/common.py\u001b[0m in \u001b[0;36mis_integer_dtype\u001b[0;34m(arr_or_dtype)\u001b[0m\n\u001b[1;32m    775\u001b[0m \u001b[0;34m\u001b[0m\u001b[0m\n\u001b[1;32m    776\u001b[0m \u001b[0;34m\u001b[0m\u001b[0m\n\u001b[0;32m--> 777\u001b[0;31m \u001b[0;32mdef\u001b[0m \u001b[0mis_integer_dtype\u001b[0m\u001b[0;34m(\u001b[0m\u001b[0marr_or_dtype\u001b[0m\u001b[0;34m)\u001b[0m\u001b[0;34m:\u001b[0m\u001b[0;34m\u001b[0m\u001b[0m\n\u001b[0m\u001b[1;32m    778\u001b[0m     \"\"\"\n\u001b[1;32m    779\u001b[0m     \u001b[0mCheck\u001b[0m \u001b[0mwhether\u001b[0m \u001b[0mthe\u001b[0m \u001b[0mprovided\u001b[0m \u001b[0marray\u001b[0m \u001b[0;32mor\u001b[0m \u001b[0mdtype\u001b[0m \u001b[0;32mis\u001b[0m \u001b[0mof\u001b[0m \u001b[0man\u001b[0m \u001b[0minteger\u001b[0m \u001b[0mdtype\u001b[0m\u001b[0;34m.\u001b[0m\u001b[0;34m\u001b[0m\u001b[0m\n",
      "\u001b[0;31mKeyboardInterrupt\u001b[0m: "
     ]
    }
   ],
   "source": [
    "r2 = pd.read_csv(os.path.join(DATADIR, \"gwas-power\", \"r2_snp.tab\"), sep=\"\\t\")\n",
    "r2_imp = pd.read_csv(os.path.join(DATADIR, \"gwas-power\", \"r2_imp.tab\"), sep=\"\\t\")\n",
    "assoc = pd.read_csv(os.path.join(SIMDIR, REGION + \"_power_simulation_results.txt\"), sep=\"\\t\")\n",
    "str_coord = assoc[assoc[\"testclass\"]==\"STR\"][\"locus\"].values[0]\n",
    "\n",
    "# Pull out SNPs\n",
    "r2 = r2[r2[\"locus1\"]==str_coord]\n",
    "r2[\"locus\"] = r2[\"locus2\"]\n",
    "snp_assoc = assoc[assoc[\"testclass\"]==\"SNP\"]\n",
    "snp_assoc = pd.merge(snp_assoc, r2, on=[\"locus\"])"
   ]
  },
  {
   "cell_type": "code",
   "execution_count": null,
   "metadata": {
    "collapsed": false
   },
   "outputs": [],
   "source": [
    "fig = plt.figure()\n",
    "fig.set_size_inches((6, 4))\n",
    "ax = fig.add_subplot(111)\n",
    "\n",
    "# Plotting all SNPs\n",
    "ax.scatter(snp_assoc[\"r2\"], snp_assoc[\"pvalue\"].apply(lambda x: -1*np.log10(x)), color=\"gray\", s=8, label=\"SNPs\");\n",
    "\n",
    "# Plot the STR\n",
    "ax.scatter([1.0], [assoc[assoc[\"testclass\"]==\"STR\"][\"pvalue\"].apply(lambda x: -1*np.log10(x)).values[0]], color=\"red\", s=40, label=\"STR\")\n",
    "\n",
    "# Plot the imputed STR\n",
    "imp_ld = r2_imp[r2_imp[\"locus1\"]==str_coord][\"r2\"].values[0]\n",
    "imp_p = assoc[assoc[\"testclass\"]==\"IMPSTR\"][\"pvalue\"].apply(lambda x: -1*np.log10(x)).values[0]\n",
    "ax.scatter([imp_ld], [imp_p], color=\"blue\", s=40, label=\"Imputed STR\");\n",
    "\n",
    "ax.spines['right'].set_visible(False)\n",
    "ax.spines['top'].set_visible(False)\n",
    "ax.yaxis.set_ticks_position('left')\n",
    "ax.xaxis.set_ticks_position('bottom');\n",
    "ax.set_xlabel(\"R2 with causal STR\", size=15)\n",
    "ax.set_ylabel(\"-log10 P\", size=15);\n",
    "ax.set_xticklabels([\"%.1f\"%x for x in ax.get_xticks()], size=12)\n",
    "ax.set_yticklabels([\"%.1f\"%x for x in ax.get_yticks()], size=12)\n",
    "ax.legend(loc=\"upper left\");\n",
    "fig.savefig(os.path.join(\"%s_r2vsP.pdf\"%PREFIX))"
   ]
  },
  {
   "cell_type": "markdown",
   "metadata": {},
   "source": [
    "# Figure 4C"
   ]
  },
  {
   "cell_type": "code",
   "execution_count": null,
   "metadata": {
    "collapsed": true
   },
   "outputs": [],
   "source": [
    "# Load LD values\n",
    "snpstr = pd.read_csv(os.path.join(DATADIR, \"gwas-power\",\"r2_snp.tab\"), sep=\"\\t\")\n",
    "best_snp = snpstr.groupby(\"locus1\", as_index=False).agg({\"r2\": max, \"freq_het\": np.mean})\n",
    "sscloo = pd.read_csv(os.path.join(DATADIR, \"gwas-power\",\"r2_imp.tab\"), sep=\"\\t\")\n",
    "r2comp = pd.merge(best_snp, sscloo, on=[\"locus1\"])[[\"locus1\",\"freq_het_x\",\"r2_x\",\"r2_y\"]]\n",
    "r2comp.columns = [\"locus\",\"het\",\"r2_bestsnp\",\"r2_ssc\"]\n",
    "r2comp[\"r2diff\"] = r2comp[\"r2_ssc\"]-r2comp[\"r2_bestsnp\"]"
   ]
  },
  {
   "cell_type": "code",
   "execution_count": 64,
   "metadata": {
    "collapsed": false
   },
   "outputs": [
    {
     "name": "stdout",
     "output_type": "stream",
     "text": [
      "100sims_chr21_power_simulation_results.txt\r\n",
      "bestSNP_chr21_power_simulation_results.txt\r\n",
      "chr21_23934706_0.pheno\r\n",
      "chr21_23934706_IMPSTR_21_23934706.gt\r\n",
      "chr21_23934706.pheno.log\r\n",
      "chr21_23934706_power_simulation_results.txt\r\n",
      "chr21_23934706_STR_21_23934706.gt\r\n",
      "pdfs\r\n",
      "test_chr21_power_simulation_results.txt\r\n"
     ]
    }
   ],
   "source": [
    "!ls /storage/ileena/simulation/SSC/fig_haplo_paper/100sims_chr21_power_simulation_results.txt"
   ]
  },
  {
   "cell_type": "code",
   "execution_count": 65,
   "metadata": {
    "collapsed": false
   },
   "outputs": [],
   "source": [
    "# Computer power for each association\n",
    "assoc = pd.read_csv(os.path.join(SIMDIR, \"100sims_chr21_power_simulation_results.txt\"), sep=\"\\t\") #final file\n",
    "#assoc = pd.read_csv(SIMDIR+\"bestSNP_chr21_power_simulation_results.txt\", sep=\"\\t\") #test file\n",
    "\n",
    "def GetPower(x, alpha=5*10**-8):\n",
    "    return np.mean([(int(float(item) < alpha)) for item in x])\n",
    "\n",
    "# Calculate power for each class\n",
    "assoc_tmp = assoc.groupby([\"str\",\"testclass\"], as_index=False).agg({\"pvalue\": lambda x: GetPower(x)})\n",
    "assoc_tmp[\"power\"] = assoc_tmp[\"pvalue\"]\n",
    "assoc_tmp = assoc_tmp[[\"str\",\"testclass\",\"power\"]]\n",
    "\n",
    "impdata = assoc_tmp[assoc_tmp[\"testclass\"]==\"IMPSTR\"].copy()\n",
    "snpdata = assoc_tmp[assoc_tmp[\"testclass\"]==\"SNP\"].copy()\n",
    "strdata = assoc_tmp[assoc_tmp[\"testclass\"]==\"STR\"].copy()\n",
    "impdata[\"imp_power\"] = impdata[\"power\"]\n",
    "snpdata[\"snp_power\"] = snpdata[\"power\"]\n",
    "strdata[\"str_power\"] = strdata[\"power\"]\n",
    "power = pd.merge(impdata[[\"str\",\"imp_power\"]], snpdata[[\"str\", \"snp_power\"]], on=[\"str\"])\n",
    "power = pd.merge(power, strdata[[\"str\",\"str_power\"]], on=[\"str\"])\n",
    "power[\"powerdiff\"] = power[\"imp_power\"] - power[\"snp_power\"]\n",
    "power[\"locus\"] = power[\"str\"]\n",
    "data = pd.merge(power, r2comp, on=[\"locus\"])"
   ]
  },
  {
   "cell_type": "code",
   "execution_count": 73,
   "metadata": {
    "collapsed": false
   },
   "outputs": [
    {
     "data": {
      "text/plain": [
       "<matplotlib.lines.Line2D at 0x7f8f01349588>"
      ]
     },
     "execution_count": 73,
     "metadata": {},
     "output_type": "execute_result"
    },
    {
     "data": {
      "image/png": "[encoded data removed]",
      "text/plain": [
       "<matplotlib.figure.Figure at 0x7f8eb4534f60>"
      ]
     },
     "metadata": {},
     "output_type": "display_data"
    }
   ],
   "source": [
    "g = sns.jointplot(x=\"r2diff\", y=\"powerdiff\", data=data)\n",
    "g.ax_joint.axvline(x=0, linestyle=\"dashed\", color=\"gray\")\n",
    "g.ax_joint.axhline(y=0, linestyle=\"dashed\", color=\"gray\")"
   ]
  },
  {
   "cell_type": "markdown",
   "metadata": {},
   "source": [
    "# Supplementary Figure: r2imp-r2best vs. num alleles - TODO"
   ]
  },
  {
   "cell_type": "markdown",
   "metadata": {},
   "source": [
    "# Supplementary Figure: case/control - TODO"
   ]
  },
  {
   "cell_type": "markdown",
   "metadata": {},
   "source": [
    "# Supplementary Figure: single allele causal  - TODO"
   ]
  },
  {
   "cell_type": "markdown",
   "metadata": {},
   "source": []
  }
 ],
 "metadata": {
  "kernelspec": {
   "display_name": "Python 3",
   "language": "python",
   "name": "python3"
  },
  "language_info": {
   "codemirror_mode": {
    "name": "ipython",
    "version": 3
   },
   "file_extension": ".py",
   "mimetype": "text/x-python",
   "name": "python",
   "nbconvert_exporter": "python",
   "pygments_lexer": "ipython3",
   "version": "3.4.5"
  }
 },
 "nbformat": 4,
 "nbformat_minor": 2
}

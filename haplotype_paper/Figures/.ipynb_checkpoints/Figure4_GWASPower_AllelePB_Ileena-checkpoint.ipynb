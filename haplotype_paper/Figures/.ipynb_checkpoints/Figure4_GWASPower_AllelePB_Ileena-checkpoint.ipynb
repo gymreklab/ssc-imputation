{
 "cells": [
  {
   "cell_type": "code",
   "execution_count": 22,
   "metadata": {},
   "outputs": [
    {
     "name": "stdout",
     "output_type": "stream",
     "text": [
      "Populating the interactive namespace from numpy and matplotlib\n"
     ]
    }
   ],
   "source": [
    "%pylab inline\n",
    "\n",
    "# Import our plot library\n",
    "from vplot import *\n",
    "\n",
    "# Allow us to edit fonts in Illustrator\n",
    "import matplotlib\n",
    "matplotlib.rcParams['ps.useafm'] = True\n",
    "matplotlib.rcParams['pdf.use14corefonts'] = True\n",
    "matplotlib.rcParams['text.usetex'] = True\n",
    "\n",
    "# Libraries\n",
    "import matplotlib.pyplot as plt\n",
    "import numpy as np\n",
    "import os\n",
    "import pandas as pd\n",
    "from matplotlib.patches import Polygon\n",
    "import scipy.stats\n",
    "from sklearn.cluster import AgglomerativeClustering\n",
    "from sklearn.decomposition import PCA\n",
    "import seaborn as sns; sns.set(style=\"white\", color_codes=True)\n",
    "\n",
    "SIMDIR=\"/storage/ileena/simulation/SSC/fig_haplo_paper/\"\n",
    "DATADIR=\"/storage/mgymrek/ssc-imputation/\"\n",
    "OUTPATH=\"pdfs/\"\n",
    "PREFIX=\"Figure4\""
   ]
  },
  {
   "cell_type": "markdown",
   "metadata": {},
   "source": [
    "# Supplementary Figure: Allelic Parabolic"
   ]
  },
  {
   "cell_type": "code",
   "execution_count": 21,
   "metadata": {},
   "outputs": [],
   "source": [
    "# Functions for plotting\n",
    "\n",
    "def PlotExample(ex_data, fname, color=\"black\"):\n",
    "    lw=1\n",
    "    boxprops = dict(color=color, linewidth=lw)\n",
    "    medianprops = dict(color=color, linewidth=lw)\n",
    "    fig = plt.figure()\n",
    "    fig.set_size_inches((6, 4))\n",
    "    ax = fig.add_subplot(111)\n",
    "    bp = ex_data.boxplot(column=\"pt\", by=\"gt\", ax=ax, grid=False, boxprops=boxprops, medianprops=medianprops,\n",
    "                return_type='dict');\n",
    "\n",
    "    [[item.set_linewidth(lw) for item in bp[key]['boxes']] for key in bp.keys()]\n",
    "    [[item.set_linewidth(lw) for item in bp[key]['fliers']] for key in bp.keys()]\n",
    "    [[item.set_linewidth(lw) for item in bp[key]['medians']] for key in bp.keys()]\n",
    "    [[item.set_linewidth(lw) for item in bp[key]['means']] for key in bp.keys()]\n",
    "    [[item.set_linewidth(lw) for item in bp[key]['whiskers']] for key in bp.keys()]\n",
    "    [[item.set_linewidth(lw) for item in bp[key]['caps']] for key in bp.keys()]\n",
    "    [[item.set_color(color) for item in bp[key]['boxes']] for key in bp.keys()]\n",
    "    [[item.set_color(color) for item in bp[key]['fliers']] for key in bp.keys()]\n",
    "    [[item.set_color(color) for item in bp[key]['medians']] for key in bp.keys()]\n",
    "    [[item.set_color(color) for item in bp[key]['whiskers']] for key in bp.keys()]\n",
    "    [[item.set_color(color) for item in bp[key]['caps']] for key in bp.keys()]\n",
    "\n",
    "    ax.set_title(\"\")\n",
    "    plt.suptitle(\"\");\n",
    "    ax.spines['right'].set_visible(False)\n",
    "    ax.spines['top'].set_visible(False)\n",
    "    ax.yaxis.set_ticks_position('left')\n",
    "    ax.xaxis.set_ticks_position('bottom');\n",
    "    ax.set_xlabel(\"STR Genotype (bp relative to hg19)\", size=20)\n",
    "    ax.set_ylabel(\"Simulated phenotype\", size=20);\n",
    "    ax.set_xticklabels(ax.get_xticklabels(), size=15);\n",
    "    ax.set_yticks(np.arange(-3, 3.1, 1))\n",
    "    ax.set_yticklabels(ax.get_yticks(), size=15);\n",
    "    fig.savefig(fname)\n",
    "    \n",
    "def PlotR2Pval(r2, assoc, fname):\n",
    "    # Pull out SNPs\n",
    "    str_coord = assoc[assoc[\"testclass\"]==\"STR\"][\"locus\"].values[0]\n",
    "    r2 = r2[r2[\"locus1\"]==str_coord]\n",
    "    r2[\"locus\"] = r2[\"locus2\"]\n",
    "    snp_assoc = assoc[assoc[\"testclass\"]==\"SNP\"]\n",
    "    snp_assoc = pd.merge(snp_assoc, r2, on=[\"locus\"])\n",
    "\n",
    "    fig = plt.figure()\n",
    "    fig.set_size_inches((6, 4))\n",
    "    ax = fig.add_subplot(111)\n",
    "    # Plotting all SNPs\n",
    "    ax.scatter(snp_assoc[\"r2\"], snp_assoc[\"pvalue\"].apply(lambda x: -1*np.log10(x)), color=\"gray\", s=8, label=\"SNPs\");\n",
    "    # Plot the STR\n",
    "    ax.scatter([1.0], [assoc[assoc[\"testclass\"]==\"STR\"][\"pvalue\"].apply(lambda x: -1*np.log10(x)).values[0]], color=\"red\", s=40, label=\"STR\")\n",
    "    # Plot the imputed STR\n",
    "    imp_ld = r2_imp[r2_imp[\"locus1\"]==str_coord][\"r2\"].values[0]\n",
    "    imp_p = assoc[assoc[\"testclass\"]==\"IMPSTR\"][\"pvalue\"].apply(lambda x: -1*np.log10(x)).values[0]\n",
    "    ax.scatter([imp_ld], [imp_p], color=\"blue\", s=40, label=\"Imputed STR\");\n",
    "    ax.spines['right'].set_visible(False)\n",
    "    ax.spines['top'].set_visible(False)\n",
    "    ax.yaxis.set_ticks_position('left')\n",
    "    ax.xaxis.set_ticks_position('bottom');\n",
    "    ax.set_xlabel(\"R2 with causal STR\", size=15)\n",
    "    ax.set_ylabel(\"-log10 P\", size=15);\n",
    "    ax.set_xticklabels([\"%.1f\"%x for x in ax.get_xticks()], size=12)\n",
    "    ax.set_yticklabels([\"%.1f\"%x for x in ax.get_yticks()], size=12)\n",
    "    ax.legend(loc=\"upper left\");\n",
    "    fig.savefig(fname)\n",
    "    \n",
    "def GetPower(x, alpha=0.05):\n",
    "    return np.mean([(int(float(item) < alpha)) for item in x])\n",
    "\n",
    "def PlotPower(assoc, fname, alpha=0.05):\n",
    "    # Calculate power for each class\n",
    "    assoc_tmp = assoc.groupby([\"str\",\"testclass\"], as_index=False).agg({\"pvalue\": lambda x: GetPower(x)})\n",
    "    assoc_tmp[\"power\"] = assoc_tmp[\"pvalue\"]\n",
    "    assoc_tmp = assoc_tmp[[\"str\",\"testclass\",\"power\"]]\n",
    "    impdata = assoc_tmp[assoc_tmp[\"testclass\"]==\"IMPSTR\"].copy()\n",
    "    snpdata = assoc_tmp[assoc_tmp[\"testclass\"]==\"SNP\"].copy()\n",
    "    strdata = assoc_tmp[assoc_tmp[\"testclass\"]==\"STR\"].copy()\n",
    "    impdata[\"imp_power\"] = impdata[\"power\"]\n",
    "    snpdata[\"snp_power\"] = snpdata[\"power\"]\n",
    "    strdata[\"str_power\"] = strdata[\"power\"]\n",
    "    power = pd.merge(impdata[[\"str\",\"imp_power\"]], snpdata[[\"str\", \"snp_power\"]], on=[\"str\"])\n",
    "    power = pd.merge(power, strdata[[\"str\",\"str_power\"]], on=[\"str\"])\n",
    "    power[\"powerdiff\"] = power[\"imp_power\"] - power[\"snp_power\"]\n",
    "    power[\"locus\"] = power[\"str\"]\n",
    "    data = pd.merge(power, r2comp, on=[\"locus\"])\n",
    "    g = sns.jointplot(x=\"r2diff\", y=\"powerdiff\", data=data, color=\"black\", edgecolor=\"black\")\n",
    "    g.ax_joint.axvline(x=0, linestyle=\"dashed\", color=\"gray\")\n",
    "    g.ax_joint.axhline(y=0, linestyle=\"dashed\", color=\"gray\")\n",
    "    g.ax_joint.set_xlabel(\"r2imp-r2bestsnp\", size=15)\n",
    "    g.ax_joint.set_ylabel(\"powerimp-powerbestsnp\", size=15)\n",
    "    g.savefig(fname)\n",
    "    print(data.shape[0])\n",
    "    print(np.mean(data[\"r2diff\"]))\n",
    "    print(np.mean(data[\"powerdiff\"]))"
   ]
  },
  {
   "cell_type": "markdown",
   "metadata": {},
   "source": [
    "# Figure 4"
   ]
  },
  {
   "cell_type": "code",
   "execution_count": null,
   "metadata": {},
   "outputs": [],
   "source": [
    "# Load data \n",
    "exp_gt_data = pd.read_csv(os.path.join(SIMDIR, \"suppl_chr21_23934706_pb_allelic.gt\"), sep=\"\\t\")\n",
    "exp_pt_data = pd.read_csv(os.path.join(SIMDIR,\"suppl_chr21_23934706_pb_allelic_0.pheno\"), sep=\"\\t\", names=[\"Sample_ID\", \"x\", \"pt\"])\n",
    "ex_data = pd.merge(exp_gt_data, exp_pt_data, on=[\"Sample_ID\"])\n",
    "ex_data[\"gt\"] = ex_data[\"True_STR_Sum\"]\n",
    "# Fig A\n",
    "PlotExample(ex_data, os.path.join(SIMDIR, OUTPATH, \"SuppFig_PB_ExampleAssociation.pdf\"))"
   ]
  },
  {
   "cell_type": "code",
   "execution_count": 27,
   "metadata": {},
   "outputs": [
    {
     "name": "stderr",
     "output_type": "stream",
     "text": [
      "/home/ileena/.local/lib/python3.4/site-packages/ipykernel_launcher.py:42: SettingWithCopyWarning: \n",
      "A value is trying to be set on a copy of a slice from a DataFrame.\n",
      "Try using .loc[row_indexer,col_indexer] = value instead\n",
      "\n",
      "See the caveats in the documentation: http://pandas.pydata.org/pandas-docs/stable/indexing.html#indexing-view-versus-copy\n"
     ]
    },
    {
     "ename": "KeyError",
     "evalue": "'locus'",
     "output_type": "error",
     "traceback": [
      "\u001b[0;31m---------------------------------------------------------------------------\u001b[0m",
      "\u001b[0;31mKeyError\u001b[0m                                  Traceback (most recent call last)",
      "\u001b[0;32m/usr/lib64/python3.4/site-packages/pandas/core/indexes/base.py\u001b[0m in \u001b[0;36mget_loc\u001b[0;34m(self, key, method, tolerance)\u001b[0m\n\u001b[1;32m   2524\u001b[0m             \u001b[0;32mtry\u001b[0m\u001b[0;34m:\u001b[0m\u001b[0;34m\u001b[0m\u001b[0m\n\u001b[0;32m-> 2525\u001b[0;31m                 \u001b[0;32mreturn\u001b[0m \u001b[0mself\u001b[0m\u001b[0;34m.\u001b[0m\u001b[0m_engine\u001b[0m\u001b[0;34m.\u001b[0m\u001b[0mget_loc\u001b[0m\u001b[0;34m(\u001b[0m\u001b[0mkey\u001b[0m\u001b[0;34m)\u001b[0m\u001b[0;34m\u001b[0m\u001b[0m\n\u001b[0m\u001b[1;32m   2526\u001b[0m             \u001b[0;32mexcept\u001b[0m \u001b[0mKeyError\u001b[0m\u001b[0;34m:\u001b[0m\u001b[0;34m\u001b[0m\u001b[0m\n",
      "\u001b[0;32mpandas/_libs/index.pyx\u001b[0m in \u001b[0;36mpandas._libs.index.IndexEngine.get_loc\u001b[0;34m()\u001b[0m\n",
      "\u001b[0;32mpandas/_libs/index.pyx\u001b[0m in \u001b[0;36mpandas._libs.index.IndexEngine.get_loc\u001b[0;34m()\u001b[0m\n",
      "\u001b[0;32mpandas/_libs/hashtable_class_helper.pxi\u001b[0m in \u001b[0;36mpandas._libs.hashtable.PyObjectHashTable.get_item\u001b[0;34m()\u001b[0m\n",
      "\u001b[0;32mpandas/_libs/hashtable_class_helper.pxi\u001b[0m in \u001b[0;36mpandas._libs.hashtable.PyObjectHashTable.get_item\u001b[0;34m()\u001b[0m\n",
      "\u001b[0;31mKeyError\u001b[0m: 'locus'",
      "\nDuring handling of the above exception, another exception occurred:\n",
      "\u001b[0;31mKeyError\u001b[0m                                  Traceback (most recent call last)",
      "\u001b[0;32m<ipython-input-27-b7a32b175e54>\u001b[0m in \u001b[0;36m<module>\u001b[0;34m()\u001b[0m\n\u001b[1;32m     11\u001b[0m \u001b[0;34m\u001b[0m\u001b[0m\n\u001b[1;32m     12\u001b[0m \u001b[0;31m# Fig B\u001b[0m\u001b[0;34m\u001b[0m\u001b[0;34m\u001b[0m\u001b[0m\n\u001b[0;32m---> 13\u001b[0;31m \u001b[0mPlotR2Pval\u001b[0m\u001b[0;34m(\u001b[0m\u001b[0mr2_snp\u001b[0m\u001b[0;34m,\u001b[0m \u001b[0mexassoc\u001b[0m\u001b[0;34m,\u001b[0m \u001b[0mos\u001b[0m\u001b[0;34m.\u001b[0m\u001b[0mpath\u001b[0m\u001b[0;34m.\u001b[0m\u001b[0mjoin\u001b[0m\u001b[0;34m(\u001b[0m\u001b[0mOUTPATH\u001b[0m\u001b[0;34m,\u001b[0m \u001b[0;34m\"SuppFig_PB_r2vsP.pdf\"\u001b[0m\u001b[0;34m)\u001b[0m\u001b[0;34m)\u001b[0m\u001b[0;34m\u001b[0m\u001b[0m\n\u001b[0m",
      "\u001b[0;32m<ipython-input-21-f8bd56904492>\u001b[0m in \u001b[0;36mPlotR2Pval\u001b[0;34m(r2, assoc, fname)\u001b[0m\n\u001b[1;32m     52\u001b[0m     \u001b[0max\u001b[0m\u001b[0;34m.\u001b[0m\u001b[0mscatter\u001b[0m\u001b[0;34m(\u001b[0m\u001b[0;34m[\u001b[0m\u001b[0;36m1.0\u001b[0m\u001b[0;34m]\u001b[0m\u001b[0;34m,\u001b[0m \u001b[0;34m[\u001b[0m\u001b[0massoc\u001b[0m\u001b[0;34m[\u001b[0m\u001b[0massoc\u001b[0m\u001b[0;34m[\u001b[0m\u001b[0;34m\"testclass\"\u001b[0m\u001b[0;34m]\u001b[0m\u001b[0;34m==\u001b[0m\u001b[0;34m\"STR\"\u001b[0m\u001b[0;34m]\u001b[0m\u001b[0;34m[\u001b[0m\u001b[0;34m\"pvalue\"\u001b[0m\u001b[0;34m]\u001b[0m\u001b[0;34m.\u001b[0m\u001b[0mapply\u001b[0m\u001b[0;34m(\u001b[0m\u001b[0;32mlambda\u001b[0m \u001b[0mx\u001b[0m\u001b[0;34m:\u001b[0m \u001b[0;34m-\u001b[0m\u001b[0;36m1\u001b[0m\u001b[0;34m*\u001b[0m\u001b[0mnp\u001b[0m\u001b[0;34m.\u001b[0m\u001b[0mlog10\u001b[0m\u001b[0;34m(\u001b[0m\u001b[0mx\u001b[0m\u001b[0;34m)\u001b[0m\u001b[0;34m)\u001b[0m\u001b[0;34m.\u001b[0m\u001b[0mvalues\u001b[0m\u001b[0;34m[\u001b[0m\u001b[0;36m0\u001b[0m\u001b[0;34m]\u001b[0m\u001b[0;34m]\u001b[0m\u001b[0;34m,\u001b[0m \u001b[0mcolor\u001b[0m\u001b[0;34m=\u001b[0m\u001b[0;34m\"red\"\u001b[0m\u001b[0;34m,\u001b[0m \u001b[0ms\u001b[0m\u001b[0;34m=\u001b[0m\u001b[0;36m40\u001b[0m\u001b[0;34m,\u001b[0m \u001b[0mlabel\u001b[0m\u001b[0;34m=\u001b[0m\u001b[0;34m\"STR\"\u001b[0m\u001b[0;34m)\u001b[0m\u001b[0;34m\u001b[0m\u001b[0m\n\u001b[1;32m     53\u001b[0m     \u001b[0;31m# Plot the imputed STR\u001b[0m\u001b[0;34m\u001b[0m\u001b[0;34m\u001b[0m\u001b[0m\n\u001b[0;32m---> 54\u001b[0;31m     \u001b[0mimp_ld\u001b[0m \u001b[0;34m=\u001b[0m \u001b[0mr2_imp\u001b[0m\u001b[0;34m[\u001b[0m\u001b[0mr2_imp\u001b[0m\u001b[0;34m[\u001b[0m\u001b[0;34m\"locus\"\u001b[0m\u001b[0;34m]\u001b[0m\u001b[0;34m==\u001b[0m\u001b[0mstr_coord\u001b[0m\u001b[0;34m]\u001b[0m\u001b[0;34m[\u001b[0m\u001b[0;34m\"r2\"\u001b[0m\u001b[0;34m]\u001b[0m\u001b[0;34m.\u001b[0m\u001b[0mvalues\u001b[0m\u001b[0;34m[\u001b[0m\u001b[0;36m0\u001b[0m\u001b[0;34m]\u001b[0m\u001b[0;34m\u001b[0m\u001b[0m\n\u001b[0m\u001b[1;32m     55\u001b[0m     \u001b[0mimp_p\u001b[0m \u001b[0;34m=\u001b[0m \u001b[0massoc\u001b[0m\u001b[0;34m[\u001b[0m\u001b[0massoc\u001b[0m\u001b[0;34m[\u001b[0m\u001b[0;34m\"testclass\"\u001b[0m\u001b[0;34m]\u001b[0m\u001b[0;34m==\u001b[0m\u001b[0;34m\"IMPSTR\"\u001b[0m\u001b[0;34m]\u001b[0m\u001b[0;34m[\u001b[0m\u001b[0;34m\"pvalue\"\u001b[0m\u001b[0;34m]\u001b[0m\u001b[0;34m.\u001b[0m\u001b[0mapply\u001b[0m\u001b[0;34m(\u001b[0m\u001b[0;32mlambda\u001b[0m \u001b[0mx\u001b[0m\u001b[0;34m:\u001b[0m \u001b[0;34m-\u001b[0m\u001b[0;36m1\u001b[0m\u001b[0;34m*\u001b[0m\u001b[0mnp\u001b[0m\u001b[0;34m.\u001b[0m\u001b[0mlog10\u001b[0m\u001b[0;34m(\u001b[0m\u001b[0mx\u001b[0m\u001b[0;34m)\u001b[0m\u001b[0;34m)\u001b[0m\u001b[0;34m.\u001b[0m\u001b[0mvalues\u001b[0m\u001b[0;34m[\u001b[0m\u001b[0;36m0\u001b[0m\u001b[0;34m]\u001b[0m\u001b[0;34m\u001b[0m\u001b[0m\n\u001b[1;32m     56\u001b[0m     \u001b[0max\u001b[0m\u001b[0;34m.\u001b[0m\u001b[0mscatter\u001b[0m\u001b[0;34m(\u001b[0m\u001b[0;34m[\u001b[0m\u001b[0mimp_ld\u001b[0m\u001b[0;34m]\u001b[0m\u001b[0;34m,\u001b[0m \u001b[0;34m[\u001b[0m\u001b[0mimp_p\u001b[0m\u001b[0;34m]\u001b[0m\u001b[0;34m,\u001b[0m \u001b[0mcolor\u001b[0m\u001b[0;34m=\u001b[0m\u001b[0;34m\"blue\"\u001b[0m\u001b[0;34m,\u001b[0m \u001b[0ms\u001b[0m\u001b[0;34m=\u001b[0m\u001b[0;36m40\u001b[0m\u001b[0;34m,\u001b[0m \u001b[0mlabel\u001b[0m\u001b[0;34m=\u001b[0m\u001b[0;34m\"Imputed STR\"\u001b[0m\u001b[0;34m)\u001b[0m\u001b[0;34m;\u001b[0m\u001b[0;34m\u001b[0m\u001b[0m\n",
      "\u001b[0;32m/usr/lib64/python3.4/site-packages/pandas/core/frame.py\u001b[0m in \u001b[0;36m__getitem__\u001b[0;34m(self, key)\u001b[0m\n\u001b[1;32m   2137\u001b[0m             \u001b[0;32mreturn\u001b[0m \u001b[0mself\u001b[0m\u001b[0;34m.\u001b[0m\u001b[0m_getitem_multilevel\u001b[0m\u001b[0;34m(\u001b[0m\u001b[0mkey\u001b[0m\u001b[0;34m)\u001b[0m\u001b[0;34m\u001b[0m\u001b[0m\n\u001b[1;32m   2138\u001b[0m         \u001b[0;32melse\u001b[0m\u001b[0;34m:\u001b[0m\u001b[0;34m\u001b[0m\u001b[0m\n\u001b[0;32m-> 2139\u001b[0;31m             \u001b[0;32mreturn\u001b[0m \u001b[0mself\u001b[0m\u001b[0;34m.\u001b[0m\u001b[0m_getitem_column\u001b[0m\u001b[0;34m(\u001b[0m\u001b[0mkey\u001b[0m\u001b[0;34m)\u001b[0m\u001b[0;34m\u001b[0m\u001b[0m\n\u001b[0m\u001b[1;32m   2140\u001b[0m \u001b[0;34m\u001b[0m\u001b[0m\n\u001b[1;32m   2141\u001b[0m     \u001b[0;32mdef\u001b[0m \u001b[0m_getitem_column\u001b[0m\u001b[0;34m(\u001b[0m\u001b[0mself\u001b[0m\u001b[0;34m,\u001b[0m \u001b[0mkey\u001b[0m\u001b[0;34m)\u001b[0m\u001b[0;34m:\u001b[0m\u001b[0;34m\u001b[0m\u001b[0m\n",
      "\u001b[0;32m/usr/lib64/python3.4/site-packages/pandas/core/frame.py\u001b[0m in \u001b[0;36m_getitem_column\u001b[0;34m(self, key)\u001b[0m\n\u001b[1;32m   2144\u001b[0m         \u001b[0;31m# get column\u001b[0m\u001b[0;34m\u001b[0m\u001b[0;34m\u001b[0m\u001b[0m\n\u001b[1;32m   2145\u001b[0m         \u001b[0;32mif\u001b[0m \u001b[0mself\u001b[0m\u001b[0;34m.\u001b[0m\u001b[0mcolumns\u001b[0m\u001b[0;34m.\u001b[0m\u001b[0mis_unique\u001b[0m\u001b[0;34m:\u001b[0m\u001b[0;34m\u001b[0m\u001b[0m\n\u001b[0;32m-> 2146\u001b[0;31m             \u001b[0;32mreturn\u001b[0m \u001b[0mself\u001b[0m\u001b[0;34m.\u001b[0m\u001b[0m_get_item_cache\u001b[0m\u001b[0;34m(\u001b[0m\u001b[0mkey\u001b[0m\u001b[0;34m)\u001b[0m\u001b[0;34m\u001b[0m\u001b[0m\n\u001b[0m\u001b[1;32m   2147\u001b[0m \u001b[0;34m\u001b[0m\u001b[0m\n\u001b[1;32m   2148\u001b[0m         \u001b[0;31m# duplicate columns & possible reduce dimensionality\u001b[0m\u001b[0;34m\u001b[0m\u001b[0;34m\u001b[0m\u001b[0m\n",
      "\u001b[0;32m/usr/lib64/python3.4/site-packages/pandas/core/generic.py\u001b[0m in \u001b[0;36m_get_item_cache\u001b[0;34m(self, item)\u001b[0m\n\u001b[1;32m   1840\u001b[0m         \u001b[0mres\u001b[0m \u001b[0;34m=\u001b[0m \u001b[0mcache\u001b[0m\u001b[0;34m.\u001b[0m\u001b[0mget\u001b[0m\u001b[0;34m(\u001b[0m\u001b[0mitem\u001b[0m\u001b[0;34m)\u001b[0m\u001b[0;34m\u001b[0m\u001b[0m\n\u001b[1;32m   1841\u001b[0m         \u001b[0;32mif\u001b[0m \u001b[0mres\u001b[0m \u001b[0;32mis\u001b[0m \u001b[0;32mNone\u001b[0m\u001b[0;34m:\u001b[0m\u001b[0;34m\u001b[0m\u001b[0m\n\u001b[0;32m-> 1842\u001b[0;31m             \u001b[0mvalues\u001b[0m \u001b[0;34m=\u001b[0m \u001b[0mself\u001b[0m\u001b[0;34m.\u001b[0m\u001b[0m_data\u001b[0m\u001b[0;34m.\u001b[0m\u001b[0mget\u001b[0m\u001b[0;34m(\u001b[0m\u001b[0mitem\u001b[0m\u001b[0;34m)\u001b[0m\u001b[0;34m\u001b[0m\u001b[0m\n\u001b[0m\u001b[1;32m   1843\u001b[0m             \u001b[0mres\u001b[0m \u001b[0;34m=\u001b[0m \u001b[0mself\u001b[0m\u001b[0;34m.\u001b[0m\u001b[0m_box_item_values\u001b[0m\u001b[0;34m(\u001b[0m\u001b[0mitem\u001b[0m\u001b[0;34m,\u001b[0m \u001b[0mvalues\u001b[0m\u001b[0;34m)\u001b[0m\u001b[0;34m\u001b[0m\u001b[0m\n\u001b[1;32m   1844\u001b[0m             \u001b[0mcache\u001b[0m\u001b[0;34m[\u001b[0m\u001b[0mitem\u001b[0m\u001b[0;34m]\u001b[0m \u001b[0;34m=\u001b[0m \u001b[0mres\u001b[0m\u001b[0;34m\u001b[0m\u001b[0m\n",
      "\u001b[0;32m/usr/lib64/python3.4/site-packages/pandas/core/internals.py\u001b[0m in \u001b[0;36mget\u001b[0;34m(self, item, fastpath)\u001b[0m\n\u001b[1;32m   3841\u001b[0m \u001b[0;34m\u001b[0m\u001b[0m\n\u001b[1;32m   3842\u001b[0m             \u001b[0;32mif\u001b[0m \u001b[0;32mnot\u001b[0m \u001b[0misna\u001b[0m\u001b[0;34m(\u001b[0m\u001b[0mitem\u001b[0m\u001b[0;34m)\u001b[0m\u001b[0;34m:\u001b[0m\u001b[0;34m\u001b[0m\u001b[0m\n\u001b[0;32m-> 3843\u001b[0;31m                 \u001b[0mloc\u001b[0m \u001b[0;34m=\u001b[0m \u001b[0mself\u001b[0m\u001b[0;34m.\u001b[0m\u001b[0mitems\u001b[0m\u001b[0;34m.\u001b[0m\u001b[0mget_loc\u001b[0m\u001b[0;34m(\u001b[0m\u001b[0mitem\u001b[0m\u001b[0;34m)\u001b[0m\u001b[0;34m\u001b[0m\u001b[0m\n\u001b[0m\u001b[1;32m   3844\u001b[0m             \u001b[0;32melse\u001b[0m\u001b[0;34m:\u001b[0m\u001b[0;34m\u001b[0m\u001b[0m\n\u001b[1;32m   3845\u001b[0m                 \u001b[0mindexer\u001b[0m \u001b[0;34m=\u001b[0m \u001b[0mnp\u001b[0m\u001b[0;34m.\u001b[0m\u001b[0marange\u001b[0m\u001b[0;34m(\u001b[0m\u001b[0mlen\u001b[0m\u001b[0;34m(\u001b[0m\u001b[0mself\u001b[0m\u001b[0;34m.\u001b[0m\u001b[0mitems\u001b[0m\u001b[0;34m)\u001b[0m\u001b[0;34m)\u001b[0m\u001b[0;34m[\u001b[0m\u001b[0misna\u001b[0m\u001b[0;34m(\u001b[0m\u001b[0mself\u001b[0m\u001b[0;34m.\u001b[0m\u001b[0mitems\u001b[0m\u001b[0;34m)\u001b[0m\u001b[0;34m]\u001b[0m\u001b[0;34m\u001b[0m\u001b[0m\n",
      "\u001b[0;32m/usr/lib64/python3.4/site-packages/pandas/core/indexes/base.py\u001b[0m in \u001b[0;36mget_loc\u001b[0;34m(self, key, method, tolerance)\u001b[0m\n\u001b[1;32m   2525\u001b[0m                 \u001b[0;32mreturn\u001b[0m \u001b[0mself\u001b[0m\u001b[0;34m.\u001b[0m\u001b[0m_engine\u001b[0m\u001b[0;34m.\u001b[0m\u001b[0mget_loc\u001b[0m\u001b[0;34m(\u001b[0m\u001b[0mkey\u001b[0m\u001b[0;34m)\u001b[0m\u001b[0;34m\u001b[0m\u001b[0m\n\u001b[1;32m   2526\u001b[0m             \u001b[0;32mexcept\u001b[0m \u001b[0mKeyError\u001b[0m\u001b[0;34m:\u001b[0m\u001b[0;34m\u001b[0m\u001b[0m\n\u001b[0;32m-> 2527\u001b[0;31m                 \u001b[0;32mreturn\u001b[0m \u001b[0mself\u001b[0m\u001b[0;34m.\u001b[0m\u001b[0m_engine\u001b[0m\u001b[0;34m.\u001b[0m\u001b[0mget_loc\u001b[0m\u001b[0;34m(\u001b[0m\u001b[0mself\u001b[0m\u001b[0;34m.\u001b[0m\u001b[0m_maybe_cast_indexer\u001b[0m\u001b[0;34m(\u001b[0m\u001b[0mkey\u001b[0m\u001b[0;34m)\u001b[0m\u001b[0;34m)\u001b[0m\u001b[0;34m\u001b[0m\u001b[0m\n\u001b[0m\u001b[1;32m   2528\u001b[0m \u001b[0;34m\u001b[0m\u001b[0m\n\u001b[1;32m   2529\u001b[0m         \u001b[0mindexer\u001b[0m \u001b[0;34m=\u001b[0m \u001b[0mself\u001b[0m\u001b[0;34m.\u001b[0m\u001b[0mget_indexer\u001b[0m\u001b[0;34m(\u001b[0m\u001b[0;34m[\u001b[0m\u001b[0mkey\u001b[0m\u001b[0;34m]\u001b[0m\u001b[0;34m,\u001b[0m \u001b[0mmethod\u001b[0m\u001b[0;34m=\u001b[0m\u001b[0mmethod\u001b[0m\u001b[0;34m,\u001b[0m \u001b[0mtolerance\u001b[0m\u001b[0;34m=\u001b[0m\u001b[0mtolerance\u001b[0m\u001b[0;34m)\u001b[0m\u001b[0;34m\u001b[0m\u001b[0m\n",
      "\u001b[0;32mpandas/_libs/index.pyx\u001b[0m in \u001b[0;36mpandas._libs.index.IndexEngine.get_loc\u001b[0;34m()\u001b[0m\n",
      "\u001b[0;32mpandas/_libs/index.pyx\u001b[0m in \u001b[0;36mpandas._libs.index.IndexEngine.get_loc\u001b[0;34m()\u001b[0m\n",
      "\u001b[0;32mpandas/_libs/hashtable_class_helper.pxi\u001b[0m in \u001b[0;36mpandas._libs.hashtable.PyObjectHashTable.get_item\u001b[0;34m()\u001b[0m\n",
      "\u001b[0;32mpandas/_libs/hashtable_class_helper.pxi\u001b[0m in \u001b[0;36mpandas._libs.hashtable.PyObjectHashTable.get_item\u001b[0;34m()\u001b[0m\n",
      "\u001b[0;31mKeyError\u001b[0m: 'locus'"
     ]
    },
    {
     "data": {
      "image/png": "[encoded data removed]",
      "text/plain": [
       "<matplotlib.figure.Figure at 0x7f6cfda24940>"
      ]
     },
     "metadata": {},
     "output_type": "display_data"
    }
   ],
   "source": [
    "# Load LD values\n",
    "r2_snp = pd.read_csv(os.path.join(DATADIR, \"gwas-power\", \"r2_snp.tab\"), sep=\"\\t\")\n",
    "r2_imp = pd.read_csv(os.path.join(DATADIR, \"gwas-power\", \"r2_imp.tab\"), sep=\"\\t\")\n",
    "best_snp = r2_snp.groupby(\"locus1\", as_index=False).agg({\"r2\": max, \"freq_het\": np.mean})\n",
    "r2comp = pd.merge(best_snp, r2_imp, on=[\"locus1\"])[[\"locus1\",\"freq_het_x\",\"r2_x\",\"r2_y\"]]\n",
    "r2comp.columns = [\"locus\",\"het\",\"r2_bestsnp\",\"r2_ssc\"]\n",
    "r2comp[\"r2diff\"] = r2comp[\"r2_ssc\"]-r2comp[\"r2_bestsnp\"]\n",
    "\n",
    "# Assoc results\n",
    "exassoc = pd.read_csv(os.path.join(SIMDIR, \"suppl_chr21_23934706_pb_allelic_power_simulation_results.txt\"), sep=\"\\t\")\n",
    "\n",
    "# Fig B\n",
    "PlotR2Pval(r2_snp, exassoc, os.path.join(OUTPATH, \"SuppFig_PB_r2vsP.pdf\"))\n"
   ]
  },
  {
   "cell_type": "code",
   "execution_count": null,
   "metadata": {},
   "outputs": [],
   "source": [
    "# Sim Power results\n",
    "assoc = pd.read_csv(os.path.join(SIMDIR, \"suppl_chr21_pb_allelic_sims_power_simulation_results.txt\"), sep=\"\\t\")\n",
    "PlotPower(assoc, os.path.join(OUTPATH, \"SuppFig_PB_GWASPower.pdf\"), alpha=0.05)"
   ]
  },
  {
   "cell_type": "markdown",
   "metadata": {},
   "source": [
    "# Supplementary Figure: r2imp-r2best vs. num alleles"
   ]
  },
  {
   "cell_type": "code",
   "execution_count": null,
   "metadata": {},
   "outputs": [],
   "source": [
    "fig = plt.figure()\n",
    "fig.set_size_inches((6, 4))\n",
    "ax = fig.add_subplot(111)\n",
    "ldata[ldata[\"numAllele\"]<=10].boxplot(column=\"r2diff\", by=\"numAllele\", grid=False, ax=ax, showmeans=True);\n",
    "ax.spines['right'].set_visible(False)\n",
    "ax.spines['top'].set_visible(False)\n",
    "ax.yaxis.set_ticks_position('left')\n",
    "ax.xaxis.set_ticks_position('bottom');\n",
    "ax.axhline(y=0, linestyle=\"dashed\", color=\"gray\", linewidth=0.5)\n",
    "ax.set_ylim(bottom=-0.4, top=0.8)\n",
    "ax.set_title(\"\")\n",
    "plt.suptitle(\"\")\n",
    "ax.set_xlabel(\"Number of alleles\", size=15)\n",
    "ax.set_ylabel(\"r2imp-r2bestsnp\", size=15)\n",
    "ax.set_xticklabels(ax.get_xticks(), size=12)\n",
    "ax.set_yticklabels([\"%.1f\"%x for x in ax.get_yticks()], size=12);\n",
    "fig.savefig(os.path.join(OUTPATH, \"SuppFig_PB_r2gain.pdf\"))"
   ]
  },
  {
   "cell_type": "markdown",
   "metadata": {},
   "source": []
  }
 ],
 "metadata": {
  "kernelspec": {
   "display_name": "Python 3",
   "language": "python",
   "name": "python3"
  },
  "language_info": {
   "codemirror_mode": {
    "name": "ipython",
    "version": 3
   },
   "file_extension": ".py",
   "mimetype": "text/x-python",
   "name": "python",
   "nbconvert_exporter": "python",
   "pygments_lexer": "ipython3",
   "version": "3.4.5"
  }
 },
 "nbformat": 4,
 "nbformat_minor": 2
}

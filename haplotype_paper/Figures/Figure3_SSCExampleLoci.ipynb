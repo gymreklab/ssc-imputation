{
 "cells": [
  {
   "cell_type": "code",
   "execution_count": 1,
   "metadata": {
    "collapsed": false
   },
   "outputs": [
    {
     "name": "stdout",
     "output_type": "stream",
     "text": [
      "Populating the interactive namespace from numpy and matplotlib\n"
     ]
    }
   ],
   "source": [
    "%pylab inline\n",
    "from vplot import *\n",
    "import pandas as pd\n",
    "import os\n",
    "import scipy.stats\n",
    "\n",
    "# Which locus to use\n",
    "CHROM=21\n",
    "START=16319166 # Figure example\n",
    "#START=15449764\n",
    "#START=17632350\n",
    "OUTPATH=\"pdfs/\"\n",
    "PREFIX=\"Figure3\"\n",
    "DATADIR=\"/storage/mgymrek/ssc-imputation/\"\n",
    "\n",
    "# Allow us to edit fonts in Illustrator\n",
    "import matplotlib\n",
    "matplotlib.rcParams['ps.useafm'] = True\n",
    "matplotlib.rcParams['pdf.use14corefonts'] = True\n",
    "matplotlib.rcParams['text.usetex'] = True\n",
    "\n",
    "import matplotlib.path as mpath\n",
    "import matplotlib.lines as mlines\n",
    "import matplotlib.patches as mpatches\n",
    "from matplotlib.collections import PatchCollection\n",
    "from matplotlib import gridspec"
   ]
  },
  {
   "cell_type": "code",
   "execution_count": 2,
   "metadata": {
    "collapsed": false
   },
   "outputs": [
    {
     "name": "stderr",
     "output_type": "stream",
     "text": [
      "/usr/lib64/python2.7/site-packages/scipy/stats/stats.py:3029: RuntimeWarning: invalid value encountered in double_scalars\n",
      "  r = r_num / r_den\n",
      "/usr/lib64/python2.7/site-packages/scipy/stats/stats.py:3029: RuntimeWarning: invalid value encountered in double_scalars\n",
      "  r = r_num / r_den\n"
     ]
    }
   ],
   "source": [
    "%%bash -s \"$CHROM\" \"$START\" \n",
    "CHROM=$1\n",
    "START=$2\n",
    "WINDOW=5000\n",
    "#VCF=/storage/s1saini/manuscript_strsnp/fig3/loo/chr${CHROM}.str.snp.vcf.gz\n",
    "#VCF=/home/mgymrek/workspace/ssc-imputation/utils/test.vcf.gz # TODO update with new snpstr vcf\n",
    "VCF=/storage/s1saini/hipstr_allfilters/str_snp/chr21.str.snp.feb18.vcf.gz\n",
    "\n",
    "# Load true/imputed genotypes\n",
    "grep $CHROM:$START /storage/s1saini/manuscript_strsnp/fig3/loo/*.diff.txt | \\\n",
    "    awk -F\"/\" '{print $NF}' | \\\n",
    "    sed 's/.diff.txt:${CHROM}:${START}//' > ssc_res.tab\n",
    "    \n",
    "# Get SNPs to use (only ones in LD with the STR)\n",
    "#MINMAF=0.01, MINR2=0.01\n",
    "/home/mgymrek/workspace/ssc-imputation/snpstr-ld/snp_str_ld_calculator.py \\\n",
    "  --str-vcf /storage/s1saini/hipstr_rerun/chr${CHROM}/hipstr.chr${CHROM}.with.1kg.filtered.vcf.gz \\\n",
    "  --snp-vcf /storage/resources/datasets/SSC_SNP_v2/shapeit.chr${CHROM}.with.ref.vcf.gz \\\n",
    "  --pairwise-snpstr \\\n",
    "  --region ${CHROM}:$START-$START \\\n",
    "  --max-dist $WINDOW | grep -v \"nan\" | grep -v locus2 | \\\n",
    "      awk '($5>=0.01 && $7>0.01) {print $2 }'| sed 's/:/\\t/' | \\\n",
    "    awk '{print $1 \"\\t\" $2-1 \"\\t\" $2}' > snp_loci.bed\n",
    "\n",
    "# Get allele-r2 to sort on later\n",
    "/home/mgymrek/workspace/ssc-imputation/snpstr-ld/snp_str_ld_calculator.py \\\n",
    "  --str-vcf /storage/s1saini/hipstr_rerun/chr${CHROM}/hipstr.chr${CHROM}.with.1kg.filtered.vcf.gz \\\n",
    "  --snp-vcf /storage/resources/datasets/SSC_SNP_v2/shapeit.chr${CHROM}.with.ref.vcf.gz \\\n",
    "  --pairwise-snpstr --allele-r2 \\\n",
    "  --region ${CHROM}:$START-$START \\\n",
    "  --max-dist $WINDOW | grep -v \"nan\" > snp_loci_alleler2.tab\n",
    "  \n",
    "# Extract haplotypes\n",
    "bcftools query -R snp_loci.bed \\\n",
    "     -f \"%ID\\t%POS\\t%REF\\t%ALT\\t[%GT\\t]\\n\" \\\n",
    "     $VCF | awk '(length($3)==1)' | sed 's/|/\\t/g' > haplotypes.tab\n",
    "bcftools query -r ${CHROM}:${START}-${START} \\\n",
    "    -f \"%ID\\t%POS\\t%REF\\t%ALT\\t[%GT\\t]\\n\" ${VCF} | \\\n",
    "    awk -v\"start=$START\" '($2==start)' | \\\n",
    "    sed 's/|/\\t/g' >> haplotypes.tab"
   ]
  },
  {
   "cell_type": "code",
   "execution_count": 8,
   "metadata": {
    "collapsed": false
   },
   "outputs": [
    {
     "data": {
      "text/plain": [
       "(0.9646571126140889, 0.0)"
      ]
     },
     "execution_count": 8,
     "metadata": {},
     "output_type": "execute_result"
    },
    {
     "data": {
      "image/png": "[encoded data removed]",
      "text/plain": [
       "<matplotlib.figure.Figure at 0x7fd45644d7b8>"
      ]
     },
     "metadata": {},
     "output_type": "display_data"
    }
   ],
   "source": [
    "# Bubble plot\n",
    "d = pd.read_csv(\"ssc_res.tab\", sep=\" \", names=[\"sample\",\"true_1\",\"true_2\",\"impute_1\",\"impute_2\"], usecols=[0,1,2,4,5])\n",
    "d[\"sum_true\"] = d[\"true_1\"]+d[\"true_2\"]\n",
    "d[\"sum_imp\"] = d[\"impute_1\"] + d[\"impute_2\"]\n",
    "bubbles = d.groupby([\"sum_true\",\"sum_imp\"], as_index=False).agg({\"sample\": len})\n",
    "\n",
    "# Bubble chart of obs vs. exp\n",
    "minval=max([min(bubbles[\"sum_true\"]),min(bubbles[\"sum_imp\"])])\n",
    "maxval=min([max(bubbles[\"sum_true\"]),max(bubbles[\"sum_imp\"])])\n",
    "\n",
    "fig = plt.figure()\n",
    "ax = fig.add_subplot(111)\n",
    "ax.scatter(bubbles[\"sum_true\"], bubbles[\"sum_imp\"], s=bubbles[\"sample\"],\n",
    "           color=\"gray\", edgecolor=\"black\", linewidth=1)\n",
    "ax.plot([minval,maxval], [minval,maxval], color=\"black\", linestyle=\"dashed\")\n",
    "\n",
    "# Plot legend\n",
    "xvals = [-10, -10, -10]\n",
    "yvals = [10, 20, 30]\n",
    "sizes = [10, 100, 1000]\n",
    "ax.scatter(xvals, yvals, s=sizes, color=\"gray\", edgecolor=\"black\", linewidth=1)\n",
    "\n",
    "ax.spines['right'].set_visible(False)\n",
    "ax.spines['top'].set_visible(False)\n",
    "ax.yaxis.set_ticks_position('left')\n",
    "ax.xaxis.set_ticks_position('bottom')\n",
    "ax.set_xlabel(\"Genotyped dosage\", size=15)\n",
    "ax.set_ylabel(\"Imputed dosage\", size=15)\n",
    "ax.set_xticklabels([int(x) for x in ax.get_xticks()], size=12)\n",
    "ax.set_yticklabels([int(x) for x in ax.get_yticks()], size=12);\n",
    "\n",
    "fig.savefig(os.path.join(OUTPATH, \"%s_ExampleBubble.pdf\"%PREFIX))\n",
    "scipy.stats.pearsonr(d[\"sum_true\"], d[\"sum_imp\"])\n"
   ]
  },
  {
   "cell_type": "code",
   "execution_count": 4,
   "metadata": {
    "collapsed": false
   },
   "outputs": [
    {
     "data": {
      "image/png": "[encoded data removed]",
      "text/plain": [
       "<matplotlib.figure.Figure at 0x7fd45679ed68>"
      ]
     },
     "metadata": {},
     "output_type": "display_data"
    }
   ],
   "source": [
    "# Vasarely plot\n",
    "true_gts, imputed_gts = GetTrueImpute(d)\n",
    "Vasarely(imputed_gts, true_gts, os.path.join(OUTPATH, \"%s_ExampleVasarely.pdf\"%PREFIX))"
   ]
  },
  {
   "cell_type": "code",
   "execution_count": 5,
   "metadata": {
    "collapsed": false
   },
   "outputs": [],
   "source": [
    "# Read in haplotypes\n",
    "numhaps = 1916*2\n",
    "colnames = [\"id\",\"pos\",\"ref\",\"alt\"] + [\"hap_%s\"%i for i in range(numhaps)]\n",
    "haplotypes = pd.read_csv(\"haplotypes.tab\", sep=\"\\t\",\n",
    "                        names=colnames, usecols=range(len(colnames)))\n",
    "haplotypes[\"vartype\"] = haplotypes.apply(lambda x: [\"SNP\",\"STR\"][int(len(x[\"ref\"])>1)], 1)\n",
    "haplotypes.index = [\"pos\"+str(haplotypes[\"pos\"].values[i]) for i in range(haplotypes.shape[0]-1)] + [\"STR\"]\n",
    "\n",
    "# Annotate STR lengths\n",
    "ref = haplotypes[haplotypes[\"vartype\"]==\"STR\"][\"ref\"].values[0]\n",
    "alt = haplotypes[haplotypes[\"vartype\"]==\"STR\"][\"alt\"].values[0].split(\",\")\n",
    "str_allele_lengths = [len(ref)] + [len(item) for item in alt]\n",
    "str_allele_lengths = [item-len(ref) for item in str_allele_lengths]\n",
    "for i in range(numhaps):\n",
    "    col = \"hap_%s\"%i\n",
    "    gtlen = str_allele_lengths[haplotypes[haplotypes[\"vartype\"]==\"STR\"][col].values[0]]\n",
    "    haplotypes.loc[\"STR\", col] = gtlen\n",
    "\n",
    "# Reaad in allele-r2\n",
    "hapcols = colnames[4:]\n",
    "haplotype_filt = haplotypes[hapcols].transpose()\n",
    "\n",
    "allsnps = [item for item in haplotype_filt.columns if \"pos\" in item]\n",
    "ar2 = pd.read_csv(\"snp_loci_alleler2.tab\", sep=\"\\t\")\n",
    "ar2[\"pos\"] = ar2[\"locus2\"].apply(lambda x: \"pos\"+x.split(\":\")[1])\n",
    "ar2 = ar2[ar2[\"pos\"].apply(lambda x: x in allsnps)]\n",
    "best_ar2 = ar2.groupby(\"pos\", as_index=False).agg({\"r2\": max}).sort_values(\"r2\", ascending=True)\n",
    "\n",
    "# Get haplotype matrix, sort by allele-r2\n",
    "haplotype_filt = haplotype_filt.sort_values(by=\"STR\")\n",
    "haplotype_filt = haplotype_filt.sort_values([\"STR\"]+list(best_ar2[\"pos\"].values), ascending=False)"
   ]
  },
  {
   "cell_type": "code",
   "execution_count": 6,
   "metadata": {
    "collapsed": false
   },
   "outputs": [
    {
     "name": "stdout",
     "output_type": "stream",
     "text": [
      "0:(156, 14)\n",
      "-8:(57, 14)\n",
      "-4:(1208, 14)\n",
      "4:(1790, 14)\n",
      "8:(114, 14)\n",
      "12:(432, 14)\n",
      "16:(60, 14)\n"
     ]
    },
    {
     "data": {
      "image/png": "[encoded data removed]",
      "text/plain": [
       "<matplotlib.figure.Figure at 0x7fd4aba48c50>"
      ]
     },
     "metadata": {},
     "output_type": "display_data"
    },
    {
     "data": {
      "image/png": "[encoded data removed]",
      "text/plain": [
       "<matplotlib.figure.Figure at 0x7fd4ab7e8128>"
      ]
     },
     "metadata": {},
     "output_type": "display_data"
    },
    {
     "data": {
      "image/png": "[encoded data removed]",
      "text/plain": [
       "<matplotlib.figure.Figure at 0x7fd4abcd4518>"
      ]
     },
     "metadata": {},
     "output_type": "display_data"
    },
    {
     "data": {
      "image/png": "[encoded data removed]",
      "text/plain": [
       "<matplotlib.figure.Figure at 0x7fd4a922e208>"
      ]
     },
     "metadata": {},
     "output_type": "display_data"
    },
    {
     "data": {
      "image/png": "[encoded data removed]",
      "text/plain": [
       "<matplotlib.figure.Figure at 0x7fd4a94f5128>"
      ]
     },
     "metadata": {},
     "output_type": "display_data"
    },
    {
     "data": {
      "image/png": "[encoded data removed]",
      "text/plain": [
       "<matplotlib.figure.Figure at 0x7fd4a97bc198>"
      ]
     },
     "metadata": {},
     "output_type": "display_data"
    },
    {
     "data": {
      "image/png": "[encoded data removed]",
      "text/plain": [
       "<matplotlib.figure.Figure at 0x7fd4a9a10358>"
      ]
     },
     "metadata": {},
     "output_type": "display_data"
    }
   ],
   "source": [
    "def PlotHapmaptrix(hapmatrix, ar2, allele, allsnps, fname):\n",
    "    box_w =  1.0/len(allsnps)\n",
    "    box_h = box_w\n",
    "    hap_height = hapmatrix.shape[0]*0.0025\n",
    "    legend_height = 0.5\n",
    "    fig = plt.figure()\n",
    "    fig.set_size_inches(3, hap_height + legend_height)\n",
    "    gs = gridspec.GridSpec(2, 1, height_ratios=[hap_height, legend_height]) \n",
    "    ax = fig.add_subplot(gs[0])\n",
    "    # Plot SNPs\n",
    "    imx = ax.imshow(hapmatrix, cmap=plt.cm.Greys.from_list(\"snp\", [\"lightgray\",\"black\"]), \n",
    "              aspect=\"auto\", extent=(0, hapmatrix.shape[1], box_h, hapmatrix.shape[0]-box_h))\n",
    "    ax2 = fig.add_subplot(gs[1])\n",
    "    # Plot snp allele r2\n",
    "    cm = plt.cm.Blues.from_list(\"freq\",[\"white\",\"blue\"])\n",
    "    patches = []\n",
    "    colors = []\n",
    "    for i in range(len(allsnps)):\n",
    "        r2 = ar2[(ar2[\"pos\"] == allsnps[i]) & (ar2[\"allele\"]==allele)][\"r2\"].values[0]\n",
    "        x = i*box_w\n",
    "        y = 0\n",
    "        rect = mpatches.Rectangle([x, y], box_w, box_h)\n",
    "        patches.append(rect)\n",
    "        colors.append(cm(r2))\n",
    "    collection = PatchCollection(patches, color=colors, edgecolor=\"black\")\n",
    "    ax2.add_collection(collection)\n",
    "\n",
    "    ax.set_yticks([]);\n",
    "    ax.set_yticklabels([]);\n",
    "    ax.set_xticks([]);\n",
    "    ax.set_xticklabels([]);\n",
    "    ax2.set_ylim(bottom=0, top=box_h)\n",
    "    ax2.set_yticks([]);\n",
    "    ax2.set_yticklabels([]);\n",
    "    ax2.set_xticks([]);\n",
    "    ax2.set_xticklabels([]);\n",
    "    ax.set_title(\"STR allele %s\"%allele)\n",
    "    fig.subplots_adjust(hspace=0)\n",
    "    fig.savefig(fname)\n",
    "    \n",
    "for allele in str_allele_lengths:\n",
    "    hapmatrix = np.matrix(haplotype_filt[haplotype_filt[\"STR\"]==allele][allsnps])\n",
    "    if hapmatrix.shape[0]>= 10:\n",
    "        print(\"%s:%s\"%(allele, hapmatrix.shape))\n",
    "        fname = os.path.join(OUTPATH, \"%s_Example%s.pdf\"%(PREFIX, allele))\n",
    "        PlotHapmaptrix(hapmatrix, ar2, allele, allsnps, fname)"
   ]
  },
  {
   "cell_type": "code",
   "execution_count": 7,
   "metadata": {
    "collapsed": false
   },
   "outputs": [
    {
     "data": {
      "image/png": "[encoded data removed]",
      "text/plain": [
       "<matplotlib.figure.Figure at 0x7fd4aba1b2e8>"
      ]
     },
     "metadata": {},
     "output_type": "display_data"
    }
   ],
   "source": [
    "snppos = [int(item[3:]) for item in allsnps]\n",
    "fig = plt.figure()\n",
    "ax = fig.add_subplot(111)\n",
    "ax.plot([min(snppos), max(snppos)], [0, 0])\n",
    "ax.scatter([START],[0], color=\"red\") # STR\n",
    "for item in snppos:\n",
    "    ax.scatter([item], [0], color=\"black\") # SNPs\n",
    "fig.savefig(os.path.join(OUTPATH, \"%s_ExamplePositions.pdf\"%PREFIX))"
   ]
  },
  {
   "cell_type": "markdown",
   "metadata": {},
   "source": [
    "# Figure 2C: Per-allele imputation r2"
   ]
  },
  {
   "cell_type": "code",
   "execution_count": 30,
   "metadata": {
    "collapsed": false
   },
   "outputs": [
    {
     "data": {
      "image/png": "[encoded data removed]",
      "text/plain": [
       "<matplotlib.figure.Figure at 0x7fd4ab99e048>"
      ]
     },
     "metadata": {},
     "output_type": "display_data"
    }
   ],
   "source": [
    "ar2 = pd.read_csv(os.path.join(DATADIR, \"loo\",\"l1o_alleler2.tab\"), sep=\"\\t\")\n",
    "ar2 = ar2[(ar2[\"locus1\"]==\"%s:%s\"%(CHROM, START)) & ~np.isnan((ar2[\"r2\"]))]\n",
    "ar2 = ar2.sort_values(\"allele\")\n",
    "\n",
    "fig = plt.figure()\n",
    "ax = fig.add_subplot(111)\n",
    "ax.bar(left=list(ar2[\"allele\"].values), height=ar2[\"r2\"], width=2, color='#1b9e77', edgecolor=\"black\", linewidth=2)\n",
    "\n",
    "ax.spines['right'].set_visible(False)\n",
    "ax.spines['top'].set_visible(False)\n",
    "ax.yaxis.set_ticks_position('left')\n",
    "ax.xaxis.set_ticks_position('bottom')\n",
    "ax.set_xlabel(\"Allele\", size=15)\n",
    "ax.set_ylabel(\"Allele imputation r2\", size=15)\n",
    "ax.set_xticks(list(ar2[\"allele\"].values))\n",
    "ax.set_xticklabels([int(x) for x in ax.get_xticks()], size=12) \n",
    "ax.set_yticklabels([\"%0.2f\"%(x) for x in ax.get_yticks()], size=12);\n",
    "\n",
    "fig.savefig(os.path.join(OUTPATH, \"%s_ExampleAlleleR2.pdf\"%PREFIX))\n"
   ]
  },
  {
   "cell_type": "code",
   "execution_count": 19,
   "metadata": {
    "collapsed": false
   },
   "outputs": [
    {
     "name": "stdout",
     "output_type": "stream",
     "text": [
      "Help on method bar in module matplotlib.axes._axes:\n",
      "\n",
      "bar(left, height, width=0.8, bottom=None, *, data=None, **kwargs) method of matplotlib.axes._subplots.AxesSubplot instance\n",
      "    Make a bar plot.\n",
      "    \n",
      "    Make a bar plot with rectangles bounded by:\n",
      "    \n",
      "      `left`, `left` + `width`, `bottom`, `bottom` + `height`\n",
      "            (left, right, bottom and top edges)\n",
      "    \n",
      "    Parameters\n",
      "    ----------\n",
      "    left : sequence of scalars\n",
      "        the x coordinates of the left sides of the bars\n",
      "    \n",
      "    height : sequence of scalars\n",
      "        the heights of the bars\n",
      "    \n",
      "    width : scalar or array-like, optional\n",
      "        the width(s) of the bars\n",
      "        default: 0.8\n",
      "    \n",
      "    bottom : scalar or array-like, optional\n",
      "        the y coordinate(s) of the bars\n",
      "        default: None\n",
      "    \n",
      "    color : scalar or array-like, optional\n",
      "        the colors of the bar faces\n",
      "    \n",
      "    edgecolor : scalar or array-like, optional\n",
      "        the colors of the bar edges\n",
      "    \n",
      "    linewidth : scalar or array-like, optional\n",
      "        width of bar edge(s). If None, use default\n",
      "        linewidth; If 0, don't draw edges.\n",
      "        default: None\n",
      "    \n",
      "    tick_label : string or array-like, optional\n",
      "        the tick labels of the bars\n",
      "        default: None\n",
      "    \n",
      "    xerr : scalar or array-like, optional\n",
      "        if not None, will be used to generate errorbar(s) on the bar chart\n",
      "        default: None\n",
      "    \n",
      "    yerr : scalar or array-like, optional\n",
      "        if not None, will be used to generate errorbar(s) on the bar chart\n",
      "        default: None\n",
      "    \n",
      "    ecolor : scalar or array-like, optional\n",
      "        specifies the color of errorbar(s)\n",
      "        default: None\n",
      "    \n",
      "    capsize : scalar, optional\n",
      "       determines the length in points of the error bar caps\n",
      "       default: None, which will take the value from the\n",
      "       ``errorbar.capsize`` :data:`rcParam<matplotlib.rcParams>`.\n",
      "    \n",
      "    error_kw : dict, optional\n",
      "        dictionary of kwargs to be passed to errorbar method. *ecolor* and\n",
      "        *capsize* may be specified here rather than as independent kwargs.\n",
      "    \n",
      "    align : {'center', 'edge'}, optional\n",
      "        If 'edge', aligns bars by their left edges (for vertical bars) and\n",
      "        by their bottom edges (for horizontal bars). If 'center', interpret\n",
      "        the `left` argument as the coordinates of the centers of the bars.\n",
      "        To align on the align bars on the right edge pass a negative\n",
      "        `width`.\n",
      "    \n",
      "    orientation : {'vertical',  'horizontal'}, optional\n",
      "        The orientation of the bars.\n",
      "    \n",
      "    log : boolean, optional\n",
      "        If true, sets the axis to be log scale.\n",
      "        default: False\n",
      "    \n",
      "    Returns\n",
      "    -------\n",
      "    bars : matplotlib.container.BarContainer\n",
      "        Container with all of the bars + errorbars\n",
      "    \n",
      "    Notes\n",
      "    -----\n",
      "    The optional arguments `color`, `edgecolor`, `linewidth`,\n",
      "    `xerr`, and `yerr` can be either scalars or sequences of\n",
      "    length equal to the number of bars.  This enables you to use\n",
      "    bar as the basis for stacked bar charts, or candlestick plots.\n",
      "    Detail: `xerr` and `yerr` are passed directly to\n",
      "    :meth:`errorbar`, so they can also have shape 2xN for\n",
      "    independent specification of lower and upper errors.\n",
      "    \n",
      "    Other optional kwargs:\n",
      "    \n",
      "      agg_filter: unknown\n",
      "      alpha: float or None \n",
      "      animated: [True | False] \n",
      "      antialiased or aa: [True | False]  or None for default \n",
      "      axes: an :class:`~matplotlib.axes.Axes` instance \n",
      "      capstyle: ['butt' | 'round' | 'projecting'] \n",
      "      clip_box: a :class:`matplotlib.transforms.Bbox` instance \n",
      "      clip_on: [True | False] \n",
      "      clip_path: [ (:class:`~matplotlib.path.Path`, :class:`~matplotlib.transforms.Transform`) | :class:`~matplotlib.patches.Patch` | None ] \n",
      "      color: matplotlib color spec\n",
      "      contains: a callable function \n",
      "      edgecolor or ec: mpl color spec, None, 'none', or 'auto' \n",
      "      facecolor or fc: mpl color spec, or None for default, or 'none' for no color \n",
      "      figure: a :class:`matplotlib.figure.Figure` instance \n",
      "      fill: [True | False] \n",
      "      gid: an id string \n",
      "      hatch: ['/' | '\\\\' | '|' | '-' | '+' | 'x' | 'o' | 'O' | '.' | '*'] \n",
      "      joinstyle: ['miter' | 'round' | 'bevel'] \n",
      "      label: string or anything printable with '%s' conversion. \n",
      "      linestyle or ls: ['solid' | 'dashed', 'dashdot', 'dotted' | (offset, on-off-dash-seq) | ``'-'`` | ``'--'`` | ``'-.'`` | ``':'`` | ``'None'`` | ``' '`` | ``''``]\n",
      "      linewidth or lw: float or None for default \n",
      "      path_effects: unknown\n",
      "      picker: [None|float|boolean|callable] \n",
      "      rasterized: [True | False | None] \n",
      "      sketch_params: unknown\n",
      "      snap: unknown\n",
      "      transform: :class:`~matplotlib.transforms.Transform` instance \n",
      "      url: a url string \n",
      "      visible: [True | False] \n",
      "      zorder: any number \n",
      "    \n",
      "    See also\n",
      "    --------\n",
      "    barh: Plot a horizontal bar plot.\n",
      "    \n",
      "    Examples\n",
      "    --------\n",
      "    \n",
      "    **Example:** A stacked bar chart.\n",
      "    \n",
      "    .. plot:: mpl_examples/pylab_examples/bar_stacked.py\n",
      "    \n",
      "    .. note::\n",
      "        In addition to the above described arguments, this function can take a\n",
      "        **data** keyword argument. If such a **data** argument is given, the\n",
      "        following arguments are replaced by **data[<arg>]**:\n",
      "    \n",
      "        * All arguments with the following names: 'bottom', 'color', 'ecolor', 'edgecolor', 'height', 'left', 'linewidth', 'tick_label', 'width', 'xerr', 'yerr'.\n",
      "\n"
     ]
    }
   ],
   "source": [
    "help(ax.bar)"
   ]
  }
 ],
 "metadata": {
  "kernelspec": {
   "display_name": "Python 3",
   "language": "python",
   "name": "python3"
  },
  "language_info": {
   "codemirror_mode": {
    "name": "ipython",
    "version": 3
   },
   "file_extension": ".py",
   "mimetype": "text/x-python",
   "name": "python",
   "nbconvert_exporter": "python",
   "pygments_lexer": "ipython3",
   "version": "3.4.5"
  }
 },
 "nbformat": 4,
 "nbformat_minor": 2
}

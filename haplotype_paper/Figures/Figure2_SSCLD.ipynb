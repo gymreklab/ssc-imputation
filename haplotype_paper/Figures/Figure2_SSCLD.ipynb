{
 "cells": [
  {
   "cell_type": "markdown",
   "metadata": {},
   "source": [
    "# Penta D\n",
    "got filtered for call rate?\n",
    "add back manually?"
   ]
  },
  {
   "cell_type": "code",
   "execution_count": 15,
   "metadata": {
    "collapsed": false
   },
   "outputs": [
    {
     "name": "stdout",
     "output_type": "stream",
     "text": [
      "Populating the interactive namespace from numpy and matplotlib\n"
     ]
    },
    {
     "name": "stderr",
     "output_type": "stream",
     "text": [
      "/usr/lib/python3.4/site-packages/IPython/core/magics/pylab.py:161: UserWarning: pylab import has clobbered these variables: ['colors']\n",
      "`%matplotlib` prevents importing * from pylab and numpy\n",
      "  \"\\n`%matplotlib` prevents importing * from pylab and numpy\"\n"
     ]
    }
   ],
   "source": [
    "%pylab inline\n",
    "\n",
    "# Allow us to edit fonts in Illustrator\n",
    "import matplotlib\n",
    "matplotlib.rcParams['ps.useafm'] = True\n",
    "matplotlib.rcParams['pdf.use14corefonts'] = True\n",
    "matplotlib.rcParams['text.usetex'] = True\n",
    "\n",
    "# Libraries\n",
    "import matplotlib.pyplot as plt\n",
    "import numpy as np\n",
    "import os\n",
    "import pandas as pd\n",
    "from matplotlib.patches import Polygon\n",
    "import scipy.stats\n",
    "from sklearn.cluster import AgglomerativeClustering\n",
    "from sklearn.decomposition import PCA\n",
    "\n",
    "DATADIR=\"/storage/mgymrek/ssc-imputation/\"\n",
    "OUTPATH=\"pdfs/\"\n",
    "WINDOW=50000\n",
    "BINSIZE=500\n",
    "\n",
    "# Affy annotations\n",
    "kg = pd.read_csv(\"/storage/mgymrek/ssc-imputation/other-data/1kg_positions_hg19.bed\", sep=\"\\t\",\n",
    "                  names=[\"chrom\",\"snppos\"])\n",
    "kg[\"chrom\"] = kg[\"chrom\"].apply(lambda x: str(x).replace(\"chr\",\"\"))\n",
    "\n",
    "# Load SNPSTR\n",
    "snpsnp = pd.read_csv(os.path.join(DATADIR, \"snpstr-ld\", \"snp_pairwise_ld.tab\"), sep=\"\\t\")\n",
    "snpstr = pd.read_csv(os.path.join(DATADIR, \"snpstr-ld\", \"snp_str_ld.tab\"), sep=\"\\t\", names=[\"chrom\",\"start\",\"snppos\",\"distance\",\"r2\",\"maf\"])\n",
    "snpstr[\"chrom\"] = snpstr[\"chrom\"].apply(str)\n",
    "\n",
    "# Get best SNP per locus + stats\n",
    "locstats = pd.read_csv(os.path.join(DATADIR, \"callstats\", \"ssc_hipstr_locstats.tab\"), sep=\"\\t\")\n",
    "locstats[\"chrom\"] = locstats[\"chrom\"].apply(str)\n",
    "snpstr_best = snpstr.groupby(\"start\", as_index=False).agg({\"r2\": max})\n",
    "snpstr_best = pd.merge(snpstr_best, locstats, on=[\"start\"])\n",
    "snpstr_best = snpstr_best[snpstr_best[\"FILTER\"]==\".\"]"
   ]
  },
  {
   "cell_type": "markdown",
   "metadata": {},
   "source": [
    "# Figure 2A: SNP-SNP vs. SNP-STR LD"
   ]
  },
  {
   "cell_type": "code",
   "execution_count": 6,
   "metadata": {
    "collapsed": false
   },
   "outputs": [
    {
     "data": {
      "image/png": "[encoded data removed]",
      "text/plain": [
       "<matplotlib.figure.Figure at 0x7fb8e1abc7b8>"
      ]
     },
     "metadata": {},
     "output_type": "display_data"
    }
   ],
   "source": [
    "snpsnp[\"distbin\"] = (snpsnp[\"distance\"]/BINSIZE).apply(int)\n",
    "snpsnp_bins = snpsnp.groupby(\"distbin\", as_index=False).agg({\"r2\": np.mean})\n",
    "\n",
    "snpstr[\"distbin\"] = (snpstr[\"distance\"].apply(abs)/BINSIZE).apply(int)\n",
    "snpstr_bins = snpstr.groupby(\"distbin\", as_index=False).agg({\"r2\": np.mean})\n",
    "\n",
    "fig = plt.figure()\n",
    "ax = fig.add_subplot(111)\n",
    "ax.scatter(snpsnp_bins[\"distbin\"]*BINSIZE, snpsnp_bins[\"r2\"], color=\"gray\");\n",
    "ax.scatter(snpstr_bins[\"distbin\"]*BINSIZE, snpstr_bins[\"r2\"], color=\"red\");\n",
    "ax.spines['right'].set_visible(False)\n",
    "ax.spines['top'].set_visible(False)\n",
    "ax.yaxis.set_ticks_position('left')\n",
    "ax.xaxis.set_ticks_position('bottom')\n",
    "ax.set_xlabel(\"Pairwise distance (bp)\", size=15)\n",
    "ax.set_ylabel(\"Mean r2\", size=15)\n",
    "ax.set_xticklabels([int(x) for x in ax.get_xticks()], size=12)\n",
    "ax.set_yticklabels([\"%0.2f\"%(x) for x in ax.get_yticks()], size=12);\n",
    "fig.savefig(os.path.join(OUTPATH, \"Figure2_SnpStrLD.pdf\"))"
   ]
  },
  {
   "cell_type": "markdown",
   "metadata": {},
   "source": [
    "# Figure 2B: Heterozygosity vs. best LD"
   ]
  },
  {
   "cell_type": "code",
   "execution_count": 24,
   "metadata": {
    "collapsed": false
   },
   "outputs": [
    {
     "data": {
      "image/png": "[encoded data removed]",
      "text/plain": [
       "<matplotlib.figure.Figure at 0x7fbb6cba83c8>"
      ]
     },
     "metadata": {},
     "output_type": "display_data"
    }
   ],
   "source": [
    "BINSIZE=0.1\n",
    "\n",
    "fig = plt.figure()\n",
    "fig.set_size_inches((7, 3))\n",
    "ax = fig.add_subplot(111)\n",
    "colors=[\"black\"]\n",
    "\n",
    "dfs = [snpstr_best]\n",
    "for i in range(len(dfs)):\n",
    "    x = dfs[i]\n",
    "    c = colors[i]\n",
    "    x[\"hetbin\"] = x[\"het\"].apply(lambda x: int(x/BINSIZE)*BINSIZE)\n",
    "    x = x[x[\"hetbin\"]>=0.1]\n",
    "    means_all = x.groupby(\"hetbin\", as_index=False).agg({\"r2\": mean})\n",
    "    medians_all = x.groupby(\"hetbin\", as_index=False).agg({\"r2\": median})\n",
    "    ax.plot(means_all[\"hetbin\"], means_all[\"r2\"], color=c, marker=\"o\")\n",
    "    ax.plot(medians_all[\"hetbin\"], medians_all[\"r2\"], color=c, marker=\"o\", linestyle=\"dashed\")\n",
    "ax.spines['right'].set_visible(False)\n",
    "ax.spines['top'].set_visible(False)\n",
    "ax.yaxis.set_ticks_position('left')\n",
    "ax.xaxis.set_ticks_position('bottom')\n",
    "ax.set_xlabel(\"Heterozygosity\", size=15)\n",
    "ax.set_ylabel(\"Best tagging SNP (r2)\", size=15)\n",
    "ax.set_xticklabels(ax.get_xticklabels(), size=12);\n",
    "ax.set_yticklabels([\"%0.1f\"%(x) for x in ax.get_yticks()], size=12);"
   ]
  },
  {
   "cell_type": "markdown",
   "metadata": {},
   "source": [
    "# Figure 2C: Distribution of heterozygosity CDF"
   ]
  },
  {
   "cell_type": "code",
   "execution_count": 42,
   "metadata": {
    "collapsed": false
   },
   "outputs": [
    {
     "data": {
      "image/png": "[encoded data removed]",
      "text/plain": [
       "<matplotlib.figure.Figure at 0x7f6a966c2160>"
      ]
     },
     "metadata": {},
     "output_type": "display_data"
    }
   ],
   "source": [
    "counts, bins = np.histogram(snpstr_best[\"het\"], bins=np.arange(0, 1, 0.001))\n",
    "total = sum(counts)\n",
    "counts = np.cumsum(counts)\n",
    "counts = [item*1.0/total for item in counts]\n",
    "\n",
    "fig = plt.figure()\n",
    "fig.set_size_inches((7, 3))\n",
    "ax = fig.add_subplot(111)\n",
    "ax.plot(bins[:-1], counts, color=\"black\", linewidth=2);\n",
    "ax.axhline(y=0.5, color=\"gray\", linestyle=\"dashed\")\n",
    "ax.spines['right'].set_visible(False)\n",
    "ax.spines['top'].set_visible(False)\n",
    "ax.yaxis.set_ticks_position('left')\n",
    "ax.xaxis.set_ticks_position('bottom')\n",
    "ax.set_xlabel(\"Heterozygosity\", size=15)\n",
    "ax.set_ylabel(\"CDF\", size=15)\n",
    "ax.set_xticklabels([\"%0.1f\"%(x) for x in ax.get_xticks()], size=12);\n",
    "ax.set_yticklabels([\"%0.1f\"%(x) for x in ax.get_yticks()], size=12);"
   ]
  },
  {
   "cell_type": "markdown",
   "metadata": {},
   "source": [
    "# Figure 2D: Example back mutation - TODO"
   ]
  },
  {
   "cell_type": "markdown",
   "metadata": {},
   "source": [
    "# TODO\n",
    "cluster to haplotype groups all together first\n",
    "then plot ordered by hap group\n",
    "PCA on SNPs to cluster first?"
   ]
  },
  {
   "cell_type": "code",
   "execution_count": 120,
   "metadata": {
    "collapsed": false
   },
   "outputs": [],
   "source": [
    "numhaps = 1916*2\n",
    "colnames = [\"pos\",\"ref\",\"alt\"] + [\"hap_%s\"%i for i in range(numhaps)]\n",
    "haplotype = pd.read_csv(\"/storage/mgymrek/ssc-imputation/snpstr-ld/example_haplotypes.tab\", sep=\"\\t\",\n",
    "                       names=colnames, usecols=range(len(colnames)))\n",
    "# Annotate variant type\n",
    "haplotype[\"vartype\"] = haplotype.apply(lambda x: [\"SNP\",\"STR\"][int(len(x[\"ref\"])>1)], 1)\n",
    "\n",
    "# Set index\n",
    "haplotype.index = [\"SNP_%s\"%i for i in range(haplotype.shape[0]-1)] + [\"STR\"]\n",
    "\n",
    "# Annotate MAF for SNPs\n",
    "def GetMAF(x):\n",
    "    if x[\"vartype\"]==\"STR\": return 100\n",
    "    else:\n",
    "        hapcols = [item for item in x.keys() if \"hap\" in item]\n",
    "        num_alt = sum(x[hapcols])\n",
    "        num_total = len(x)-3\n",
    "        return num_alt*1.0/num_total\n",
    "haplotype[\"maf\"] = haplotype.apply(GetMAF, 1)\n",
    "\n",
    "# Annotate STR lengths\n",
    "ref = haplotype[haplotype[\"vartype\"]==\"STR\"][\"ref\"].values[0]\n",
    "alt = haplotype[haplotype[\"vartype\"]==\"STR\"][\"alt\"].values[0].split(\",\")\n",
    "str_allele_lengths = [len(ref)] + [len(item) for item in alt]\n",
    "\n",
    "for i in range(numhaps):\n",
    "    col = \"hap_%s\"%i\n",
    "    gtlen = str_allele_lengths[haplotype[haplotype[\"vartype\"]==\"STR\"][col].values[0]]\n",
    "    haplotype.loc[\"STR\", col] = gtlen"
   ]
  },
  {
   "cell_type": "code",
   "execution_count": 121,
   "metadata": {
    "collapsed": false
   },
   "outputs": [],
   "source": [
    "# Filter and transpose\n",
    "hapcols = colnames[3:]\n",
    "haplotype_filt = haplotype[haplotype[\"maf\"]>=0.1]\n",
    "haplotype_filt = haplotype_filt[hapcols].transpose()\n",
    "haplotype_filt = haplotype_filt.sort_values(by=\"STR\")"
   ]
  },
  {
   "cell_type": "code",
   "execution_count": 124,
   "metadata": {
    "collapsed": false
   },
   "outputs": [
    {
     "data": {
      "text/html": [
       "<div>\n",
       "<style scoped>\n",
       "    .dataframe tbody tr th:only-of-type {\n",
       "        vertical-align: middle;\n",
       "    }\n",
       "\n",
       "    .dataframe tbody tr th {\n",
       "        vertical-align: top;\n",
       "    }\n",
       "\n",
       "    .dataframe thead th {\n",
       "        text-align: right;\n",
       "    }\n",
       "</style>\n",
       "<table border=\"1\" class=\"dataframe\">\n",
       "  <thead>\n",
       "    <tr style=\"text-align: right;\">\n",
       "      <th></th>\n",
       "      <th>pos</th>\n",
       "      <th>ref</th>\n",
       "      <th>alt</th>\n",
       "      <th>hap_0</th>\n",
       "      <th>hap_1</th>\n",
       "      <th>hap_2</th>\n",
       "      <th>hap_3</th>\n",
       "      <th>hap_4</th>\n",
       "      <th>hap_5</th>\n",
       "      <th>hap_6</th>\n",
       "      <th>...</th>\n",
       "      <th>hap_3824</th>\n",
       "      <th>hap_3825</th>\n",
       "      <th>hap_3826</th>\n",
       "      <th>hap_3827</th>\n",
       "      <th>hap_3828</th>\n",
       "      <th>hap_3829</th>\n",
       "      <th>hap_3830</th>\n",
       "      <th>hap_3831</th>\n",
       "      <th>vartype</th>\n",
       "      <th>maf</th>\n",
       "    </tr>\n",
       "  </thead>\n",
       "  <tbody>\n",
       "    <tr>\n",
       "      <th>STR</th>\n",
       "      <td>16565067</td>\n",
       "      <td>TTTAATTTAATTTAATTTAATTTAATTTAATTTAATTTAATTTAAT...</td>\n",
       "      <td>TTTAATTTAATTTAATTTAATTTAATTTAATTT,TTTAATTTAATT...</td>\n",
       "      <td>48</td>\n",
       "      <td>58</td>\n",
       "      <td>43</td>\n",
       "      <td>53</td>\n",
       "      <td>53</td>\n",
       "      <td>48</td>\n",
       "      <td>48</td>\n",
       "      <td>...</td>\n",
       "      <td>48</td>\n",
       "      <td>48</td>\n",
       "      <td>53</td>\n",
       "      <td>48</td>\n",
       "      <td>53</td>\n",
       "      <td>58</td>\n",
       "      <td>53</td>\n",
       "      <td>48</td>\n",
       "      <td>STR</td>\n",
       "      <td>100</td>\n",
       "    </tr>\n",
       "  </tbody>\n",
       "</table>\n",
       "<p>1 rows × 3837 columns</p>\n",
       "</div>"
      ],
      "text/plain": [
       "          pos                                                ref  \\\n",
       "STR  16565067  TTTAATTTAATTTAATTTAATTTAATTTAATTTAATTTAATTTAAT...   \n",
       "\n",
       "                                                   alt  hap_0  hap_1  hap_2  \\\n",
       "STR  TTTAATTTAATTTAATTTAATTTAATTTAATTT,TTTAATTTAATT...     48     58     43   \n",
       "\n",
       "     hap_3  hap_4  hap_5  hap_6 ...   hap_3824  hap_3825  hap_3826  hap_3827  \\\n",
       "STR     53     53     48     48 ...         48        48        53        48   \n",
       "\n",
       "     hap_3828  hap_3829  hap_3830  hap_3831  vartype  maf  \n",
       "STR        53        58        53        48      STR  100  \n",
       "\n",
       "[1 rows x 3837 columns]"
      ]
     },
     "execution_count": 124,
     "metadata": {},
     "output_type": "execute_result"
    }
   ],
   "source": [
    "haplotype.head()"
   ]
  },
  {
   "cell_type": "code",
   "execution_count": 122,
   "metadata": {
    "collapsed": false
   },
   "outputs": [
    {
     "ename": "KeyError",
     "evalue": "\"['SNP_2' 'SNP_7' 'SNP_8' 'SNP_13' 'SNP_15' 'SNP_16' 'SNP_18' 'SNP_21'\\n 'SNP_35' 'SNP_36' 'SNP_38' 'SNP_44' 'SNP_70' 'SNP_73' 'SNP_74' 'SNP_76'\\n 'SNP_84' 'SNP_98' 'SNP_113' 'SNP_127' 'SNP_145' 'SNP_156' 'SNP_160'\\n 'SNP_163' 'SNP_170' 'SNP_192' 'SNP_197' 'SNP_208' 'SNP_210' 'SNP_216'\\n 'SNP_219' 'SNP_227' 'SNP_230' 'SNP_233' 'SNP_235' 'SNP_240' 'SNP_241'\\n 'SNP_244' 'SNP_245' 'SNP_253' 'SNP_254' 'SNP_257' 'SNP_263' 'SNP_264'\\n 'SNP_270' 'SNP_271' 'SNP_274' 'SNP_276' 'SNP_289' 'SNP_291' 'SNP_292'\\n 'SNP_294' 'SNP_295' 'SNP_298' 'SNP_304' 'SNP_309' 'SNP_312' 'SNP_314'\\n 'SNP_321' 'SNP_322' 'SNP_329' 'SNP_333' 'SNP_335' 'SNP_339' 'SNP_341'\\n 'SNP_343' 'SNP_351' 'SNP_352' 'SNP_353' 'SNP_357' 'SNP_360' 'SNP_365'\\n 'SNP_369' 'SNP_374' 'SNP_376' 'SNP_387' 'SNP_389' 'SNP_392' 'SNP_395'\\n 'SNP_401' 'SNP_403' 'SNP_418' 'SNP_427' 'SNP_429' 'SNP_438' 'SNP_457'\\n 'SNP_459' 'SNP_460' 'SNP_479' 'SNP_481' 'SNP_483' 'SNP_491' 'SNP_513'\\n 'SNP_527' 'SNP_532' 'SNP_534' 'SNP_537' 'SNP_539' 'SNP_540' 'SNP_552'\\n 'SNP_565' 'SNP_567' 'SNP_588' 'SNP_591' 'SNP_598' 'SNP_604' 'SNP_616'\\n 'SNP_619' 'SNP_626' 'SNP_632' 'SNP_633' 'SNP_636' 'SNP_645' 'SNP_647'\\n 'SNP_648' 'SNP_669' 'SNP_673' 'SNP_675' 'SNP_684' 'SNP_689' 'SNP_692'\\n 'SNP_694' 'SNP_704' 'SNP_707' 'SNP_712' 'SNP_713' 'SNP_716' 'SNP_719'\\n 'SNP_721' 'SNP_722' 'SNP_729' 'SNP_735' 'SNP_757' 'SNP_770' 'SNP_775'\\n 'SNP_777' 'SNP_790' 'SNP_795' 'SNP_797' 'SNP_801' 'SNP_811' 'SNP_818'\\n 'SNP_819' 'SNP_825' 'SNP_834' 'SNP_841' 'SNP_842' 'SNP_843' 'SNP_844'\\n 'SNP_846' 'SNP_849' 'SNP_850' 'SNP_852' 'SNP_857' 'SNP_860' 'SNP_865'\\n 'SNP_871' 'SNP_874' 'SNP_884' 'SNP_888' 'SNP_897' 'SNP_898' 'SNP_901'\\n 'SNP_902' 'SNP_906' 'SNP_908' 'SNP_909' 'SNP_912' 'SNP_916' 'SNP_921'\\n 'SNP_922' 'SNP_924' 'SNP_930' 'SNP_935' 'SNP_938' 'SNP_952' 'SNP_958'\\n 'SNP_963' 'SNP_971' 'SNP_973' 'SNP_974' 'SNP_978' 'SNP_981' 'SNP_984'\\n 'SNP_990' 'SNP_995' 'SNP_998' 'SNP_999' 'SNP_1005' 'SNP_1020' 'SNP_1024'\\n 'SNP_1026' 'SNP_1035'] not in index\"",
     "output_type": "error",
     "traceback": [
      "\u001b[0;31m---------------------------------------------------------------------------\u001b[0m",
      "\u001b[0;31mKeyError\u001b[0m                                  Traceback (most recent call last)",
      "\u001b[0;32m<ipython-input-122-dbc0fd601729>\u001b[0m in \u001b[0;36m<module>\u001b[0;34m()\u001b[0m\n\u001b[1;32m      1\u001b[0m \u001b[0;31m# PCA on SNPs\u001b[0m\u001b[0;34m\u001b[0m\u001b[0;34m\u001b[0m\u001b[0m\n\u001b[0;32m----> 2\u001b[0;31m \u001b[0md\u001b[0m \u001b[0;34m=\u001b[0m \u001b[0mhaplotype_filt\u001b[0m\u001b[0;34m[\u001b[0m\u001b[0msnpcols\u001b[0m\u001b[0;34m]\u001b[0m\u001b[0;34m\u001b[0m\u001b[0m\n\u001b[0m\u001b[1;32m      3\u001b[0m \u001b[0mpca\u001b[0m \u001b[0;34m=\u001b[0m \u001b[0mPCA\u001b[0m\u001b[0;34m(\u001b[0m\u001b[0mn_components\u001b[0m\u001b[0;34m=\u001b[0m\u001b[0;36m2\u001b[0m\u001b[0;34m)\u001b[0m\u001b[0;34m\u001b[0m\u001b[0m\n\u001b[1;32m      4\u001b[0m \u001b[0mpca\u001b[0m\u001b[0;34m.\u001b[0m\u001b[0mfit\u001b[0m\u001b[0;34m(\u001b[0m\u001b[0md\u001b[0m\u001b[0;34m)\u001b[0m\u001b[0;34m\u001b[0m\u001b[0m\n\u001b[1;32m      5\u001b[0m \u001b[0mX\u001b[0m \u001b[0;34m=\u001b[0m \u001b[0mpca\u001b[0m\u001b[0;34m.\u001b[0m\u001b[0mtransform\u001b[0m\u001b[0;34m(\u001b[0m\u001b[0md\u001b[0m\u001b[0;34m)\u001b[0m\u001b[0;34m\u001b[0m\u001b[0m\n",
      "\u001b[0;32m/usr/lib64/python3.4/site-packages/pandas/core/frame.py\u001b[0m in \u001b[0;36m__getitem__\u001b[0;34m(self, key)\u001b[0m\n\u001b[1;32m   2131\u001b[0m         \u001b[0;32mif\u001b[0m \u001b[0misinstance\u001b[0m\u001b[0;34m(\u001b[0m\u001b[0mkey\u001b[0m\u001b[0;34m,\u001b[0m \u001b[0;34m(\u001b[0m\u001b[0mSeries\u001b[0m\u001b[0;34m,\u001b[0m \u001b[0mnp\u001b[0m\u001b[0;34m.\u001b[0m\u001b[0mndarray\u001b[0m\u001b[0;34m,\u001b[0m \u001b[0mIndex\u001b[0m\u001b[0;34m,\u001b[0m \u001b[0mlist\u001b[0m\u001b[0;34m)\u001b[0m\u001b[0;34m)\u001b[0m\u001b[0;34m:\u001b[0m\u001b[0;34m\u001b[0m\u001b[0m\n\u001b[1;32m   2132\u001b[0m             \u001b[0;31m# either boolean or fancy integer index\u001b[0m\u001b[0;34m\u001b[0m\u001b[0;34m\u001b[0m\u001b[0m\n\u001b[0;32m-> 2133\u001b[0;31m             \u001b[0;32mreturn\u001b[0m \u001b[0mself\u001b[0m\u001b[0;34m.\u001b[0m\u001b[0m_getitem_array\u001b[0m\u001b[0;34m(\u001b[0m\u001b[0mkey\u001b[0m\u001b[0;34m)\u001b[0m\u001b[0;34m\u001b[0m\u001b[0m\n\u001b[0m\u001b[1;32m   2134\u001b[0m         \u001b[0;32melif\u001b[0m \u001b[0misinstance\u001b[0m\u001b[0;34m(\u001b[0m\u001b[0mkey\u001b[0m\u001b[0;34m,\u001b[0m \u001b[0mDataFrame\u001b[0m\u001b[0;34m)\u001b[0m\u001b[0;34m:\u001b[0m\u001b[0;34m\u001b[0m\u001b[0m\n\u001b[1;32m   2135\u001b[0m             \u001b[0;32mreturn\u001b[0m \u001b[0mself\u001b[0m\u001b[0;34m.\u001b[0m\u001b[0m_getitem_frame\u001b[0m\u001b[0;34m(\u001b[0m\u001b[0mkey\u001b[0m\u001b[0;34m)\u001b[0m\u001b[0;34m\u001b[0m\u001b[0m\n",
      "\u001b[0;32m/usr/lib64/python3.4/site-packages/pandas/core/frame.py\u001b[0m in \u001b[0;36m_getitem_array\u001b[0;34m(self, key)\u001b[0m\n\u001b[1;32m   2175\u001b[0m             \u001b[0;32mreturn\u001b[0m \u001b[0mself\u001b[0m\u001b[0;34m.\u001b[0m\u001b[0m_take\u001b[0m\u001b[0;34m(\u001b[0m\u001b[0mindexer\u001b[0m\u001b[0;34m,\u001b[0m \u001b[0maxis\u001b[0m\u001b[0;34m=\u001b[0m\u001b[0;36m0\u001b[0m\u001b[0;34m,\u001b[0m \u001b[0mconvert\u001b[0m\u001b[0;34m=\u001b[0m\u001b[0;32mFalse\u001b[0m\u001b[0;34m)\u001b[0m\u001b[0;34m\u001b[0m\u001b[0m\n\u001b[1;32m   2176\u001b[0m         \u001b[0;32melse\u001b[0m\u001b[0;34m:\u001b[0m\u001b[0;34m\u001b[0m\u001b[0m\n\u001b[0;32m-> 2177\u001b[0;31m             \u001b[0mindexer\u001b[0m \u001b[0;34m=\u001b[0m \u001b[0mself\u001b[0m\u001b[0;34m.\u001b[0m\u001b[0mloc\u001b[0m\u001b[0;34m.\u001b[0m\u001b[0m_convert_to_indexer\u001b[0m\u001b[0;34m(\u001b[0m\u001b[0mkey\u001b[0m\u001b[0;34m,\u001b[0m \u001b[0maxis\u001b[0m\u001b[0;34m=\u001b[0m\u001b[0;36m1\u001b[0m\u001b[0;34m)\u001b[0m\u001b[0;34m\u001b[0m\u001b[0m\n\u001b[0m\u001b[1;32m   2178\u001b[0m             \u001b[0;32mreturn\u001b[0m \u001b[0mself\u001b[0m\u001b[0;34m.\u001b[0m\u001b[0m_take\u001b[0m\u001b[0;34m(\u001b[0m\u001b[0mindexer\u001b[0m\u001b[0;34m,\u001b[0m \u001b[0maxis\u001b[0m\u001b[0;34m=\u001b[0m\u001b[0;36m1\u001b[0m\u001b[0;34m,\u001b[0m \u001b[0mconvert\u001b[0m\u001b[0;34m=\u001b[0m\u001b[0;32mTrue\u001b[0m\u001b[0;34m)\u001b[0m\u001b[0;34m\u001b[0m\u001b[0m\n\u001b[1;32m   2179\u001b[0m \u001b[0;34m\u001b[0m\u001b[0m\n",
      "\u001b[0;32m/usr/lib64/python3.4/site-packages/pandas/core/indexing.py\u001b[0m in \u001b[0;36m_convert_to_indexer\u001b[0;34m(self, obj, axis, is_setter)\u001b[0m\n\u001b[1;32m   1267\u001b[0m                 \u001b[0;32mif\u001b[0m \u001b[0mmask\u001b[0m\u001b[0;34m.\u001b[0m\u001b[0many\u001b[0m\u001b[0;34m(\u001b[0m\u001b[0;34m)\u001b[0m\u001b[0;34m:\u001b[0m\u001b[0;34m\u001b[0m\u001b[0m\n\u001b[1;32m   1268\u001b[0m                     raise KeyError('{mask} not in index'\n\u001b[0;32m-> 1269\u001b[0;31m                                    .format(mask=objarr[mask]))\n\u001b[0m\u001b[1;32m   1270\u001b[0m \u001b[0;34m\u001b[0m\u001b[0m\n\u001b[1;32m   1271\u001b[0m                 \u001b[0;32mreturn\u001b[0m \u001b[0m_values_from_object\u001b[0m\u001b[0;34m(\u001b[0m\u001b[0mindexer\u001b[0m\u001b[0;34m)\u001b[0m\u001b[0;34m\u001b[0m\u001b[0m\n",
      "\u001b[0;31mKeyError\u001b[0m: \"['SNP_2' 'SNP_7' 'SNP_8' 'SNP_13' 'SNP_15' 'SNP_16' 'SNP_18' 'SNP_21'\\n 'SNP_35' 'SNP_36' 'SNP_38' 'SNP_44' 'SNP_70' 'SNP_73' 'SNP_74' 'SNP_76'\\n 'SNP_84' 'SNP_98' 'SNP_113' 'SNP_127' 'SNP_145' 'SNP_156' 'SNP_160'\\n 'SNP_163' 'SNP_170' 'SNP_192' 'SNP_197' 'SNP_208' 'SNP_210' 'SNP_216'\\n 'SNP_219' 'SNP_227' 'SNP_230' 'SNP_233' 'SNP_235' 'SNP_240' 'SNP_241'\\n 'SNP_244' 'SNP_245' 'SNP_253' 'SNP_254' 'SNP_257' 'SNP_263' 'SNP_264'\\n 'SNP_270' 'SNP_271' 'SNP_274' 'SNP_276' 'SNP_289' 'SNP_291' 'SNP_292'\\n 'SNP_294' 'SNP_295' 'SNP_298' 'SNP_304' 'SNP_309' 'SNP_312' 'SNP_314'\\n 'SNP_321' 'SNP_322' 'SNP_329' 'SNP_333' 'SNP_335' 'SNP_339' 'SNP_341'\\n 'SNP_343' 'SNP_351' 'SNP_352' 'SNP_353' 'SNP_357' 'SNP_360' 'SNP_365'\\n 'SNP_369' 'SNP_374' 'SNP_376' 'SNP_387' 'SNP_389' 'SNP_392' 'SNP_395'\\n 'SNP_401' 'SNP_403' 'SNP_418' 'SNP_427' 'SNP_429' 'SNP_438' 'SNP_457'\\n 'SNP_459' 'SNP_460' 'SNP_479' 'SNP_481' 'SNP_483' 'SNP_491' 'SNP_513'\\n 'SNP_527' 'SNP_532' 'SNP_534' 'SNP_537' 'SNP_539' 'SNP_540' 'SNP_552'\\n 'SNP_565' 'SNP_567' 'SNP_588' 'SNP_591' 'SNP_598' 'SNP_604' 'SNP_616'\\n 'SNP_619' 'SNP_626' 'SNP_632' 'SNP_633' 'SNP_636' 'SNP_645' 'SNP_647'\\n 'SNP_648' 'SNP_669' 'SNP_673' 'SNP_675' 'SNP_684' 'SNP_689' 'SNP_692'\\n 'SNP_694' 'SNP_704' 'SNP_707' 'SNP_712' 'SNP_713' 'SNP_716' 'SNP_719'\\n 'SNP_721' 'SNP_722' 'SNP_729' 'SNP_735' 'SNP_757' 'SNP_770' 'SNP_775'\\n 'SNP_777' 'SNP_790' 'SNP_795' 'SNP_797' 'SNP_801' 'SNP_811' 'SNP_818'\\n 'SNP_819' 'SNP_825' 'SNP_834' 'SNP_841' 'SNP_842' 'SNP_843' 'SNP_844'\\n 'SNP_846' 'SNP_849' 'SNP_850' 'SNP_852' 'SNP_857' 'SNP_860' 'SNP_865'\\n 'SNP_871' 'SNP_874' 'SNP_884' 'SNP_888' 'SNP_897' 'SNP_898' 'SNP_901'\\n 'SNP_902' 'SNP_906' 'SNP_908' 'SNP_909' 'SNP_912' 'SNP_916' 'SNP_921'\\n 'SNP_922' 'SNP_924' 'SNP_930' 'SNP_935' 'SNP_938' 'SNP_952' 'SNP_958'\\n 'SNP_963' 'SNP_971' 'SNP_973' 'SNP_974' 'SNP_978' 'SNP_981' 'SNP_984'\\n 'SNP_990' 'SNP_995' 'SNP_998' 'SNP_999' 'SNP_1005' 'SNP_1020' 'SNP_1024'\\n 'SNP_1026' 'SNP_1035'] not in index\""
     ]
    }
   ],
   "source": [
    "# PCA on SNPs\n",
    "d = haplotype_filt[snpcols]\n",
    "pca = PCA(n_components=2)\n",
    "pca.fit(d)\n",
    "X = pca.transform(d)\n",
    "pc1 = X[:,0]\n",
    "pc2 = X[:,1]\n",
    "fig = plt.figure()\n",
    "ax = fig.add_subplot(111)\n",
    "ax.scatter(pc1, pc2, alpha=0.1);"
   ]
  },
  {
   "cell_type": "code",
   "execution_count": null,
   "metadata": {
    "collapsed": true
   },
   "outputs": [],
   "source": [
    "def ClusterRows(hapmatrix, nclusters=6):\n",
    "    c = AgglomerativeClustering(n_clusters=min([hapmatrix.shape[0], nclusters]))\n",
    "    labels = c.fit_predict(hapmatrix)\n",
    "    idx = sorted([(labels[i], i) for i in range(hapmatrix.shape[0])])\n",
    "    neworder = [item[1] for item in idx]\n",
    "    return hapmatrix[neworder,:], neworder, [item[0] for item in idx]"
   ]
  },
  {
   "cell_type": "code",
   "execution_count": 110,
   "metadata": {
    "collapsed": false
   },
   "outputs": [
    {
     "name": "stderr",
     "output_type": "stream",
     "text": [
      "/usr/lib/python3.4/site-packages/ipykernel/__main__.py:7: SettingWithCopyWarning: \n",
      "A value is trying to be set on a copy of a slice from a DataFrame.\n",
      "Try using .loc[row_indexer,col_indexer] = value instead\n",
      "\n",
      "See the caveats in the documentation: http://pandas.pydata.org/pandas-docs/stable/indexing.html#indexing-view-versus-copy\n"
     ]
    },
    {
     "data": {
      "image/png": "[encoded data removed]",
      "text/plain": [
       "<matplotlib.figure.Figure at 0x7fba5b522f60>"
      ]
     },
     "metadata": {},
     "output_type": "display_data"
    },
    {
     "data": {
      "image/png": "[encoded data removed]",
      "text/plain": [
       "<matplotlib.figure.Figure at 0x7fba5af5e198>"
      ]
     },
     "metadata": {},
     "output_type": "display_data"
    },
    {
     "data": {
      "image/png": "[encoded data removed]",
      "text/plain": [
       "<matplotlib.figure.Figure at 0x7fba5b289400>"
      ]
     },
     "metadata": {},
     "output_type": "display_data"
    },
    {
     "data": {
      "image/png": "[encoded data removed]",
      "text/plain": [
       "<matplotlib.figure.Figure at 0x7fba5b9d1f28>"
      ]
     },
     "metadata": {},
     "output_type": "display_data"
    },
    {
     "data": {
      "image/png": "[encoded data removed]",
      "text/plain": [
       "<matplotlib.figure.Figure at 0x7fba5a5f1860>"
      ]
     },
     "metadata": {},
     "output_type": "display_data"
    },
    {
     "data": {
      "image/png": "[encoded data removed]",
      "text/plain": [
       "<matplotlib.figure.Figure at 0x7fbac659fe10>"
      ]
     },
     "metadata": {},
     "output_type": "display_data"
    },
    {
     "data": {
      "image/png": "[encoded data removed]",
      "text/plain": [
       "<matplotlib.figure.Figure at 0x7fbac65be048>"
      ]
     },
     "metadata": {},
     "output_type": "display_data"
    },
    {
     "data": {
      "image/png": "[encoded data removed]",
      "text/plain": [
       "<matplotlib.figure.Figure at 0x7fba5a2e5eb8>"
      ]
     },
     "metadata": {},
     "output_type": "display_data"
    },
    {
     "data": {
      "image/png": "[encoded data removed]",
      "text/plain": [
       "<matplotlib.figure.Figure at 0x7fba5a316828>"
      ]
     },
     "metadata": {},
     "output_type": "display_data"
    },
    {
     "data": {
      "image/png": "[encoded data removed]",
      "text/plain": [
       "<matplotlib.figure.Figure at 0x7fba5adb1b38>"
      ]
     },
     "metadata": {},
     "output_type": "display_data"
    }
   ],
   "source": [
    "# Cluster and annotate haplotypes of entire dataset first\n",
    "NCLUST=10\n",
    "snpcols = [item for item in haplotype_filt.columns if \"SNP\" in item]\n",
    "d = haplotype_filt[snpcols]\n",
    "d_cl, neworder, clustids = ClusterRows(hapmatrix, nclusters=NCLUST)\n",
    "haplotype_filt_reorder = haplotype_filt.iloc[neworder,]\n",
    "haplotype_filt_reorder[\"cluster\"] = clustids\n",
    "\n",
    "# Vis all first to see clusters\n",
    "for cnum in range(NCLUST):\n",
    "    hapmatrix = np.matrix(haplotype_filt_reorder[haplotype_filt_reorder[\"cluster\"]==cnum][snpcols])\n",
    "    fig = plt.figure()\n",
    "    ax = fig.add_subplot(111)\n",
    "    ax.imshow(hapmatrix, cmap='Greys', aspect=\"auto\", extent=(0, hapmatrix_cl.shape[1], 0, hapmatrix_cl.shape[0]))\n",
    "    ax.set_yticks([]);\n",
    "    ax.set_yticklabels([]);\n",
    "    ax.set_xticks([]);\n",
    "    ax.set_xticklabels([]);"
   ]
  },
  {
   "cell_type": "code",
   "execution_count": 101,
   "metadata": {
    "collapsed": false
   },
   "outputs": [
    {
     "data": {
      "text/html": [
       "<div>\n",
       "<style scoped>\n",
       "    .dataframe tbody tr th:only-of-type {\n",
       "        vertical-align: middle;\n",
       "    }\n",
       "\n",
       "    .dataframe tbody tr th {\n",
       "        vertical-align: top;\n",
       "    }\n",
       "\n",
       "    .dataframe thead th {\n",
       "        text-align: right;\n",
       "    }\n",
       "</style>\n",
       "<table border=\"1\" class=\"dataframe\">\n",
       "  <thead>\n",
       "    <tr style=\"text-align: right;\">\n",
       "      <th></th>\n",
       "      <th>SNP_2</th>\n",
       "      <th>SNP_7</th>\n",
       "      <th>SNP_8</th>\n",
       "      <th>SNP_13</th>\n",
       "      <th>SNP_15</th>\n",
       "      <th>SNP_16</th>\n",
       "      <th>SNP_18</th>\n",
       "      <th>SNP_21</th>\n",
       "      <th>SNP_35</th>\n",
       "      <th>SNP_36</th>\n",
       "      <th>...</th>\n",
       "      <th>SNP_995</th>\n",
       "      <th>SNP_998</th>\n",
       "      <th>SNP_999</th>\n",
       "      <th>SNP_1005</th>\n",
       "      <th>SNP_1020</th>\n",
       "      <th>SNP_1024</th>\n",
       "      <th>SNP_1026</th>\n",
       "      <th>SNP_1035</th>\n",
       "      <th>STR</th>\n",
       "      <th>cluster</th>\n",
       "    </tr>\n",
       "  </thead>\n",
       "  <tbody>\n",
       "    <tr>\n",
       "      <th>hap_3136</th>\n",
       "      <td>0</td>\n",
       "      <td>0</td>\n",
       "      <td>0</td>\n",
       "      <td>0</td>\n",
       "      <td>0</td>\n",
       "      <td>0</td>\n",
       "      <td>0</td>\n",
       "      <td>0</td>\n",
       "      <td>0</td>\n",
       "      <td>0</td>\n",
       "      <td>...</td>\n",
       "      <td>0</td>\n",
       "      <td>0</td>\n",
       "      <td>0</td>\n",
       "      <td>0</td>\n",
       "      <td>0</td>\n",
       "      <td>0</td>\n",
       "      <td>0</td>\n",
       "      <td>0</td>\n",
       "      <td>38</td>\n",
       "      <td>0</td>\n",
       "    </tr>\n",
       "    <tr>\n",
       "      <th>hap_99</th>\n",
       "      <td>0</td>\n",
       "      <td>0</td>\n",
       "      <td>0</td>\n",
       "      <td>0</td>\n",
       "      <td>0</td>\n",
       "      <td>0</td>\n",
       "      <td>0</td>\n",
       "      <td>0</td>\n",
       "      <td>0</td>\n",
       "      <td>0</td>\n",
       "      <td>...</td>\n",
       "      <td>0</td>\n",
       "      <td>0</td>\n",
       "      <td>0</td>\n",
       "      <td>0</td>\n",
       "      <td>0</td>\n",
       "      <td>0</td>\n",
       "      <td>0</td>\n",
       "      <td>0</td>\n",
       "      <td>38</td>\n",
       "      <td>0</td>\n",
       "    </tr>\n",
       "    <tr>\n",
       "      <th>hap_104</th>\n",
       "      <td>0</td>\n",
       "      <td>0</td>\n",
       "      <td>0</td>\n",
       "      <td>0</td>\n",
       "      <td>0</td>\n",
       "      <td>0</td>\n",
       "      <td>0</td>\n",
       "      <td>0</td>\n",
       "      <td>0</td>\n",
       "      <td>0</td>\n",
       "      <td>...</td>\n",
       "      <td>0</td>\n",
       "      <td>0</td>\n",
       "      <td>0</td>\n",
       "      <td>0</td>\n",
       "      <td>0</td>\n",
       "      <td>0</td>\n",
       "      <td>0</td>\n",
       "      <td>0</td>\n",
       "      <td>38</td>\n",
       "      <td>0</td>\n",
       "    </tr>\n",
       "    <tr>\n",
       "      <th>hap_3443</th>\n",
       "      <td>0</td>\n",
       "      <td>0</td>\n",
       "      <td>0</td>\n",
       "      <td>0</td>\n",
       "      <td>0</td>\n",
       "      <td>0</td>\n",
       "      <td>0</td>\n",
       "      <td>0</td>\n",
       "      <td>0</td>\n",
       "      <td>0</td>\n",
       "      <td>...</td>\n",
       "      <td>1</td>\n",
       "      <td>0</td>\n",
       "      <td>0</td>\n",
       "      <td>0</td>\n",
       "      <td>0</td>\n",
       "      <td>0</td>\n",
       "      <td>0</td>\n",
       "      <td>0</td>\n",
       "      <td>43</td>\n",
       "      <td>0</td>\n",
       "    </tr>\n",
       "    <tr>\n",
       "      <th>hap_3508</th>\n",
       "      <td>0</td>\n",
       "      <td>0</td>\n",
       "      <td>0</td>\n",
       "      <td>0</td>\n",
       "      <td>0</td>\n",
       "      <td>0</td>\n",
       "      <td>0</td>\n",
       "      <td>0</td>\n",
       "      <td>0</td>\n",
       "      <td>0</td>\n",
       "      <td>...</td>\n",
       "      <td>0</td>\n",
       "      <td>0</td>\n",
       "      <td>0</td>\n",
       "      <td>0</td>\n",
       "      <td>0</td>\n",
       "      <td>0</td>\n",
       "      <td>0</td>\n",
       "      <td>0</td>\n",
       "      <td>43</td>\n",
       "      <td>0</td>\n",
       "    </tr>\n",
       "  </tbody>\n",
       "</table>\n",
       "<p>5 rows × 195 columns</p>\n",
       "</div>"
      ],
      "text/plain": [
       "          SNP_2  SNP_7  SNP_8  SNP_13  SNP_15  SNP_16  SNP_18  SNP_21  SNP_35  \\\n",
       "hap_3136      0      0      0       0       0       0       0       0       0   \n",
       "hap_99        0      0      0       0       0       0       0       0       0   \n",
       "hap_104       0      0      0       0       0       0       0       0       0   \n",
       "hap_3443      0      0      0       0       0       0       0       0       0   \n",
       "hap_3508      0      0      0       0       0       0       0       0       0   \n",
       "\n",
       "          SNP_36   ...     SNP_995  SNP_998  SNP_999  SNP_1005  SNP_1020  \\\n",
       "hap_3136       0   ...           0        0        0         0         0   \n",
       "hap_99         0   ...           0        0        0         0         0   \n",
       "hap_104        0   ...           0        0        0         0         0   \n",
       "hap_3443       0   ...           1        0        0         0         0   \n",
       "hap_3508       0   ...           0        0        0         0         0   \n",
       "\n",
       "          SNP_1024  SNP_1026  SNP_1035  STR  cluster  \n",
       "hap_3136         0         0         0   38        0  \n",
       "hap_99           0         0         0   38        0  \n",
       "hap_104          0         0         0   38        0  \n",
       "hap_3443         0         0         0   43        0  \n",
       "hap_3508         0         0         0   43        0  \n",
       "\n",
       "[5 rows x 195 columns]"
      ]
     },
     "execution_count": 101,
     "metadata": {},
     "output_type": "execute_result"
    }
   ],
   "source": [
    "haplotype_filt_reorder.head()"
   ]
  },
  {
   "cell_type": "code",
   "execution_count": null,
   "metadata": {
    "collapsed": true
   },
   "outputs": [],
   "source": []
  },
  {
   "cell_type": "code",
   "execution_count": 83,
   "metadata": {
    "collapsed": false
   },
   "outputs": [
    {
     "data": {
      "image/png": "[encoded data removed]",
      "text/plain": [
       "<matplotlib.figure.Figure at 0x7fba5b351f60>"
      ]
     },
     "metadata": {},
     "output_type": "display_data"
    }
   ],
   "source": [
    "# SNP haplotypes per STR allele\n",
    "for allele in [63]:\n",
    "    d = haplotype_filt[haplotype_filt[\"STR\"]==allele]\n",
    "    hapmatrix = np.matrix(haplotype_filt_reorder[snpcols])\n",
    "    fig = plt.figure()\n",
    "    fig.set_size_inches((10, d.shape[0]*0.05))\n",
    "    ax = fig.add_subplot(111)\n",
    "    ax.imshow(hapmatrix_cl, cmap='Greys', aspect=\"auto\", extent=(0, hapmatrix_cl.shape[1], 0, hapmatrix_cl.shape[0]))\n",
    "    ax.set_yticks([]);\n",
    "    ax.set_yticklabels([]);\n",
    "    ax.set_xticks([]);\n",
    "    ax.set_xticklabels([]);\n",
    "    ax.set_title(\"STR allele %s\"%allele)"
   ]
  }
 ],
 "metadata": {
  "kernelspec": {
   "display_name": "Python 3",
   "language": "python",
   "name": "python3"
  },
  "language_info": {
   "codemirror_mode": {
    "name": "ipython",
    "version": 3
   },
   "file_extension": ".py",
   "mimetype": "text/x-python",
   "name": "python",
   "nbconvert_exporter": "python",
   "pygments_lexer": "ipython3",
   "version": "3.4.5"
  }
 },
 "nbformat": 4,
 "nbformat_minor": 2
}

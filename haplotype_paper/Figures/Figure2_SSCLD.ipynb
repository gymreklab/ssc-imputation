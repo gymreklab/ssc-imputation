{
 "cells": [
  {
   "cell_type": "code",
   "execution_count": 25,
   "metadata": {
    "collapsed": false
   },
   "outputs": [
    {
     "name": "stdout",
     "output_type": "stream",
     "text": [
      "Populating the interactive namespace from numpy and matplotlib\n"
     ]
    }
   ],
   "source": [
    "%pylab inline\n",
    "\n",
    "# Allow us to edit fonts in Illustrator\n",
    "import matplotlib\n",
    "matplotlib.rcParams['ps.useafm'] = True\n",
    "matplotlib.rcParams['pdf.use14corefonts'] = True\n",
    "matplotlib.rcParams['text.usetex'] = True\n",
    "\n",
    "# Libraries\n",
    "import matplotlib.pyplot as plt\n",
    "import numpy as np\n",
    "import os\n",
    "import pandas as pd\n",
    "from matplotlib.patches import Polygon\n",
    "import scipy.stats\n",
    "\n",
    "DATADIR=\"/storage/mgymrek/ssc-imputation/snpstr-ld\"\n",
    "OUTPATH=\"pdfs/\"\n",
    "WINDOW=50000\n",
    "BINSIZE=500\n",
    "\n",
    "snpsnp = pd.read_csv(os.path.join(DATADIR, \"snp_pairwise_ld.tab\"), sep=\"\\t\")\n",
    "snpstr = pd.read_csv(os.path.join(DATADIR, \"snp_str_ld.tab\"), sep=\"\\t\", names=[\"chrom\",\"strpos\",\"snppos\",\"distance\",\"r2\"])"
   ]
  },
  {
   "cell_type": "markdown",
   "metadata": {},
   "source": [
    "# Figure 2A: SNP-SNP vs. SNP-STR LD"
   ]
  },
  {
   "cell_type": "code",
   "execution_count": 27,
   "metadata": {
    "collapsed": false
   },
   "outputs": [
    {
     "data": {
      "image/png": "[encoded data removed]",
      "text/plain": [
       "<matplotlib.figure.Figure at 0x7f7fd5accba8>"
      ]
     },
     "metadata": {},
     "output_type": "display_data"
    }
   ],
   "source": [
    "snpsnp[\"distbin\"] = (snpsnp[\"distance\"]/BINSIZE).apply(int)\n",
    "snpsnp_bins = snpsnp.groupby(\"distbin\", as_index=False).agg({\"r2\": np.mean})\n",
    "\n",
    "snpstr[\"distbin\"] = (snpstr[\"distance\"].apply(abs)/BINSIZE).apply(int)\n",
    "snpstr_bins = snpstr.groupby(\"distbin\", as_index=False).agg({\"r2\": np.mean})\n",
    "\n",
    "fig = plt.figure()\n",
    "ax = fig.add_subplot(111)\n",
    "ax.scatter(snpsnp_bins[\"distbin\"]*BINSIZE, snpsnp_bins[\"r2\"], color=\"gray\");\n",
    "ax.scatter(snpstr_bins[\"distbin\"]*BINSIZE, snpstr_bins[\"r2\"], color=\"red\");\n",
    "ax.spines['right'].set_visible(False)\n",
    "ax.spines['top'].set_visible(False)\n",
    "ax.yaxis.set_ticks_position('left')\n",
    "ax.xaxis.set_ticks_position('bottom')\n",
    "ax.set_xlabel(\"Pairwise distance (bp)\", size=15)\n",
    "ax.set_ylabel(\"Mean r2\", size=15)\n",
    "ax.set_xticklabels([int(x) for x in ax.get_xticks()], size=12)\n",
    "ax.set_yticklabels([\"%0.2f\"%(x) for x in ax.get_yticks()], size=12);\n",
    "fig.savefig(os.path.join(OUTPATH, \"Figure2_SnpStrLD.pdf\"))"
   ]
  }
 ],
 "metadata": {
  "kernelspec": {
   "display_name": "Python 3",
   "language": "python",
   "name": "python3"
  },
  "language_info": {
   "codemirror_mode": {
    "name": "ipython",
    "version": 3
   },
   "file_extension": ".py",
   "mimetype": "text/x-python",
   "name": "python",
   "nbconvert_exporter": "python",
   "pygments_lexer": "ipython3",
   "version": "3.4.5"
  }
 },
 "nbformat": 4,
 "nbformat_minor": 2
}

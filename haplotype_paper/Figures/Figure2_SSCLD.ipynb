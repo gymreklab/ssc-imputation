{
 "cells": [
  {
   "cell_type": "code",
   "execution_count": null,
   "metadata": {
    "collapsed": true
   },
   "outputs": [],
   "source": [
    "# TODO redo snpstr ld with new values\n",
    "# TODO do snpstr ld vs. str allele\n",
    "# TODO het vs. locus LD\n",
    "# TODO freq vs. allele LD\n",
    "# TODO example locus"
   ]
  },
  {
   "cell_type": "code",
   "execution_count": 30,
   "metadata": {
    "collapsed": false
   },
   "outputs": [
    {
     "name": "stdout",
     "output_type": "stream",
     "text": [
      "Populating the interactive namespace from numpy and matplotlib\n"
     ]
    },
    {
     "name": "stderr",
     "output_type": "stream",
     "text": [
      "/usr/lib/python3.4/site-packages/IPython/core/magics/pylab.py:161: UserWarning: pylab import has clobbered these variables: ['colors']\n",
      "`%matplotlib` prevents importing * from pylab and numpy\n",
      "  \"\\n`%matplotlib` prevents importing * from pylab and numpy\"\n"
     ]
    }
   ],
   "source": [
    "%pylab inline\n",
    "\n",
    "# Allow us to edit fonts in Illustrator\n",
    "import matplotlib\n",
    "matplotlib.rcParams['ps.useafm'] = True\n",
    "matplotlib.rcParams['pdf.use14corefonts'] = True\n",
    "matplotlib.rcParams['text.usetex'] = True\n",
    "\n",
    "# Libraries\n",
    "import matplotlib.pyplot as plt\n",
    "import numpy as np\n",
    "import os\n",
    "import pandas as pd\n",
    "from matplotlib.patches import Polygon\n",
    "import scipy.stats\n",
    "from sklearn.cluster import AgglomerativeClustering\n",
    "from sklearn.decomposition import PCA\n",
    "\n",
    "DATADIR=\"/storage/mgymrek/ssc-imputation/\"\n",
    "OUTPATH=\"pdfs/\"\n",
    "WINDOW=50000\n",
    "BINSIZE=500\n",
    "\n",
    "# Load SNPSTR\n",
    "snpsnp = pd.read_csv(os.path.join(DATADIR, \"snpstr-ld\", \"snp_pairwise_ld_chr21.tab\"), sep=\"\\t\",\n",
    "                    names=[\"distance\",\"r2\"])\n",
    "snpstr = pd.read_csv(os.path.join(DATADIR, \"snpstr-ld\", \"snp_str_ld_chr21.tab\"), sep=\"\\t\",\n",
    "                      usecols=[0,1,5,6])\n",
    "snpstr[\"chrom\"] = snpstr[\"locus1\"].apply(lambda x: x.split(\":\")[0])\n",
    "snpstr[\"start\"] = snpstr[\"locus1\"].apply(lambda x: int(x.split(\":\")[1]))\n",
    "snpstr[\"distance\"] = snpstr.apply(lambda x: abs(int(x[\"locus1\"].split(\":\")[1])-int(x[\"locus2\"].split(\":\")[1])), 1)\n",
    "\n",
    "# Load SNPSTR - allele\n",
    "snpstr_a = pd.read_csv(os.path.join(DATADIR, \"snpstr-ld\", \"snp_str_ld_chr21_allele.tab\"), sep=\"\\t\",\n",
    "                      usecols=[0,1,3,5,6])\n",
    "snpstr_a = snpstr_a[~np.isnan(snpstr_a[\"r2\"])]\n",
    "snpstr_a[\"chrom\"] = snpstr_a[\"locus1\"].apply(lambda x: x.split(\":\")[0])\n",
    "snpstr_a[\"start\"] = snpstr_a[\"locus1\"].apply(lambda x: int(x.split(\":\")[1]))\n",
    "snpstr_a[\"distance\"] = snpstr_a.apply(lambda x: abs(int(x[\"locus1\"].split(\":\")[1])-int(x[\"locus2\"].split(\":\")[1])), 1)\n",
    "\n",
    "# Get best SNP per locus + stats\n",
    "locstats = pd.read_csv(os.path.join(DATADIR, \"callstats\", \"ssc_hipstr_locstats.tab\"), sep=\"\\t\")\n",
    "locstats[\"chrom\"] = locstats[\"chrom\"].apply(str)\n",
    "\n",
    "snpstr_best = snpstr.groupby(\"start\", as_index=False).agg({\"r2\": max})\n",
    "snpstr_best = pd.merge(snpstr_best, locstats, on=[\"start\"])\n",
    "snpstr_best_a = snpstr_a.groupby(\"start\", as_index=False).agg({\"r2\": max,\"freq\":np.mean})\n",
    "snpstr_best_a = pd.merge(snpstr_best_a, locstats, on=[\"start\"])\n",
    "#snpstr_best = snpstr_best[snpstr_best[\"FILTER\"]==\".\"] # add back\n",
    "#snpstr_best_a = snpstr_best_a[snpstr_best_a[\"FILTER\"]==\".\"] # add back"
   ]
  },
  {
   "cell_type": "markdown",
   "metadata": {},
   "source": [
    "# Figure 2A: SNP-SNP vs. SNP-STR LD"
   ]
  },
  {
   "cell_type": "code",
   "execution_count": 28,
   "metadata": {
    "collapsed": false
   },
   "outputs": [
    {
     "data": {
      "image/png": "[encoded data removed]",
      "text/plain": [
       "<matplotlib.figure.Figure at 0x7f5dab3d9b00>"
      ]
     },
     "metadata": {},
     "output_type": "display_data"
    }
   ],
   "source": [
    "snpsnp[\"distbin\"] = (snpsnp[\"distance\"]/BINSIZE).apply(int)\n",
    "snpsnp_bins = snpsnp.groupby(\"distbin\", as_index=False).agg({\"r2\": np.mean})\n",
    "\n",
    "snpstr[\"distbin\"] = (snpstr[\"distance\"].apply(abs)/BINSIZE).apply(int)\n",
    "snpstr_bins = snpstr.groupby(\"distbin\", as_index=False).agg({\"r2\": np.mean})\n",
    "\n",
    "fig = plt.figure()\n",
    "ax = fig.add_subplot(111)\n",
    "ax.scatter(snpsnp_bins[\"distbin\"]*BINSIZE, snpsnp_bins[\"r2\"], color=\"gray\");\n",
    "ax.scatter(snpstr_bins[\"distbin\"]*BINSIZE, snpstr_bins[\"r2\"], color=\"red\");\n",
    "ax.spines['right'].set_visible(False)\n",
    "ax.spines['top'].set_visible(False)\n",
    "ax.yaxis.set_ticks_position('left')\n",
    "ax.xaxis.set_ticks_position('bottom')\n",
    "ax.set_xlabel(\"Pairwise distance (bp)\", size=15)\n",
    "ax.set_ylabel(\"Mean r2\", size=15)\n",
    "ax.set_xticklabels([int(x) for x in ax.get_xticks()], size=12)\n",
    "ax.set_yticklabels([\"%0.2f\"%(x) for x in ax.get_yticks()], size=12);\n",
    "fig.savefig(os.path.join(OUTPATH, \"Figure2_SnpStrLD.pdf\"))"
   ]
  },
  {
   "cell_type": "markdown",
   "metadata": {},
   "source": [
    "# Figure 2B: Heterozygosity vs. best LD"
   ]
  },
  {
   "cell_type": "code",
   "execution_count": 29,
   "metadata": {
    "collapsed": false
   },
   "outputs": [
    {
     "data": {
      "image/png": "[encoded data removed]",
      "text/plain": [
       "<matplotlib.figure.Figure at 0x7f5dab5e5a90>"
      ]
     },
     "metadata": {},
     "output_type": "display_data"
    }
   ],
   "source": [
    "BINSIZE=0.1\n",
    "\n",
    "fig = plt.figure()\n",
    "fig.set_size_inches((7, 3))\n",
    "ax = fig.add_subplot(111)\n",
    "colors=[\"black\"]\n",
    "\n",
    "dfs = [snpstr_best]\n",
    "for i in range(len(dfs)):\n",
    "    x = dfs[i]\n",
    "    c = colors[i]\n",
    "    x[\"hetbin\"] = x[\"het\"].apply(lambda x: int(x/BINSIZE)*BINSIZE)\n",
    "    x = x[x[\"hetbin\"]>=0.1]\n",
    "    means_all = x.groupby(\"hetbin\", as_index=False).agg({\"r2\": mean})\n",
    "    medians_all = x.groupby(\"hetbin\", as_index=False).agg({\"r2\": median})\n",
    "    ax.plot(means_all[\"hetbin\"], means_all[\"r2\"], color=c, marker=\"o\")\n",
    "    ax.plot(medians_all[\"hetbin\"], medians_all[\"r2\"], color=c, marker=\"o\", linestyle=\"dashed\")\n",
    "ax.spines['right'].set_visible(False)\n",
    "ax.spines['top'].set_visible(False)\n",
    "ax.yaxis.set_ticks_position('left')\n",
    "ax.xaxis.set_ticks_position('bottom')\n",
    "ax.set_xlabel(\"Heterozygosity\", size=15)\n",
    "ax.set_ylabel(\"Best tagging SNP (r2)\", size=15)\n",
    "ax.set_xticklabels(ax.get_xticklabels(), size=12);\n",
    "ax.set_yticklabels([\"%0.1f\"%(x) for x in ax.get_yticks()], size=12);"
   ]
  },
  {
   "cell_type": "markdown",
   "metadata": {},
   "source": [
    "# Figure 2C: SNP-SNP vs. SNP-STR LD using allele-r2 - TODO"
   ]
  },
  {
   "cell_type": "markdown",
   "metadata": {},
   "source": [
    "# Figure 2D: Freq vs. LD - TODO"
   ]
  },
  {
   "cell_type": "markdown",
   "metadata": {},
   "source": [
    "# Figure 2E: Example back mutation - TODO"
   ]
  },
  {
   "cell_type": "markdown",
   "metadata": {},
   "source": [
    "# TODO\n",
    "cluster to haplotype groups all together first\n",
    "then plot ordered by hap group\n",
    "PCA on SNPs to cluster first?"
   ]
  },
  {
   "cell_type": "code",
   "execution_count": 120,
   "metadata": {
    "collapsed": false
   },
   "outputs": [],
   "source": [
    "numhaps = 1916*2\n",
    "colnames = [\"pos\",\"ref\",\"alt\"] + [\"hap_%s\"%i for i in range(numhaps)]\n",
    "haplotype = pd.read_csv(\"/storage/mgymrek/ssc-imputation/snpstr-ld/example_haplotypes.tab\", sep=\"\\t\",\n",
    "                       names=colnames, usecols=range(len(colnames)))\n",
    "# Annotate variant type\n",
    "haplotype[\"vartype\"] = haplotype.apply(lambda x: [\"SNP\",\"STR\"][int(len(x[\"ref\"])>1)], 1)\n",
    "\n",
    "# Set index\n",
    "haplotype.index = [\"SNP_%s\"%i for i in range(haplotype.shape[0]-1)] + [\"STR\"]\n",
    "\n",
    "# Annotate MAF for SNPs\n",
    "def GetMAF(x):\n",
    "    if x[\"vartype\"]==\"STR\": return 100\n",
    "    else:\n",
    "        hapcols = [item for item in x.keys() if \"hap\" in item]\n",
    "        num_alt = sum(x[hapcols])\n",
    "        num_total = len(x)-3\n",
    "        return num_alt*1.0/num_total\n",
    "haplotype[\"maf\"] = haplotype.apply(GetMAF, 1)\n",
    "\n",
    "# Annotate STR lengths\n",
    "ref = haplotype[haplotype[\"vartype\"]==\"STR\"][\"ref\"].values[0]\n",
    "alt = haplotype[haplotype[\"vartype\"]==\"STR\"][\"alt\"].values[0].split(\",\")\n",
    "str_allele_lengths = [len(ref)] + [len(item) for item in alt]\n",
    "\n",
    "for i in range(numhaps):\n",
    "    col = \"hap_%s\"%i\n",
    "    gtlen = str_allele_lengths[haplotype[haplotype[\"vartype\"]==\"STR\"][col].values[0]]\n",
    "    haplotype.loc[\"STR\", col] = gtlen"
   ]
  },
  {
   "cell_type": "code",
   "execution_count": 121,
   "metadata": {
    "collapsed": false
   },
   "outputs": [],
   "source": [
    "# Filter and transpose\n",
    "hapcols = colnames[3:]\n",
    "haplotype_filt = haplotype[haplotype[\"maf\"]>=0.1]\n",
    "haplotype_filt = haplotype_filt[hapcols].transpose()\n",
    "haplotype_filt = haplotype_filt.sort_values(by=\"STR\")"
   ]
  },
  {
   "cell_type": "code",
   "execution_count": null,
   "metadata": {
    "collapsed": true
   },
   "outputs": [],
   "source": [
    "def ClusterRows(hapmatrix, nclusters=6):\n",
    "    c = AgglomerativeClustering(n_clusters=min([hapmatrix.shape[0], nclusters]))\n",
    "    labels = c.fit_predict(hapmatrix)\n",
    "    idx = sorted([(labels[i], i) for i in range(hapmatrix.shape[0])])\n",
    "    neworder = [item[1] for item in idx]\n",
    "    return hapmatrix[neworder,:], neworder, [item[0] for item in idx]"
   ]
  },
  {
   "cell_type": "code",
   "execution_count": 110,
   "metadata": {
    "collapsed": false
   },
   "outputs": [
    {
     "name": "stderr",
     "output_type": "stream",
     "text": [
      "/usr/lib/python3.4/site-packages/ipykernel/__main__.py:7: SettingWithCopyWarning: \n",
      "A value is trying to be set on a copy of a slice from a DataFrame.\n",
      "Try using .loc[row_indexer,col_indexer] = value instead\n",
      "\n",
      "See the caveats in the documentation: http://pandas.pydata.org/pandas-docs/stable/indexing.html#indexing-view-versus-copy\n"
     ]
    },
    {
     "data": {
      "image/png": "[encoded data removed]",
      "text/plain": [
       "<matplotlib.figure.Figure at 0x7fba5b522f60>"
      ]
     },
     "metadata": {},
     "output_type": "display_data"
    },
    {
     "data": {
      "image/png": "[encoded data removed]",
      "text/plain": [
       "<matplotlib.figure.Figure at 0x7fba5af5e198>"
      ]
     },
     "metadata": {},
     "output_type": "display_data"
    },
    {
     "data": {
      "image/png": "[encoded data removed]",
      "text/plain": [
       "<matplotlib.figure.Figure at 0x7fba5b289400>"
      ]
     },
     "metadata": {},
     "output_type": "display_data"
    },
    {
     "data": {
      "image/png": "[encoded data removed]",
      "text/plain": [
       "<matplotlib.figure.Figure at 0x7fba5b9d1f28>"
      ]
     },
     "metadata": {},
     "output_type": "display_data"
    },
    {
     "data": {
      "image/png": "[encoded data removed]",
      "text/plain": [
       "<matplotlib.figure.Figure at 0x7fba5a5f1860>"
      ]
     },
     "metadata": {},
     "output_type": "display_data"
    },
    {
     "data": {
      "image/png": "[encoded data removed]",
      "text/plain": [
       "<matplotlib.figure.Figure at 0x7fbac659fe10>"
      ]
     },
     "metadata": {},
     "output_type": "display_data"
    },
    {
     "data": {
      "image/png": "[encoded data removed]",
      "text/plain": [
       "<matplotlib.figure.Figure at 0x7fbac65be048>"
      ]
     },
     "metadata": {},
     "output_type": "display_data"
    },
    {
     "data": {
      "image/png": "[encoded data removed]",
      "text/plain": [
       "<matplotlib.figure.Figure at 0x7fba5a2e5eb8>"
      ]
     },
     "metadata": {},
     "output_type": "display_data"
    },
    {
     "data": {
      "image/png": "[encoded data removed]",
      "text/plain": [
       "<matplotlib.figure.Figure at 0x7fba5a316828>"
      ]
     },
     "metadata": {},
     "output_type": "display_data"
    },
    {
     "data": {
      "image/png": "[encoded data removed]",
      "text/plain": [
       "<matplotlib.figure.Figure at 0x7fba5adb1b38>"
      ]
     },
     "metadata": {},
     "output_type": "display_data"
    }
   ],
   "source": [
    "# Cluster and annotate haplotypes of entire dataset first\n",
    "NCLUST=10\n",
    "snpcols = [item for item in haplotype_filt.columns if \"SNP\" in item]\n",
    "d = haplotype_filt[snpcols]\n",
    "d_cl, neworder, clustids = ClusterRows(hapmatrix, nclusters=NCLUST)\n",
    "haplotype_filt_reorder = haplotype_filt.iloc[neworder,]\n",
    "haplotype_filt_reorder[\"cluster\"] = clustids\n",
    "\n",
    "# Vis all first to see clusters\n",
    "for cnum in range(NCLUST):\n",
    "    hapmatrix = np.matrix(haplotype_filt_reorder[haplotype_filt_reorder[\"cluster\"]==cnum][snpcols])\n",
    "    fig = plt.figure()\n",
    "    ax = fig.add_subplot(111)\n",
    "    ax.imshow(hapmatrix, cmap='Greys', aspect=\"auto\", extent=(0, hapmatrix_cl.shape[1], 0, hapmatrix_cl.shape[0]))\n",
    "    ax.set_yticks([]);\n",
    "    ax.set_yticklabels([]);\n",
    "    ax.set_xticks([]);\n",
    "    ax.set_xticklabels([]);"
   ]
  },
  {
   "cell_type": "code",
   "execution_count": 101,
   "metadata": {
    "collapsed": false
   },
   "outputs": [
    {
     "data": {
      "text/html": [
       "<div>\n",
       "<style scoped>\n",
       "    .dataframe tbody tr th:only-of-type {\n",
       "        vertical-align: middle;\n",
       "    }\n",
       "\n",
       "    .dataframe tbody tr th {\n",
       "        vertical-align: top;\n",
       "    }\n",
       "\n",
       "    .dataframe thead th {\n",
       "        text-align: right;\n",
       "    }\n",
       "</style>\n",
       "<table border=\"1\" class=\"dataframe\">\n",
       "  <thead>\n",
       "    <tr style=\"text-align: right;\">\n",
       "      <th></th>\n",
       "      <th>SNP_2</th>\n",
       "      <th>SNP_7</th>\n",
       "      <th>SNP_8</th>\n",
       "      <th>SNP_13</th>\n",
       "      <th>SNP_15</th>\n",
       "      <th>SNP_16</th>\n",
       "      <th>SNP_18</th>\n",
       "      <th>SNP_21</th>\n",
       "      <th>SNP_35</th>\n",
       "      <th>SNP_36</th>\n",
       "      <th>...</th>\n",
       "      <th>SNP_995</th>\n",
       "      <th>SNP_998</th>\n",
       "      <th>SNP_999</th>\n",
       "      <th>SNP_1005</th>\n",
       "      <th>SNP_1020</th>\n",
       "      <th>SNP_1024</th>\n",
       "      <th>SNP_1026</th>\n",
       "      <th>SNP_1035</th>\n",
       "      <th>STR</th>\n",
       "      <th>cluster</th>\n",
       "    </tr>\n",
       "  </thead>\n",
       "  <tbody>\n",
       "    <tr>\n",
       "      <th>hap_3136</th>\n",
       "      <td>0</td>\n",
       "      <td>0</td>\n",
       "      <td>0</td>\n",
       "      <td>0</td>\n",
       "      <td>0</td>\n",
       "      <td>0</td>\n",
       "      <td>0</td>\n",
       "      <td>0</td>\n",
       "      <td>0</td>\n",
       "      <td>0</td>\n",
       "      <td>...</td>\n",
       "      <td>0</td>\n",
       "      <td>0</td>\n",
       "      <td>0</td>\n",
       "      <td>0</td>\n",
       "      <td>0</td>\n",
       "      <td>0</td>\n",
       "      <td>0</td>\n",
       "      <td>0</td>\n",
       "      <td>38</td>\n",
       "      <td>0</td>\n",
       "    </tr>\n",
       "    <tr>\n",
       "      <th>hap_99</th>\n",
       "      <td>0</td>\n",
       "      <td>0</td>\n",
       "      <td>0</td>\n",
       "      <td>0</td>\n",
       "      <td>0</td>\n",
       "      <td>0</td>\n",
       "      <td>0</td>\n",
       "      <td>0</td>\n",
       "      <td>0</td>\n",
       "      <td>0</td>\n",
       "      <td>...</td>\n",
       "      <td>0</td>\n",
       "      <td>0</td>\n",
       "      <td>0</td>\n",
       "      <td>0</td>\n",
       "      <td>0</td>\n",
       "      <td>0</td>\n",
       "      <td>0</td>\n",
       "      <td>0</td>\n",
       "      <td>38</td>\n",
       "      <td>0</td>\n",
       "    </tr>\n",
       "    <tr>\n",
       "      <th>hap_104</th>\n",
       "      <td>0</td>\n",
       "      <td>0</td>\n",
       "      <td>0</td>\n",
       "      <td>0</td>\n",
       "      <td>0</td>\n",
       "      <td>0</td>\n",
       "      <td>0</td>\n",
       "      <td>0</td>\n",
       "      <td>0</td>\n",
       "      <td>0</td>\n",
       "      <td>...</td>\n",
       "      <td>0</td>\n",
       "      <td>0</td>\n",
       "      <td>0</td>\n",
       "      <td>0</td>\n",
       "      <td>0</td>\n",
       "      <td>0</td>\n",
       "      <td>0</td>\n",
       "      <td>0</td>\n",
       "      <td>38</td>\n",
       "      <td>0</td>\n",
       "    </tr>\n",
       "    <tr>\n",
       "      <th>hap_3443</th>\n",
       "      <td>0</td>\n",
       "      <td>0</td>\n",
       "      <td>0</td>\n",
       "      <td>0</td>\n",
       "      <td>0</td>\n",
       "      <td>0</td>\n",
       "      <td>0</td>\n",
       "      <td>0</td>\n",
       "      <td>0</td>\n",
       "      <td>0</td>\n",
       "      <td>...</td>\n",
       "      <td>1</td>\n",
       "      <td>0</td>\n",
       "      <td>0</td>\n",
       "      <td>0</td>\n",
       "      <td>0</td>\n",
       "      <td>0</td>\n",
       "      <td>0</td>\n",
       "      <td>0</td>\n",
       "      <td>43</td>\n",
       "      <td>0</td>\n",
       "    </tr>\n",
       "    <tr>\n",
       "      <th>hap_3508</th>\n",
       "      <td>0</td>\n",
       "      <td>0</td>\n",
       "      <td>0</td>\n",
       "      <td>0</td>\n",
       "      <td>0</td>\n",
       "      <td>0</td>\n",
       "      <td>0</td>\n",
       "      <td>0</td>\n",
       "      <td>0</td>\n",
       "      <td>0</td>\n",
       "      <td>...</td>\n",
       "      <td>0</td>\n",
       "      <td>0</td>\n",
       "      <td>0</td>\n",
       "      <td>0</td>\n",
       "      <td>0</td>\n",
       "      <td>0</td>\n",
       "      <td>0</td>\n",
       "      <td>0</td>\n",
       "      <td>43</td>\n",
       "      <td>0</td>\n",
       "    </tr>\n",
       "  </tbody>\n",
       "</table>\n",
       "<p>5 rows × 195 columns</p>\n",
       "</div>"
      ],
      "text/plain": [
       "          SNP_2  SNP_7  SNP_8  SNP_13  SNP_15  SNP_16  SNP_18  SNP_21  SNP_35  \\\n",
       "hap_3136      0      0      0       0       0       0       0       0       0   \n",
       "hap_99        0      0      0       0       0       0       0       0       0   \n",
       "hap_104       0      0      0       0       0       0       0       0       0   \n",
       "hap_3443      0      0      0       0       0       0       0       0       0   \n",
       "hap_3508      0      0      0       0       0       0       0       0       0   \n",
       "\n",
       "          SNP_36   ...     SNP_995  SNP_998  SNP_999  SNP_1005  SNP_1020  \\\n",
       "hap_3136       0   ...           0        0        0         0         0   \n",
       "hap_99         0   ...           0        0        0         0         0   \n",
       "hap_104        0   ...           0        0        0         0         0   \n",
       "hap_3443       0   ...           1        0        0         0         0   \n",
       "hap_3508       0   ...           0        0        0         0         0   \n",
       "\n",
       "          SNP_1024  SNP_1026  SNP_1035  STR  cluster  \n",
       "hap_3136         0         0         0   38        0  \n",
       "hap_99           0         0         0   38        0  \n",
       "hap_104          0         0         0   38        0  \n",
       "hap_3443         0         0         0   43        0  \n",
       "hap_3508         0         0         0   43        0  \n",
       "\n",
       "[5 rows x 195 columns]"
      ]
     },
     "execution_count": 101,
     "metadata": {},
     "output_type": "execute_result"
    }
   ],
   "source": [
    "haplotype_filt_reorder.head()"
   ]
  },
  {
   "cell_type": "code",
   "execution_count": null,
   "metadata": {
    "collapsed": true
   },
   "outputs": [],
   "source": []
  },
  {
   "cell_type": "code",
   "execution_count": 83,
   "metadata": {
    "collapsed": false
   },
   "outputs": [
    {
     "data": {
      "image/png": "[encoded data removed]",
      "text/plain": [
       "<matplotlib.figure.Figure at 0x7fba5b351f60>"
      ]
     },
     "metadata": {},
     "output_type": "display_data"
    }
   ],
   "source": [
    "# SNP haplotypes per STR allele\n",
    "for allele in [63]:\n",
    "    d = haplotype_filt[haplotype_filt[\"STR\"]==allele]\n",
    "    hapmatrix = np.matrix(haplotype_filt_reorder[snpcols])\n",
    "    fig = plt.figure()\n",
    "    fig.set_size_inches((10, d.shape[0]*0.05))\n",
    "    ax = fig.add_subplot(111)\n",
    "    ax.imshow(hapmatrix_cl, cmap='Greys', aspect=\"auto\", extent=(0, hapmatrix_cl.shape[1], 0, hapmatrix_cl.shape[0]))\n",
    "    ax.set_yticks([]);\n",
    "    ax.set_yticklabels([]);\n",
    "    ax.set_xticks([]);\n",
    "    ax.set_xticklabels([]);\n",
    "    ax.set_title(\"STR allele %s\"%allele)"
   ]
  }
 ],
 "metadata": {
  "kernelspec": {
   "display_name": "Python 3",
   "language": "python",
   "name": "python3"
  },
  "language_info": {
   "codemirror_mode": {
    "name": "ipython",
    "version": 3
   },
   "file_extension": ".py",
   "mimetype": "text/x-python",
   "name": "python",
   "nbconvert_exporter": "python",
   "pygments_lexer": "ipython3",
   "version": "3.4.5"
  }
 },
 "nbformat": 4,
 "nbformat_minor": 2
}

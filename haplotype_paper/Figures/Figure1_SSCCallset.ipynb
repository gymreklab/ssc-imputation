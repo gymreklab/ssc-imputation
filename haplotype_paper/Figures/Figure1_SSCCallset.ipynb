{
 "cells": [
  {
   "cell_type": "code",
   "execution_count": 1,
   "metadata": {
    "collapsed": false
   },
   "outputs": [
    {
     "name": "stdout",
     "output_type": "stream",
     "text": [
      "Populating the interactive namespace from numpy and matplotlib\n"
     ]
    },
    {
     "name": "stderr",
     "output_type": "stream",
     "text": [
      "/usr/lib/python3.4/site-packages/IPython/core/interactiveshell.py:2717: DtypeWarning: Columns (0) have mixed types. Specify dtype option on import or set low_memory=False.\n",
      "  interactivity=interactivity, compiler=compiler, result=result)\n"
     ]
    }
   ],
   "source": [
    "%pylab inline\n",
    "\n",
    "# Allow us to edit fonts in Illustrator\n",
    "import matplotlib\n",
    "matplotlib.rcParams['ps.useafm'] = True\n",
    "matplotlib.rcParams['pdf.use14corefonts'] = True\n",
    "matplotlib.rcParams['text.usetex'] = True\n",
    "\n",
    "# Libraries\n",
    "import matplotlib.pyplot as plt\n",
    "import numpy as np\n",
    "import os\n",
    "import pandas as pd\n",
    "from matplotlib.patches import Polygon\n",
    "\n",
    "HIPREF=\"/storage/resources/dbase/human/hs37d5/GRCh37.hipstr_reference.bed\"\n",
    "DATAPATH=\"/storage/mgymrek/ssc-imputation/callstats/\"\n",
    "OUTPATH=\"pdfs/\"\n",
    "\n",
    "colors = [\"gray\",\"red\",\"gold\",\"blue\",\"green\",\"purple\"]\n",
    "\n",
    "hipstr = pd.read_csv(HIPREF, sep=\"\\t\", names=[\"chrom\",\"start\",\"end\",\"period\",\"score\",\"name\"])\n",
    "hipstr = hipstr[hipstr[\"chrom\"].apply(lambda x: x not in [\"X\",\"Y\"])]\n",
    "hipstr[\"chrom\"] = hipstr[\"chrom\"].apply(str)\n",
    "\n",
    "MINLOB = 500 # Min number of 1000G calls to include in heterozygosity comparison"
   ]
  },
  {
   "cell_type": "markdown",
   "metadata": {},
   "source": [
    "# Load info"
   ]
  },
  {
   "cell_type": "code",
   "execution_count": 2,
   "metadata": {
    "collapsed": false
   },
   "outputs": [],
   "source": [
    "locstats = pd.read_csv(os.path.join(DATAPATH, \"ssc_hipstr_locstats.tab\"), sep=\"\\t\")\n",
    "locstats[\"chrom\"] = locstats[\"chrom\"].apply(str)\n",
    "locstats[\"length\"] = locstats[\"end\"]-locstats[\"start\"]+1"
   ]
  },
  {
   "cell_type": "code",
   "execution_count": 3,
   "metadata": {
    "collapsed": false
   },
   "outputs": [],
   "source": [
    "sampstats = pd.read_fwf(os.path.join(DATAPATH, \"ssc_hipstr_sampstats.tab\"), names=[\"numloci\",\"sample\"])\n",
    "sampstats = sampstats.groupby(\"sample\", as_index=False).agg({\"numloci\": np.sum})"
   ]
  },
  {
   "cell_type": "code",
   "execution_count": 4,
   "metadata": {
    "collapsed": false
   },
   "outputs": [],
   "source": [
    "mend = pd.read_csv(os.path.join(DATAPATH, \"ssc_hipstr_mendstats.tab\"), sep=\"\\t\", nrows=1000000)\n",
    "mend[\"mend\"] = mend[\"mend\"].apply(int)\n",
    "mend[\"chrom\"] = mend[\"chrom\"].apply(str)\n",
    "mend = pd.merge(mend, hipstr, on=[\"chrom\",\"start\"])\n",
    "mend = mend[~mend[\"homref\"]]"
   ]
  },
  {
   "cell_type": "markdown",
   "metadata": {},
   "source": [
    "# Call rate per locus"
   ]
  },
  {
   "cell_type": "code",
   "execution_count": 5,
   "metadata": {
    "collapsed": false
   },
   "outputs": [
    {
     "data": {
      "image/png": "[encoded data removed]",
      "text/plain": [
       "<matplotlib.figure.Figure at 0x7f7b1bfb0198>"
      ]
     },
     "metadata": {},
     "output_type": "display_data"
    }
   ],
   "source": [
    "fig = plt.figure()\n",
    "ax = fig.add_subplot(111)\n",
    "# Merge with hipstr reference so we get loci with 0 calls\n",
    "locstats_all = pd.merge(hipstr, locstats, on=[\"chrom\",\"start\",\"end\",\"period\"], how=\"left\")\n",
    "locstats_all.ix[np.isnan(locstats_all[\"numcalls\"]), \"numcalls\"] = 0\n",
    "ax.hist(locstats[\"numcalls\"], log=True, color=\"black\", edgecolor=\"white\", bins=25);\n",
    "ax.spines['right'].set_visible(False)\n",
    "ax.spines['top'].set_visible(False)\n",
    "ax.yaxis.set_ticks_position('left')\n",
    "ax.xaxis.set_ticks_position('bottom')\n",
    "ax.set_xlabel(\"Number of samples\", size=15)\n",
    "ax.set_ylabel(\"Number of loci\", size=15)\n",
    "ax.set_xticklabels([int(x) for x in ax.get_xticks()], size=12)\n",
    "ax.set_yticklabels([int(x) for x in ax.get_yticks()], size=12);\n",
    "#fig.savefig(os.path.join(OUTPATH, \"Figure1_SamplesPerLocus.png\"))"
   ]
  },
  {
   "cell_type": "code",
   "execution_count": 6,
   "metadata": {
    "collapsed": false
   },
   "outputs": [
    {
     "data": {
      "text/plain": [
       "0.0011996744115079228"
      ]
     },
     "execution_count": 6,
     "metadata": {},
     "output_type": "execute_result"
    }
   ],
   "source": [
    "# Overall call rate\n",
    "1-locstats_all[locstats_all[\"numcalls\"]==0].shape[0]/locstats_all.shape[0]"
   ]
  },
  {
   "cell_type": "markdown",
   "metadata": {},
   "source": [
    "# Length bias"
   ]
  },
  {
   "cell_type": "code",
   "execution_count": 7,
   "metadata": {
    "collapsed": false
   },
   "outputs": [],
   "source": [
    "reflen = range(10, 100, 1)\n",
    "diffs = []\n",
    "percs = []\n",
    "for i in range(len(reflen)-1):\n",
    "    lb = reflen[i]\n",
    "    ub = reflen[i+1]\n",
    "    x = locstats[(locstats[\"length\"]>=lb) & (locstats[\"length\"]<ub)]\n",
    "    if x.shape[0] <= 25:\n",
    "        diffs.append(np.nan)\n",
    "    else:\n",
    "        diffs.append(sum(x.apply(lambda x: x[\"mean_allele\"]*x[\"numcalls\"], 1))/sum(x[\"numcalls\"]))\n",
    "    percs.append(locstats[locstats[\"length\"]<ub].shape[0]*1.0/locstats.shape[0])"
   ]
  },
  {
   "cell_type": "code",
   "execution_count": 8,
   "metadata": {
    "collapsed": false
   },
   "outputs": [
    {
     "data": {
      "text/plain": [
       "<matplotlib.lines.Line2D at 0x7f7b88c35cc0>"
      ]
     },
     "execution_count": 8,
     "metadata": {},
     "output_type": "execute_result"
    },
    {
     "data": {
      "image/png": "[encoded data removed]",
      "text/plain": [
       "<matplotlib.figure.Figure at 0x7f7b1bfd2208>"
      ]
     },
     "metadata": {},
     "output_type": "display_data"
    }
   ],
   "source": [
    "xmax = 100\n",
    "fig = plt.figure()\n",
    "ax = fig.add_subplot(111)\n",
    "ax.scatter(reflen[:-1], diffs, color=\"black\", s=7);\n",
    "ax.set_xlabel(\"Reference length (bp in hg19)\", size=15)\n",
    "ax.set_ylabel(\"Median Deviation (bp)\", size=15)\n",
    "ax.set_ylim(bottom=-2, top=2)\n",
    "ax.set_xlim(left=10, right=xmax)\n",
    "ax.set_yticklabels(ax.get_yticks(), size=12)\n",
    "ax.axhline(y=0, linestyle=\"dashed\", color=\"gray\")\n",
    "\n",
    "ax2 = ax.twinx()\n",
    "ax2.plot(reflen[:-1], percs, color=\"red\");\n",
    "ax2.set_ylim(bottom=0, top=1)\n",
    "ax2.set_xlim(left=10, right=xmax)\n",
    "ax2.set_xticklabels([int(x) for x in ax.get_xticks()], size=12);\n",
    "ax2.axvline(x=40, linestyle=\"dashed\", color=\"gray\")"
   ]
  },
  {
   "cell_type": "markdown",
   "metadata": {},
   "source": [
    "# Calls/sample"
   ]
  },
  {
   "cell_type": "code",
   "execution_count": 9,
   "metadata": {
    "collapsed": false
   },
   "outputs": [
    {
     "data": {
      "image/png": "[encoded data removed]",
      "text/plain": [
       "<matplotlib.figure.Figure at 0x7f7b1bfd25c0>"
      ]
     },
     "metadata": {},
     "output_type": "display_data"
    }
   ],
   "source": [
    "fig = plt.figure()\n",
    "ax = fig.add_subplot(111)\n",
    "ax.hist(sampstats[\"numloci\"], color=\"black\", edgecolor=\"white\", bins=25);\n",
    "ax.spines['right'].set_visible(False)\n",
    "ax.spines['top'].set_visible(False)\n",
    "ax.yaxis.set_ticks_position('left')\n",
    "ax.xaxis.set_ticks_position('bottom')\n",
    "ax.set_xlabel(\"Number of loci\", size=15)\n",
    "ax.set_ylabel(\"Number of samples\", size=15)\n",
    "ax.set_xticklabels([int(x) for x in ax.get_xticks()], size=12)\n",
    "ax.set_yticklabels([int(x) for x in ax.get_yticks()], size=12);\n",
    "ax.axvline(x=np.mean(sampstats[\"numloci\"]), color=\"gray\", linestyle=\"dashed\")\n",
    "fig.savefig(os.path.join(OUTPATH, \"Figure1_LociPerSample.pdf\"))"
   ]
  },
  {
   "cell_type": "markdown",
   "metadata": {},
   "source": [
    "# Mendelian inheritance"
   ]
  },
  {
   "cell_type": "code",
   "execution_count": 10,
   "metadata": {
    "collapsed": false
   },
   "outputs": [
    {
     "data": {
      "image/png": "[encoded data removed]",
      "text/plain": [
       "<matplotlib.figure.Figure at 0x7f7b89438940>"
      ]
     },
     "metadata": {},
     "output_type": "display_data"
    }
   ],
   "source": [
    "# Mendelian inheritance vs. qual\n",
    "fig = plt.figure()\n",
    "ax = fig.add_subplot(111)\n",
    "scores = np.arange(0.0, 1, 0.05)\n",
    "\n",
    "for period in range(1, 7):\n",
    "    mend_scores = []\n",
    "    for q in scores:\n",
    "        x = mend[(mend[\"Q\"]>=q) & (mend[\"period\"]==period)]\n",
    "        if x.shape[0] >= 50:\n",
    "            mend_scores.append(np.mean(x[\"mend\"]))\n",
    "        else: mend_scores.append(np.nan)\n",
    "    ax.plot(scores, mend_scores, color=colors[period-1], marker=\"o\");\n",
    "ax.spines['right'].set_visible(False)\n",
    "ax.spines['top'].set_visible(False)\n",
    "ax.yaxis.set_ticks_position('left')\n",
    "ax.xaxis.set_ticks_position('bottom')\n",
    "ax.set_xlabel(\"Q threshold\", size=15)\n",
    "ax.set_ylabel(\"Mendelian inheritance rate\", size=15)\n",
    "ax.set_xticklabels([(x) for x in ax.get_xticks()], size=12)\n",
    "ax.set_yticklabels([(x) for x in ax.get_yticks()], size=12);\n",
    "#fig.savefig(os.path.join(OUTPATH, \"Figure1_MendInheritance.pdf\"))"
   ]
  },
  {
   "cell_type": "markdown",
   "metadata": {},
   "source": [
    "# Comparison to lobSTR heterozygosities"
   ]
  },
  {
   "cell_type": "code",
   "execution_count": 11,
   "metadata": {
    "collapsed": false
   },
   "outputs": [],
   "source": [
    "lobstr = pd.read_csv(os.path.join(DATAPATH, \"lobstr_het_stats.tab\"), sep=\"\\t\", names=[\"chrom\",\"start\",\"het_lobstr\",\"numcalls\"])\n",
    "lobstr[\"chrom\"] = lobstr[\"chrom\"].apply(lambda x: str(x[3:]))\n",
    "lobstr = lobstr[lobstr[\"numcalls\"]>=MINLOB]\n",
    "het = pd.merge(lobstr, locstats[[\"chrom\",\"start\",\"het\"]], on=[\"chrom\",\"start\"])"
   ]
  },
  {
   "cell_type": "code",
   "execution_count": 12,
   "metadata": {
    "collapsed": false
   },
   "outputs": [
    {
     "data": {
      "image/png": "[encoded data removed]",
      "text/plain": [
       "<matplotlib.figure.Figure at 0x7f7b18c2c6d8>"
      ]
     },
     "metadata": {},
     "output_type": "display_data"
    }
   ],
   "source": [
    "fig = plt.figure()\n",
    "ax = fig.add_subplot(111)\n",
    "ax.scatter(het[\"het_lobstr\"], het[\"het\"], color=\"black\", alpha=0.01);\n",
    "ax.plot([0,1],[0,1], linestyle=\"dashed\", color=\"red\")\n",
    "ax.spines['right'].set_visible(False)\n",
    "ax.spines['top'].set_visible(False)\n",
    "ax.yaxis.set_ticks_position('left')\n",
    "ax.xaxis.set_ticks_position('bottom')\n",
    "ax.set_xlabel(\"Heterozygosity - 1000G\", size=15)\n",
    "ax.set_ylabel(\"Heterozygosity - SSC\", size=15)\n",
    "ax.set_xticklabels([(x) for x in ax.get_xticks()], size=12)\n",
    "ax.set_yticklabels([(x) for x in ax.get_yticks()], size=12);\n",
    "#fig.savefig(os.path.join(OUTPATH, \"Figure1_Heterozygosities.png\"))"
   ]
  }
 ],
 "metadata": {
  "kernelspec": {
   "display_name": "Python 3",
   "language": "python",
   "name": "python3"
  },
  "language_info": {
   "codemirror_mode": {
    "name": "ipython",
    "version": 3
   },
   "file_extension": ".py",
   "mimetype": "text/x-python",
   "name": "python",
   "nbconvert_exporter": "python",
   "pygments_lexer": "ipython3",
   "version": "3.4.5"
  }
 },
 "nbformat": 4,
 "nbformat_minor": 2
}

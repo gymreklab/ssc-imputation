{
 "cells": [
  {
   "cell_type": "code",
   "execution_count": 4,
   "metadata": {
    "collapsed": false
   },
   "outputs": [
    {
     "name": "stdout",
     "output_type": "stream",
     "text": [
      "Populating the interactive namespace from numpy and matplotlib\n"
     ]
    },
    {
     "name": "stderr",
     "output_type": "stream",
     "text": [
      "/usr/lib/python3.4/site-packages/IPython/core/interactiveshell.py:2785: DtypeWarning: Columns (0) have mixed types. Specify dtype option on import or set low_memory=False.\n",
      "  interactivity=interactivity, compiler=compiler, result=result)\n"
     ]
    }
   ],
   "source": [
    "%pylab inline\n",
    "\n",
    "# Allow us to edit fonts in Illustrator\n",
    "import matplotlib\n",
    "matplotlib.rcParams['ps.useafm'] = True\n",
    "matplotlib.rcParams['pdf.use14corefonts'] = True\n",
    "matplotlib.rcParams['text.usetex'] = True\n",
    "\n",
    "# Libraries\n",
    "import matplotlib.pyplot as plt\n",
    "import numpy as np\n",
    "import os\n",
    "import pandas as pd\n",
    "from matplotlib.patches import Polygon\n",
    "import scipy.stats\n",
    "import seaborn as sns\n",
    "sns.set_style(\"white\")\n",
    "from matplotlib.colors import LogNorm\n",
    "\n",
    "HIPREF=\"/storage/resources/dbase/human/hs37d5/GRCh37.hipstr_reference.bed\"\n",
    "DATAPATH=\"/storage/mgymrek/ssc-imputation/callstats/\"\n",
    "PCAFILE=\"/storage/s1saini/ssc-pca/pca_10.eigenvec\"\n",
    "ONEKGPOP=\"/home/mgymrek/workspace/ssc-imputation/denovos2/other_data/1000GenomesPopulations.csv\"\n",
    "SSCFAMS=\"/home/mgymrek/workspace/ssc-imputation/metadata/ssc_family_ids.txt\"\n",
    "POPCOLORS = {\n",
    "    \"EUR\": \"green\",\n",
    "    \"AFR\": \"red\",\n",
    "    \"EAS\": \"orange\",\n",
    "    \"SAS\": \"purple\"\n",
    "}\n",
    "\n",
    "OUTPATH=\"pdfs/\"\n",
    "\n",
    "colors = [\"gray\",\"red\",\"gold\",\"blue\",\"green\",\"purple\"]\n",
    "\n",
    "hipstr = pd.read_csv(HIPREF, sep=\"\\t\", names=[\"chrom\",\"start\",\"end\",\"period\",\"score\",\"name\"])\n",
    "hipstr = hipstr[hipstr[\"chrom\"].apply(lambda x: x not in [\"X\",\"Y\"])]\n",
    "hipstr[\"chrom\"] = hipstr[\"chrom\"].apply(str)\n",
    "\n",
    "MINLOB = 500 # Min number of 1000G calls to include in heterozygosity comparison\n",
    "NUMSAMPLES=1916"
   ]
  },
  {
   "cell_type": "markdown",
   "metadata": {},
   "source": [
    "# Load info"
   ]
  },
  {
   "cell_type": "code",
   "execution_count": 6,
   "metadata": {
    "collapsed": false
   },
   "outputs": [],
   "source": [
    "locstats = pd.read_csv(os.path.join(DATAPATH, \"ssc_hipstr_locstats.tab\"), sep=\"\\t\")\n",
    "locstats[\"chrom\"] = locstats[\"chrom\"].apply(str)\n",
    "locstats[\"length\"] = locstats[\"end\"]-locstats[\"start\"]+1"
   ]
  },
  {
   "cell_type": "code",
   "execution_count": 6,
   "metadata": {
    "collapsed": false
   },
   "outputs": [],
   "source": [
    "sampstats = pd.read_fwf(os.path.join(DATAPATH, \"ssc_hipstr_sampstats.tab\"), names=[\"numloci\",\"sample\"])\n",
    "sampstats = sampstats.groupby(\"sample\", as_index=False).agg({\"numloci\": np.sum})"
   ]
  },
  {
   "cell_type": "code",
   "execution_count": 4,
   "metadata": {
    "collapsed": false
   },
   "outputs": [],
   "source": [
    "mend = pd.read_csv(os.path.join(DATAPATH, \"ssc_hipstr_mendstats.tab\"), sep=\"\\t\", nrows=1000000)\n",
    "mend[\"mend\"] = mend[\"mend\"].apply(int)\n",
    "mend[\"chrom\"] = mend[\"chrom\"].apply(str)\n",
    "mend = pd.merge(mend, hipstr, on=[\"chrom\",\"start\"])\n",
    "mend = mend[~mend[\"homref\"]]\n",
    "mend = pd.merge(mend, locstats[[\"chrom\",\"start\",\"end\",\"FILTER\"]], on=[\"chrom\",\"start\"])"
   ]
  },
  {
   "cell_type": "markdown",
   "metadata": {},
   "source": [
    "# Figure 1B: Calls/sample"
   ]
  },
  {
   "cell_type": "code",
   "execution_count": 6,
   "metadata": {
    "collapsed": false
   },
   "outputs": [
    {
     "data": {
      "image/png": "[encoded data removed]",
      "text/plain": [
       "<matplotlib.figure.Figure at 0x7f7d2c832748>"
      ]
     },
     "metadata": {},
     "output_type": "display_data"
    }
   ],
   "source": [
    "fig = plt.figure()\n",
    "ax = fig.add_subplot(111)\n",
    "ax.hist(sampstats[\"numloci\"], color=\"black\", edgecolor=\"white\", bins=25, alpha=0.5);\n",
    "ax.spines['right'].set_visible(False)\n",
    "ax.spines['top'].set_visible(False)\n",
    "ax.yaxis.set_ticks_position('left')\n",
    "ax.xaxis.set_ticks_position('bottom')\n",
    "ax.set_xlabel(\"Number of loci (million)\", size=15)\n",
    "ax.set_ylabel(\"Number of samples\", size=15)\n",
    "ax.set_xticklabels([(x)/10**6 for x in ax.get_xticks()], size=12)\n",
    "ax.set_yticklabels([int(x) for x in ax.get_yticks()], size=12);\n",
    "ax.axvline(x=np.mean(sampstats[\"numloci\"]), color=\"black\", linestyle=\"dashed\")\n",
    "fig.savefig(os.path.join(OUTPATH, \"Figure1_LociPerSample.pdf\"))"
   ]
  },
  {
   "cell_type": "code",
   "execution_count": 7,
   "metadata": {
    "collapsed": false
   },
   "outputs": [
    {
     "data": {
      "text/plain": [
       "1136915.9185803758"
      ]
     },
     "execution_count": 7,
     "metadata": {},
     "output_type": "execute_result"
    }
   ],
   "source": [
    "# Average calls/sample\n",
    "np.mean(sampstats[\"numloci\"])"
   ]
  },
  {
   "cell_type": "markdown",
   "metadata": {},
   "source": [
    "# Figure 1C: Call rate per locus"
   ]
  },
  {
   "cell_type": "code",
   "execution_count": 8,
   "metadata": {
    "collapsed": false
   },
   "outputs": [
    {
     "name": "stderr",
     "output_type": "stream",
     "text": [
      "/usr/lib/python3.4/site-packages/ipykernel/__main__.py:2: DeprecationWarning: \n",
      ".ix is deprecated. Please use\n",
      ".loc for label based indexing or\n",
      ".iloc for positional indexing\n",
      "\n",
      "See the documentation here:\n",
      "http://pandas.pydata.org/pandas-docs/stable/indexing.html#ix-indexer-is-deprecated\n",
      "  from ipykernel import kernelapp as app\n"
     ]
    }
   ],
   "source": [
    "locstats_all = pd.merge(hipstr, locstats, on=[\"chrom\",\"start\",\"end\",\"period\"], how=\"left\")\n",
    "locstats_all.ix[np.isnan(locstats_all[\"numcalls\"]), \"numcalls\"] = 0\n",
    "counts, bins = np.histogram(locstats[\"numcalls\"], bins=25)"
   ]
  },
  {
   "cell_type": "code",
   "execution_count": 9,
   "metadata": {
    "collapsed": false
   },
   "outputs": [
    {
     "data": {
      "image/png": "[encoded data removed]",
      "text/plain": [
       "<matplotlib.figure.Figure at 0x7f7d2cc25358>"
      ]
     },
     "metadata": {},
     "output_type": "display_data"
    }
   ],
   "source": [
    "fig = plt.figure()\n",
    "ax = fig.add_subplot(111)\n",
    "# Merge with hipstr reference so we get loci with 0 calls\n",
    "ax.bar(bins[:-1], np.log10(counts), color=\"black\", width=(bins[1]-bins[0])/1.15, edgecolor=\"white\", alpha=0.5);\n",
    "ax.set_ylim(bottom=3.5, top=6);\n",
    "ax.spines['right'].set_visible(False)\n",
    "ax.spines['top'].set_visible(False)\n",
    "ax.yaxis.set_ticks_position('left')\n",
    "ax.xaxis.set_ticks_position('bottom')\n",
    "ax.set_xlabel(\"Number of samples\", size=15)\n",
    "ax.set_ylabel(\"Number of loci\", size=15)\n",
    "ax.set_xticklabels([int(x) for x in ax.get_xticks()], size=12)\n",
    "ax.set_yticklabels([int(x) for x in ax.get_yticks()], size=12);\n",
    "ax.axvline(np.mean(locstats[\"numcalls\"]), color=\"black\", linestyle=\"dashed\")\n",
    "fig.savefig(os.path.join(OUTPATH, \"Figure1_SamplesPerLocus.pdf\"))"
   ]
  },
  {
   "cell_type": "code",
   "execution_count": 10,
   "metadata": {
    "collapsed": false
   },
   "outputs": [
    {
     "data": {
      "text/plain": [
       "0.9672751846967255"
      ]
     },
     "execution_count": 10,
     "metadata": {},
     "output_type": "execute_result"
    }
   ],
   "source": [
    "# Overall call rate\n",
    "1-locstats_all[locstats_all[\"numcalls\"]==0].shape[0]/locstats_all.shape[0]"
   ]
  },
  {
   "cell_type": "code",
   "execution_count": 11,
   "metadata": {
    "collapsed": false
   },
   "outputs": [
    {
     "data": {
      "text/plain": [
       "0.9037484045372617"
      ]
     },
     "execution_count": 11,
     "metadata": {},
     "output_type": "execute_result"
    }
   ],
   "source": [
    "# Average call rate\n",
    "np.mean(locstats[\"numcalls\"])/NUMSAMPLES"
   ]
  },
  {
   "cell_type": "code",
   "execution_count": 12,
   "metadata": {
    "collapsed": false
   },
   "outputs": [
    {
     "data": {
      "text/plain": [
       "453671"
      ]
     },
     "execution_count": 12,
     "metadata": {},
     "output_type": "execute_result"
    }
   ],
   "source": [
    "# Loci remaining after filtering\n",
    "locstats[locstats[\"FILTER\"]==\".\"].shape[0]"
   ]
  },
  {
   "cell_type": "markdown",
   "metadata": {},
   "source": [
    "# Figure 1D: Mendelian inheritance"
   ]
  },
  {
   "cell_type": "code",
   "execution_count": 42,
   "metadata": {
    "collapsed": false
   },
   "outputs": [
    {
     "data": {
      "image/png": "[encoded data removed]",
      "text/plain": [
       "<matplotlib.figure.Figure at 0x7f76240eb160>"
      ]
     },
     "metadata": {},
     "output_type": "display_data"
    }
   ],
   "source": [
    "# Mendelian inheritance vs. qual\n",
    "fig = plt.figure()\n",
    "ax = fig.add_subplot(111)\n",
    "scores = np.arange(0.9, 1.1, 0.01)\n",
    "\n",
    "mend_pass = mend[(mend[\"FILTER\"]==\".\")]\n",
    "mend_fail = mend[(mend[\"FILTER\"]!=\".\")]\n",
    "\n",
    "for period in range(1, 7):\n",
    "    mend_scores_pass = []\n",
    "    mend_scores_fail = []\n",
    "    for q in scores:\n",
    "        x_pass = mend_pass[(mend_pass[\"Q\"]>=q) & (mend_pass[\"period\"]==period)]\n",
    "        if x_pass.shape[0] >= 50:\n",
    "            mend_scores_pass.append(np.mean(x_pass[\"mend\"]))\n",
    "        else: mend_scores_pass.append(np.nan)\n",
    "        x_fail = mend_fail[(mend_fail[\"Q\"]>=q) & (mend_fail[\"period\"]==period)]\n",
    "        if x_fail.shape[0] >= 50:\n",
    "            mend_scores_fail.append(np.mean(x_fail[\"mend\"]))\n",
    "        else: mend_scores_fail.append(np.nan)\n",
    "    ax.plot(scores, mend_scores_pass, color=colors[period-1], marker=\"o\");\n",
    "    ax.plot(scores, mend_scores_fail, color=colors[period-1], linestyle=\"dashed\");\n",
    "    \n",
    "ax.spines['right'].set_visible(False)\n",
    "ax.spines['top'].set_visible(False)\n",
    "ax.yaxis.set_ticks_position('left')\n",
    "ax.xaxis.set_ticks_position('bottom')\n",
    "ax.set_xlabel(\"Q threshold\", size=15)\n",
    "ax.set_ylabel(\"Mendelian inheritance rate\", size=15)\n",
    "ax.set_xticklabels([\"%.2f\"%(x) for x in ax.get_xticks()], size=12)\n",
    "ax.set_yticklabels([\"%.3f\"%(x) for x in ax.get_yticks()], size=12);\n",
    "fig.savefig(os.path.join(OUTPATH, \"Figure1_MendelianInheritance.pdf\"))"
   ]
  },
  {
   "cell_type": "code",
   "execution_count": 43,
   "metadata": {
    "collapsed": false
   },
   "outputs": [
    {
     "data": {
      "text/plain": [
       "0.97864280302488815"
      ]
     },
     "execution_count": 43,
     "metadata": {},
     "output_type": "execute_result"
    }
   ],
   "source": [
    "# Average Mend. inheritance before filtering \n",
    "np.mean(mend_fail[\"mend\"])"
   ]
  },
  {
   "cell_type": "code",
   "execution_count": 44,
   "metadata": {
    "collapsed": false
   },
   "outputs": [
    {
     "data": {
      "text/plain": [
       "0.99782613390151376"
      ]
     },
     "execution_count": 44,
     "metadata": {},
     "output_type": "execute_result"
    }
   ],
   "source": [
    "# Average Mend. inheritance after filtering \n",
    "np.mean(mend_pass[\"mend\"])"
   ]
  },
  {
   "cell_type": "markdown",
   "metadata": {},
   "source": [
    "# Figure 1E: Comparison to lobSTR heterozygosities"
   ]
  },
  {
   "cell_type": "code",
   "execution_count": 7,
   "metadata": {
    "collapsed": false
   },
   "outputs": [],
   "source": [
    "lobstr = pd.read_csv(os.path.join(DATAPATH, \"lobstr_het_stats.tab\"), sep=\"\\t\", names=[\"chrom\",\"start\",\"het_lobstr\",\"numcalls\"])\n",
    "lobstr[\"chrom\"] = lobstr[\"chrom\"].apply(lambda x: str(x[3:]))\n",
    "lobstr = lobstr[lobstr[\"numcalls\"]>=MINLOB]\n",
    "het = pd.merge(lobstr, locstats[[\"chrom\",\"start\",\"het\",\"FILTER\"]], on=[\"chrom\",\"start\"])\n",
    "het = het[(het[\"FILTER\"]==\".\") | (het[\"FILTER\"]==\"Het\")]"
   ]
  },
  {
   "cell_type": "code",
   "execution_count": 14,
   "metadata": {
    "collapsed": false
   },
   "outputs": [
    {
     "data": {
      "image/png": "[encoded data removed]",
      "text/plain": [
       "<matplotlib.figure.Figure at 0x7f0ca2de5fd0>"
      ]
     },
     "metadata": {},
     "output_type": "display_data"
    }
   ],
   "source": [
    "x = het[het[\"het\"]>0.095][\"het_lobstr\"]\n",
    "y = het[het[\"het\"]>0.095][\"het\"]\n",
    "plt.hist2d(x, y, bins=50, norm=LogNorm(), cmap=plt.cm.jet)\n",
    "plt.colorbar()\n",
    "plt.xlabel(\"Heterozygosity - 1000G\")\n",
    "plt.ylabel(\"Heterozygosity - SSC\")\n",
    "plt.savefig(os.path.join(OUTPATH, \"Figure1_Heterozygosities.pdf\"));"
   ]
  },
  {
   "cell_type": "code",
   "execution_count": 47,
   "metadata": {
    "collapsed": false
   },
   "outputs": [
    {
     "name": "stdout",
     "output_type": "stream",
     "text": [
      "0.955498900848\t0.0\t386100\n"
     ]
    }
   ],
   "source": [
    "# Correlation with lobSTR heterozygosities\n",
    "r, p = scipy.stats.pearsonr(het[\"het_lobstr\"], het[\"het\"])\n",
    "print(\"\\t\".join([str(item) for item in [r, p, het.shape[0]]]))"
   ]
  },
  {
   "cell_type": "markdown",
   "metadata": {},
   "source": [
    "# Supplemental Figure: SSC Populations"
   ]
  },
  {
   "cell_type": "code",
   "execution_count": 35,
   "metadata": {
    "collapsed": false
   },
   "outputs": [
    {
     "name": "stderr",
     "output_type": "stream",
     "text": [
      "/usr/lib/python3.4/site-packages/ipykernel/__main__.py:26: SettingWithCopyWarning: \n",
      "A value is trying to be set on a copy of a slice from a DataFrame.\n",
      "Try using .loc[row_indexer,col_indexer] = value instead\n",
      "\n",
      "See the caveats in the documentation: http://pandas.pydata.org/pandas-docs/stable/indexing.html#indexing-view-versus-copy\n",
      "/usr/lib/python3.4/site-packages/ipykernel/__main__.py:62: DeprecationWarning: \n",
      ".ix is deprecated. Please use\n",
      ".loc for label based indexing or\n",
      ".iloc for positional indexing\n",
      "\n",
      "See the documentation here:\n",
      "http://pandas.pydata.org/pandas-docs/stable/indexing.html#ix-indexer-is-deprecated\n"
     ]
    },
    {
     "data": {
      "image/png": "[encoded data removed]",
      "text/plain": [
       "<matplotlib.figure.Figure at 0x7f22e2839940>"
      ]
     },
     "metadata": {},
     "output_type": "display_data"
    }
   ],
   "source": [
    "import matplotlib.patches as patches\n",
    "\n",
    "# Load PCA results\n",
    "pca = pd.read_csv(PCAFILE, sep=\" \",\n",
    "                 names=[\"sample\",\"sample2\"]+[\"pc%s\"%i for i in range(1,11)])\n",
    "# Load 1kg population labels\n",
    "onekg = pd.read_csv(ONEKGPOP)\n",
    "\n",
    "# Load pedigree info\n",
    "ped = pd.read_csv(SSCFAMS, sep=\"\\t\", names=[\"id\",\"sample\"])\n",
    "ped[\"family\"] = ped[\"id\"].apply(lambda x: x.split(\".\")[0])\n",
    "ped[\"rel\"] = ped[\"id\"].apply(lambda x: x.split(\".\")[1])\n",
    "\n",
    "# Merge final data\n",
    "data = pd.merge(pca, onekg, on=\"sample\", how=\"left\")\n",
    "data = pd.merge(data, ped[[\"family\",\"rel\",\"sample\"]], on=\"sample\", how=\"left\")\n",
    "\n",
    "# Plot PCA to get boundaries\n",
    "POPCOLORS = {\n",
    "    \"EUR\": \"green\",\n",
    "    \"AFR\": \"red\",\n",
    "    \"EAS\": \"orange\",\n",
    "    \"SAS\": \"purple\"\n",
    "}\n",
    "refdata = data[(data[\"Population\"].apply(lambda x: str(x) != \"nan\"))]\n",
    "refdata[\"color\"] = refdata.apply(lambda x: POPCOLORS.get(x[\"Superpop\"],\"gray\"), 1)\n",
    "ssc = data[(data[\"Population\"].apply(lambda x: str(x) == \"nan\"))]\n",
    "ssc = pd.merge(ssc, sampstats, on=[\"sample\"])\n",
    "ssc[\"Superpop\"] = \"NA\"\n",
    "fig = plt.figure()\n",
    "ax = fig.add_subplot(111)\n",
    "ax.scatter(ssc[\"pc1\"], ssc[\"pc2\"], color=\"black\", s=2);\n",
    "ax.scatter(refdata[\"pc1\"], refdata[\"pc2\"], color=list(refdata[\"color\"]), s=5);\n",
    "ax.set_xlabel(\"PC1\", size=15)\n",
    "ax.set_ylabel(\"PC2\", size=15);\n",
    "\n",
    "# Get population boundaries\n",
    "for popname in [\"EAS\",\"AFR\",\"SAS\",\"EUR\"]:\n",
    "    pop = refdata[refdata[\"Superpop\"]==popname]\n",
    "    max_pc1 = max(pop[\"pc1\"])\n",
    "    min_pc1 = min(pop[\"pc1\"])\n",
    "    max_pc2 = max(pop[\"pc2\"])\n",
    "    min_pc2 = min(pop[\"pc2\"])\n",
    "    if popname == \"EUR\":\n",
    "        max_pc1 = 0.005\n",
    "        min_pc2 = -0.02\n",
    "        max_pc2 = 0.007\n",
    "    if popname == \"AFR\":\n",
    "        min_pc2 = -0.03\n",
    "        max_pc2 = 0.02\n",
    "    if popname == \"SAS\":\n",
    "        max_pc2 = 0.06\n",
    "        min_pc1 = -0.01\n",
    "        max_pc1 = 0.005\n",
    "        min_Pc2 = 0.008\n",
    "    if popname == \"EAS\":\n",
    "        min_pc2 = 0.061\n",
    "        max_pc2 = 0.1\n",
    "        max_pc1 = 0.01\n",
    "    ssc_pop = ssc[(ssc[\"pc1\"]>=min_pc1) & (ssc[\"pc1\"]<=max_pc1) &\n",
    "                 (ssc[\"pc2\"]>=min_pc2) & (ssc[\"pc2\"]<=max_pc2)]\n",
    "    ssc.ix[ssc[\"sample\"].apply(lambda x: x in ssc_pop[\"sample\"].values),\"Superpop\"] = popname\n",
    "    ax.add_patch(\n",
    "        patches.Rectangle(\n",
    "        (min_pc1, min_pc2),\n",
    "        max_pc1-min_pc1,\n",
    "        max_pc2-min_pc2,\n",
    "        fill=False\n",
    "        ))\n",
    "ax.spines['right'].set_visible(False)\n",
    "ax.spines['top'].set_visible(False)\n",
    "ax.yaxis.set_ticks_position('left')\n",
    "ax.xaxis.set_ticks_position('bottom')\n",
    "ax.set_xlabel(\"PC1\", size=15)\n",
    "ax.set_ylabel(\"PC2\", size=15)\n",
    "ax.set_xticklabels([\"%.2f\"%x for x in ax.get_xticks()], size=12);\n",
    "ax.set_yticklabels([\"%.2f\"%x for x in ax.get_yticks()], size=12);\n",
    "fig.savefig(os.path.join(OUTPATH, \"SuppFig_PopPCA.pdf\"));"
   ]
  },
  {
   "cell_type": "code",
   "execution_count": 36,
   "metadata": {
    "collapsed": false
   },
   "outputs": [
    {
     "data": {
      "text/html": [
       "<div>\n",
       "<style scoped>\n",
       "    .dataframe tbody tr th:only-of-type {\n",
       "        vertical-align: middle;\n",
       "    }\n",
       "\n",
       "    .dataframe tbody tr th {\n",
       "        vertical-align: top;\n",
       "    }\n",
       "\n",
       "    .dataframe thead th {\n",
       "        text-align: right;\n",
       "    }\n",
       "</style>\n",
       "<table border=\"1\" class=\"dataframe\">\n",
       "  <thead>\n",
       "    <tr style=\"text-align: right;\">\n",
       "      <th></th>\n",
       "      <th>Superpop</th>\n",
       "      <th>sample</th>\n",
       "      <th>perc</th>\n",
       "    </tr>\n",
       "  </thead>\n",
       "  <tbody>\n",
       "    <tr>\n",
       "      <th>0</th>\n",
       "      <td>AFR</td>\n",
       "      <td>69</td>\n",
       "      <td>0.036013</td>\n",
       "    </tr>\n",
       "    <tr>\n",
       "      <th>1</th>\n",
       "      <td>EAS</td>\n",
       "      <td>39</td>\n",
       "      <td>0.020355</td>\n",
       "    </tr>\n",
       "    <tr>\n",
       "      <th>2</th>\n",
       "      <td>EUR</td>\n",
       "      <td>1585</td>\n",
       "      <td>0.827244</td>\n",
       "    </tr>\n",
       "    <tr>\n",
       "      <th>3</th>\n",
       "      <td>NA</td>\n",
       "      <td>51</td>\n",
       "      <td>0.026618</td>\n",
       "    </tr>\n",
       "    <tr>\n",
       "      <th>4</th>\n",
       "      <td>SAS</td>\n",
       "      <td>172</td>\n",
       "      <td>0.089770</td>\n",
       "    </tr>\n",
       "  </tbody>\n",
       "</table>\n",
       "</div>"
      ],
      "text/plain": [
       "  Superpop  sample      perc\n",
       "0      AFR      69  0.036013\n",
       "1      EAS      39  0.020355\n",
       "2      EUR    1585  0.827244\n",
       "3       NA      51  0.026618\n",
       "4      SAS     172  0.089770"
      ]
     },
     "execution_count": 36,
     "metadata": {},
     "output_type": "execute_result"
    }
   ],
   "source": [
    "# Get count by population group\n",
    "y = ssc.groupby(\"Superpop\", as_index=False).agg({\"sample\": len})\n",
    "y[\"perc\"] = y[\"sample\"].apply(lambda x: x*1.0/sum(y[\"sample\"]))\n",
    "y"
   ]
  },
  {
   "cell_type": "markdown",
   "metadata": {},
   "source": [
    "# Supplemental Figure: Length bias"
   ]
  },
  {
   "cell_type": "code",
   "execution_count": 48,
   "metadata": {
    "collapsed": false
   },
   "outputs": [],
   "source": [
    "reflen = range(10, 100, 1)\n",
    "diffs = []\n",
    "percs = []\n",
    "for i in range(len(reflen)-1):\n",
    "    lb = reflen[i]\n",
    "    ub = reflen[i+1]\n",
    "    x = locstats[(locstats[\"length\"]>=lb) & (locstats[\"length\"]<ub)]\n",
    "    if x.shape[0] <= 25:\n",
    "        diffs.append(np.nan)\n",
    "    else:\n",
    "        diffs.append(sum(x.apply(lambda x: x[\"mean_allele\"]*x[\"numcalls\"], 1))/sum(x[\"numcalls\"]))\n",
    "    percs.append(locstats[locstats[\"length\"]<ub].shape[0]*1.0/locstats.shape[0])"
   ]
  },
  {
   "cell_type": "code",
   "execution_count": 49,
   "metadata": {
    "collapsed": false
   },
   "outputs": [
    {
     "data": {
      "image/png": "[encoded data removed]",
      "text/plain": [
       "<matplotlib.figure.Figure at 0x7f763cdf2358>"
      ]
     },
     "metadata": {},
     "output_type": "display_data"
    }
   ],
   "source": [
    "xmax = 100\n",
    "fig = plt.figure()\n",
    "ax = fig.add_subplot(111)\n",
    "ax.scatter(reflen[:-1], diffs, color=\"black\", s=7);\n",
    "ax.set_xlabel(\"Reference length (bp in hg19)\", size=15)\n",
    "ax.set_ylabel(\"Median Deviation (bp)\", size=15)\n",
    "ax.set_ylim(bottom=-2, top=2)\n",
    "ax.set_xlim(left=10, right=xmax)\n",
    "ax.set_yticklabels(ax.get_yticks(), size=12)\n",
    "ax.axhline(y=0, linestyle=\"dashed\", color=\"gray\")\n",
    "\n",
    "ax2 = ax.twinx()\n",
    "ax2.plot(reflen[:-1], percs, color=\"red\");\n",
    "ax2.set_ylim(bottom=0, top=1)\n",
    "ax2.set_xlim(left=10, right=xmax)\n",
    "ax2.set_xticklabels([int(x) for x in ax.get_xticks()], size=12);\n",
    "ax2.axvline(x=40, linestyle=\"dashed\", color=\"gray\")\n",
    "fig.savefig(os.path.join(OUTPATH, \"SuppFig_LengthBias.pdf\"));"
   ]
  }
 ],
 "metadata": {
  "kernelspec": {
   "display_name": "Python 3",
   "language": "python",
   "name": "python3"
  },
  "language_info": {
   "codemirror_mode": {
    "name": "ipython",
    "version": 3
   },
   "file_extension": ".py",
   "mimetype": "text/x-python",
   "name": "python",
   "nbconvert_exporter": "python",
   "pygments_lexer": "ipython3",
   "version": "3.4.5"
  }
 },
 "nbformat": 4,
 "nbformat_minor": 2
}

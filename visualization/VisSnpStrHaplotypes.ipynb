{
 "cells": [
  {
   "cell_type": "code",
   "execution_count": 11,
   "metadata": {
    "collapsed": false
   },
   "outputs": [
    {
     "name": "stdout",
     "output_type": "stream",
     "text": [
      "Populating the interactive namespace from numpy and matplotlib\n"
     ]
    }
   ],
   "source": [
    "%pylab inline\n",
    "from sklearn.cluster import AgglomerativeClustering"
   ]
  },
  {
   "cell_type": "code",
   "execution_count": 12,
   "metadata": {
    "collapsed": true
   },
   "outputs": [],
   "source": [
    "import matplotlib.pyplot as plt\n",
    "import pandas as pd\n",
    "import numpy as np\n",
    "import scipy.stats\n",
    "\n",
    "#strdata = pd.read_csv(\"/storage/mgymrek/ssc-imputation/pilot-haplotypes/atxn7_haplotypes.tab\", sep=\"\\t\")\n",
    "strdata = pd.read_csv(\"/storage/mgymrek/ssc-imputation/pilot-haplotypes/dmpk_haplotypes.tab\", sep=\"\\t\")\n",
    "#strdata = pd.read_csv(\"/storage/mgymrek/ssc-imputation/pilot-haplotypes/atxn7_haplotypes_fm.tab\", sep=\"\\t\")\n",
    "#snppos = [int(line.strip()) for line in open(\"/storage/mgymrek/ssc-imputation/pilot-haplotypes/atxn7_snppos.txt\", \"r\").readlines()]"
   ]
  },
  {
   "cell_type": "code",
   "execution_count": 13,
   "metadata": {
    "collapsed": false,
    "scrolled": true
   },
   "outputs": [
    {
     "name": "stderr",
     "output_type": "stream",
     "text": [
      "/usr/lib/python3.4/site-packages/ipykernel/__main__.py:2: FutureWarning: sort(columns=....) is deprecated, use sort_values(by=.....)\n",
      "  from ipykernel import kernelapp as app\n"
     ]
    },
    {
     "data": {
      "text/html": [
       "<div>\n",
       "<table border=\"1\" class=\"dataframe\">\n",
       "  <thead>\n",
       "    <tr style=\"text-align: right;\">\n",
       "      <th></th>\n",
       "      <th>sample-hap</th>\n",
       "      <th>STRallele</th>\n",
       "      <th>SNPhaplotype</th>\n",
       "    </tr>\n",
       "  </thead>\n",
       "  <tbody>\n",
       "    <tr>\n",
       "      <th>87</th>\n",
       "      <td>SSC07130-hap2</td>\n",
       "      <td>17</td>\n",
       "      <td>1111100101011101011111010100111000111111011111...</td>\n",
       "    </tr>\n",
       "    <tr>\n",
       "      <th>115</th>\n",
       "      <td>SSC11346-hap2</td>\n",
       "      <td>17</td>\n",
       "      <td>1111100111011101011111010100111000111111011111...</td>\n",
       "    </tr>\n",
       "    <tr>\n",
       "      <th>111</th>\n",
       "      <td>SSC03093-hap2</td>\n",
       "      <td>17</td>\n",
       "      <td>0111111111111111111111111111111111111111110111...</td>\n",
       "    </tr>\n",
       "    <tr>\n",
       "      <th>109</th>\n",
       "      <td>SSC12888-hap2</td>\n",
       "      <td>17</td>\n",
       "      <td>1111100111011101011111010100111000111111011101...</td>\n",
       "    </tr>\n",
       "    <tr>\n",
       "      <th>219</th>\n",
       "      <td>SSC03078-hap2</td>\n",
       "      <td>17</td>\n",
       "      <td>1111100111011101011111010100111000111111011111...</td>\n",
       "    </tr>\n",
       "  </tbody>\n",
       "</table>\n",
       "</div>"
      ],
      "text/plain": [
       "        sample-hap STRallele  \\\n",
       "87   SSC07130-hap2        17   \n",
       "115  SSC11346-hap2        17   \n",
       "111  SSC03093-hap2        17   \n",
       "109  SSC12888-hap2        17   \n",
       "219  SSC03078-hap2        17   \n",
       "\n",
       "                                          SNPhaplotype  \n",
       "87   1111100101011101011111010100111000111111011111...  \n",
       "115  1111100111011101011111010100111000111111011111...  \n",
       "111  0111111111111111111111111111111111111111110111...  \n",
       "109  1111100111011101011111010100111000111111011101...  \n",
       "219  1111100111011101011111010100111000111111011111...  "
      ]
     },
     "execution_count": 13,
     "metadata": {},
     "output_type": "execute_result"
    }
   ],
   "source": [
    "#strdata = strdata[strdata[\"STRallele\"].apply(str)!=\"None\"]\n",
    "strdata = strdata.sort(\"STRallele\")\n",
    "strdata.head()"
   ]
  },
  {
   "cell_type": "code",
   "execution_count": 14,
   "metadata": {
    "collapsed": false
   },
   "outputs": [],
   "source": [
    "# Get SNP-STR LD\n",
    "#ld = {}\n",
    "#for i in range(len(snppos)):\n",
    "#    # Get list of SNP and STR alleles\n",
    "#    snp_alleles = strdata[strdata[\"STRallele\"].apply(str)!=\"None\"].apply(lambda x: int(x[\"SNPhaplotype\"][i]), 1)\n",
    "#    str_alleles = strdata[strdata[\"STRallele\"].apply(str)!=\"None\"][\"STRallele\"].apply(int)\n",
    "#    r2 = scipy.stats.pearsonr(snp_alleles, str_alleles)[0]**2\n",
    "#    ld[snppos[i]] = r2"
   ]
  },
  {
   "cell_type": "code",
   "execution_count": 15,
   "metadata": {
    "collapsed": false
   },
   "outputs": [],
   "source": [
    "#ld"
   ]
  },
  {
   "cell_type": "code",
   "execution_count": 16,
   "metadata": {
    "collapsed": false
   },
   "outputs": [],
   "source": [
    "# Load snp data\n",
    "#gwas = pd.read_csv(\"/storage/mgymrek/atxn7/atxn7_snps.tab\", sep=\"\\t\")\n",
    "#gwas.head()"
   ]
  },
  {
   "cell_type": "code",
   "execution_count": 17,
   "metadata": {
    "collapsed": false
   },
   "outputs": [],
   "source": [
    "def ClusterRows(hapmatrix, nclusters=6):\n",
    "    c = AgglomerativeClustering(n_clusters=min([hapmatrix.shape[0], nclusters]))\n",
    "    labels = c.fit_predict(hapmatrix)\n",
    "    idx = sorted([(labels[i], i) for i in range(hapmatrix.shape[0])])\n",
    "    neworder = [item[1] for item in idx]\n",
    "    return hapmatrix[neworder,:], neworder, [item[0] for item in idx]"
   ]
  },
  {
   "cell_type": "code",
   "execution_count": 18,
   "metadata": {
    "collapsed": false
   },
   "outputs": [
    {
     "data": {
      "image/png": "[encoded data removed]",
      "text/plain": [
       "<matplotlib.figure.Figure at 0x7f4e36e95588>"
      ]
     },
     "metadata": {},
     "output_type": "display_data"
    },
    {
     "data": {
      "image/png": "[encoded data removed]",
      "text/plain": [
       "<matplotlib.figure.Figure at 0x7f4e36e95470>"
      ]
     },
     "metadata": {},
     "output_type": "display_data"
    },
    {
     "data": {
      "image/png": "[encoded data removed]",
      "text/plain": [
       "<matplotlib.figure.Figure at 0x7f4e349ca908>"
      ]
     },
     "metadata": {},
     "output_type": "display_data"
    },
    {
     "data": {
      "image/png": "[encoded data removed]",
      "text/plain": [
       "<matplotlib.figure.Figure at 0x7f4e3491f128>"
      ]
     },
     "metadata": {},
     "output_type": "display_data"
    },
    {
     "data": {
      "image/png": "[encoded data removed]",
      "text/plain": [
       "<matplotlib.figure.Figure at 0x7f4e348f0b00>"
      ]
     },
     "metadata": {},
     "output_type": "display_data"
    },
    {
     "data": {
      "image/png": "[encoded data removed]",
      "text/plain": [
       "<matplotlib.figure.Figure at 0x7f4e348b6f28>"
      ]
     },
     "metadata": {},
     "output_type": "display_data"
    },
    {
     "data": {
      "image/png": "[encoded data removed]",
      "text/plain": [
       "<matplotlib.figure.Figure at 0x7f4e3488d860>"
      ]
     },
     "metadata": {},
     "output_type": "display_data"
    },
    {
     "data": {
      "image/png": "[encoded data removed]",
      "text/plain": [
       "<matplotlib.figure.Figure at 0x7f4e3484d5c0>"
      ]
     },
     "metadata": {},
     "output_type": "display_data"
    },
    {
     "data": {
      "image/png": "[encoded data removed]",
      "text/plain": [
       "<matplotlib.figure.Figure at 0x7f4e3475c438>"
      ]
     },
     "metadata": {},
     "output_type": "display_data"
    },
    {
     "data": {
      "image/png": "[encoded data removed]",
      "text/plain": [
       "<matplotlib.figure.Figure at 0x7f4e34791ac8>"
      ]
     },
     "metadata": {},
     "output_type": "display_data"
    },
    {
     "data": {
      "image/png": "[encoded data removed]",
      "text/plain": [
       "<matplotlib.figure.Figure at 0x7f4e3472bfd0>"
      ]
     },
     "metadata": {},
     "output_type": "display_data"
    },
    {
     "data": {
      "image/png": "[encoded data removed]",
      "text/plain": [
       "<matplotlib.figure.Figure at 0x7f4e346f8240>"
      ]
     },
     "metadata": {},
     "output_type": "display_data"
    },
    {
     "data": {
      "image/png": "[encoded data removed]",
      "text/plain": [
       "<matplotlib.figure.Figure at 0x7f4e346140b8>"
      ]
     },
     "metadata": {},
     "output_type": "display_data"
    },
    {
     "data": {
      "image/png": "[encoded data removed]",
      "text/plain": [
       "<matplotlib.figure.Figure at 0x7f4e346c8dd8>"
      ]
     },
     "metadata": {},
     "output_type": "display_data"
    },
    {
     "data": {
      "image/png": "[encoded data removed]",
      "text/plain": [
       "<matplotlib.figure.Figure at 0x7f4e345e6d30>"
      ]
     },
     "metadata": {},
     "output_type": "display_data"
    },
    {
     "data": {
      "image/png": "[encoded data removed]",
      "text/plain": [
       "<matplotlib.figure.Figure at 0x7f4e345a6e80>"
      ]
     },
     "metadata": {},
     "output_type": "display_data"
    }
   ],
   "source": [
    "# SNP haplotypes per STR allele\n",
    "for allele in sorted(list(set(strdata[\"STRallele\"].values))):\n",
    "    d = strdata[strdata[\"STRallele\"]==allele]\n",
    "    if d.shape[0] <= 1: continue\n",
    "    hapmatrix = np.zeros((d.shape[0], len(d.SNPhaplotype.values[0])))\n",
    "    for i in range(d.shape[0]):\n",
    "        hapmatrix[i,:] = [int(item) for item in list(d.SNPhaplotype.values[i])]\n",
    "    # Cluster rows\n",
    "    hapmatrix_cl = ClusterRows(hapmatrix)[0]\n",
    "    fig = plt.figure()\n",
    "    fig.set_size_inches((10, d.shape[0]*0.05))\n",
    "    ax = fig.add_subplot(111)\n",
    "    ax.imshow(1-hapmatrix_cl, cmap='Greys', aspect=\"auto\", extent=(0, hapmatrix_cl.shape[1], 0, hapmatrix_cl.shape[0]))\n",
    "    ax.set_yticks([]);\n",
    "    ax.set_yticklabels([]);\n",
    "    ax.set_xticks([]);\n",
    "    ax.set_xticklabels([]);\n",
    "    ax.set_title(\"STR allele %s\"%allele)"
   ]
  },
  {
   "cell_type": "code",
   "execution_count": 19,
   "metadata": {
    "collapsed": false
   },
   "outputs": [
    {
     "data": {
      "image/png": "[encoded data removed]",
      "text/plain": [
       "<matplotlib.figure.Figure at 0x7f4e34582ba8>"
      ]
     },
     "metadata": {},
     "output_type": "display_data"
    },
    {
     "data": {
      "image/png": "[encoded data removed]",
      "text/plain": [
       "<matplotlib.figure.Figure at 0x7f4e34457518>"
      ]
     },
     "metadata": {},
     "output_type": "display_data"
    }
   ],
   "source": [
    "NCLUST=10\n",
    "# all SNP haplotypes, annotate STR allele\n",
    "d = strdata\n",
    "hapmatrix = np.zeros((d.shape[0], len(d.SNPhaplotype.values[0])))\n",
    "for i in range(d.shape[0]):\n",
    "    hapmatrix[i,:] = [int(item) for item in list(d.SNPhaplotype.values[i])]\n",
    "hapmatrix_cl, neworder, clusterids = ClusterRows(hapmatrix, nclusters=NCLUST)\n",
    "def GetInt(x):\n",
    "    try:\n",
    "        return int(x)\n",
    "    except: return 0 # \"None\" in allele column\n",
    "stralleles = [GetInt(x) for x in np.array(d[\"STRallele\"])[neworder]]\n",
    "\n",
    "# To the top, plot str allele sizes\n",
    "fig = plt.figure()\n",
    "fig.set_size_inches((15, 2))\n",
    "ax = fig.add_subplot(111)\n",
    "ax.bar(range(len(stralleles)), stralleles)\n",
    "ax.set_yticks([]);\n",
    "ax.set_yticklabels([]);\n",
    "ax.set_xticks([]);\n",
    "ax.set_xticklabels([]);\n",
    "ax.set_xlim(left=0, right=len(stralleles))\n",
    "ax.set_ylim(bottom=min(stralleles)-5, top=max(stralleles)+5)\n",
    "\n",
    "# Now print snp haplotypes (transpose)\n",
    "fig = plt.figure()\n",
    "fig.set_size_inches((15, 8))\n",
    "ax = fig.add_subplot(111)\n",
    "ax.imshow((1-hapmatrix_cl).transpose(), cmap='Greys', aspect=\"auto\", extent=(0, hapmatrix_cl.shape[1], 0, hapmatrix_cl.shape[0]))\n",
    "ax.set_yticks([]);\n",
    "ax.set_yticklabels([]);\n",
    "ax.set_xticks([]);\n",
    "ax.set_xticklabels([]);"
   ]
  }
 ],
 "metadata": {
  "kernelspec": {
   "display_name": "Python 3",
   "language": "python",
   "name": "python3"
  },
  "language_info": {
   "codemirror_mode": {
    "name": "ipython",
    "version": 3
   },
   "file_extension": ".py",
   "mimetype": "text/x-python",
   "name": "python",
   "nbconvert_exporter": "python",
   "pygments_lexer": "ipython3",
   "version": "3.4.5"
  }
 },
 "nbformat": 4,
 "nbformat_minor": 2
}

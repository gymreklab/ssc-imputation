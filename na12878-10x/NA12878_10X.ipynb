{
 "cells": [
  {
   "cell_type": "code",
   "execution_count": 1,
   "metadata": {
    "collapsed": false
   },
   "outputs": [
    {
     "name": "stdout",
     "output_type": "stream",
     "text": [
      "Populating the interactive namespace from numpy and matplotlib\n"
     ]
    }
   ],
   "source": [
    "%pylab inline\n",
    "\n",
    "# Allow us to edit fonts in Illustrator\n",
    "import matplotlib\n",
    "matplotlib.rcParams['ps.useafm'] = True\n",
    "matplotlib.rcParams['pdf.use14corefonts'] = True\n",
    "matplotlib.rcParams['text.usetex'] = True\n",
    "\n",
    "import os\n",
    "import pandas as pd\n",
    "\n",
    "DATADIR=\"/storage/s1saini/manuscript_strsnp/fig3/ssc-imputation/\"\n",
    "\n",
    "def errorfill(x, y, yerr, color=None, alpha_fill=0.3, ax=None, label=\"_nolegend_\"):\n",
    "    ax = ax if ax is not None else plt.gca()\n",
    "    if np.isscalar(yerr) or len(yerr) == len(y):\n",
    "        ymin = y - yerr\n",
    "        ymax = y + yerr\n",
    "    elif len(yerr) == 2:\n",
    "        ymin, ymax = yerr\n",
    "    base_line, = ax.plot(x, y, color=color, label=label)\n",
    "    if color is None:\n",
    "        color = base_line.get_color()\n",
    "    ax.fill_between(x, ymax, ymin, facecolor=color, alpha=alpha_fill)\n",
    "\n",
    "def GetError(x, num):\n",
    "    snp1 = x[\"snppanel\"].split(\"|\")\n",
    "    snp2 = x[\"snp10x\"].split(\"|\")\n",
    "    str1 = x[\"strpanel\"].split(\"|\")\n",
    "    str2 = x[\"str10x\"].split(\"|\")\n",
    "    str1 = [int(item) for item in str1]\n",
    "    str2 = [int(item) for item in str2]\n",
    "    if snp1[0] == snp2[0]:\n",
    "        if num == 1: return str1[0]-str2[0]\n",
    "        else: return str1[1]-str2[1]\n",
    "    else: \n",
    "        if num == 1: return str1[1]-str2[0]\n",
    "        else: return str1[0]-str2[1]\n",
    "        \n",
    "def Concordant(gt1, gt2):\n",
    "    gt1 = gt1.split(\"|\")\n",
    "    gt2 = gt2.split(\"|\")\n",
    "    if gt1[0] == gt2[0] and gt1[1] == gt2[1]: return True\n",
    "    elif gt1[1] == gt2[0] and gt1[0] == gt2[1]: return True\n",
    "    else: return False\n",
    "    \n",
    "def IsHet(gt):\n",
    "    gt = gt.split(\"|\")\n",
    "    return gt[0] != gt[1]\n",
    "\n",
    "# Get phase info\n",
    "def GetPhase(x):\n",
    "    snp1 = x[\"snppanel\"].split(\"|\")\n",
    "    snp2 = x[\"snp10x\"].split(\"|\")\n",
    "    str1 = x[\"strpanel\"].split(\"|\")\n",
    "    str2 = x[\"str10x\"].split(\"|\")\n",
    "    if snp1[0] == snp2[0]:\n",
    "        return str1[0]==str2[0] and str1[1]==str2[1]\n",
    "    else: return str1[1]==str2[0] and str1[0]==str2[1]"
   ]
  },
  {
   "cell_type": "code",
   "execution_count": 2,
   "metadata": {
    "collapsed": false
   },
   "outputs": [
    {
     "name": "stdout",
     "output_type": "stream",
     "text": [
      "Before filtering, have 118353 strs\n",
      "After filtering for discordant SNP, have 116764 strs\n"
     ]
    },
    {
     "name": "stderr",
     "output_type": "stream",
     "text": [
      "/usr/lib/python3.4/site-packages/ipykernel/__main__.py:19: SettingWithCopyWarning: \n",
      "A value is trying to be set on a copy of a slice from a DataFrame.\n",
      "Try using .loc[row_indexer,col_indexer] = value instead\n",
      "\n",
      "See the caveats in the documentation: http://pandas.pydata.org/pandas-docs/stable/indexing.html#indexing-view-versus-copy\n",
      "/usr/lib/python3.4/site-packages/ipykernel/__main__.py:20: SettingWithCopyWarning: \n",
      "A value is trying to be set on a copy of a slice from a DataFrame.\n",
      "Try using .loc[row_indexer,col_indexer] = value instead\n",
      "\n",
      "See the caveats in the documentation: http://pandas.pydata.org/pandas-docs/stable/indexing.html#indexing-view-versus-copy\n",
      "/usr/lib/python3.4/site-packages/ipykernel/__main__.py:23: SettingWithCopyWarning: \n",
      "A value is trying to be set on a copy of a slice from a DataFrame.\n",
      "Try using .loc[row_indexer,col_indexer] = value instead\n",
      "\n",
      "See the caveats in the documentation: http://pandas.pydata.org/pandas-docs/stable/indexing.html#indexing-view-versus-copy\n"
     ]
    }
   ],
   "source": [
    "tenx = pd.read_csv(\"/storage/mgymrek/ssc-imputation/na12878-10x/na12878_panel_vs_10x.tab\", sep=\"\\t\")\n",
    "tenx[\"locus\"] = tenx.apply(lambda x: str(x[\"chrom\"])+\":\"+str(x[\"strpos\"]), 1)\n",
    "\n",
    "sscloo = pd.read_csv(os.path.join(DATADIR, \"loo\",\"l1o.ALL.chr.csv\")).drop(['pos'], axis=1).drop_duplicates(subset=['str'])\n",
    "id_start = pd.read_csv(os.path.join(DATADIR, \"loo\", \"ALL.START_ID.txt\"), delim_whitespace=True, names=[\"str\",\"locus\"]).drop_duplicates(subset=['locus'])\n",
    "sscloo = pd.merge(sscloo, id_start, on=[\"str\"])\n",
    "\n",
    "tenx = pd.merge(tenx, sscloo[[\"locus\",\"loo_concordance\"]], on=[\"locus\"])\n",
    "\n",
    "tenx[\"str.conc\"] = tenx.apply(lambda x: Concordant(x[\"strpanel\"], x[\"str10x\"]), 1)\n",
    "tenx[\"snp.conc\"] = tenx.apply(lambda x: Concordant(x[\"snppanel\"], x[\"snp10x\"]), 1)\n",
    "tenx[\"str.het\"] = tenx.apply(lambda x: IsHet(x[\"str10x\"]), 1)\n",
    "\n",
    "print(\"Before filtering, have %s strs\"%tenx.shape[0])\n",
    "tenx_filtered = tenx[tenx[\"snp.conc\"]]\n",
    "print(\"After filtering for discordant SNP, have %s strs\"%tenx_filtered.shape[0])\n",
    "\n",
    "# Get size of errors\n",
    "tenx_filtered[\"error1\"] = tenx_filtered.apply(lambda x: GetError(x, 1), 1)\n",
    "tenx_filtered[\"error2\"] = tenx_filtered.apply(lambda x: GetError(x, 2), 1)\n",
    "\n",
    "# Get phase\n",
    "tenx_filtered[\"phase.correct\"] = tenx_filtered.apply(lambda x: GetPhase(x), 1)"
   ]
  },
  {
   "cell_type": "code",
   "execution_count": 3,
   "metadata": {
    "collapsed": false
   },
   "outputs": [
    {
     "name": "stdout",
     "output_type": "stream",
     "text": [
      "Overall STR genotype concordance 0.9270237401938953\n",
      "Allele concordance 0.9604415744578808\n",
      "How many phased correctly 0.9975461179154917\n"
     ]
    }
   ],
   "source": [
    "# Stats on STR genotype concordance\n",
    "print(\"Overall STR genotype concordance %s\"%np.mean(tenx_filtered[\"str.conc\"]))\n",
    "\n",
    "# Stats on per-allele concordance\n",
    "print(\"Allele concordance %s\"%np.mean(list(tenx_filtered[\"error1\"]==0)+list(tenx_filtered[\"error2\"]==0)))\n",
    "# Of het STRs called correctly, how many had correct phase\n",
    "x = np.mean(tenx_filtered[tenx_filtered[\"str.conc\"] & tenx_filtered[\"str.het\"]][\"phase.correct\"])\n",
    "print(\"How many phased correctly %s\"%x)"
   ]
  },
  {
   "cell_type": "code",
   "execution_count": 10,
   "metadata": {
    "collapsed": false
   },
   "outputs": [
    {
     "name": "stdout",
     "output_type": "stream",
     "text": [
      "number of calls compared: 116764\n",
      "number of hets: 53243\n",
      "number of hets correct: 46457\n"
     ]
    }
   ],
   "source": [
    "print(\"number of calls compared: %s\"%tenx_filtered.shape[0])\n",
    "print(\"number of hets: %s\"%tenx_filtered[tenx_filtered[\"str.het\"]].shape[0])\n",
    "print(\"number of hets correct: %s\"%tenx_filtered[(tenx_filtered[\"str.het\"]) & (tenx_filtered[\"str.conc\"])].shape[0])"
   ]
  },
  {
   "cell_type": "code",
   "execution_count": 4,
   "metadata": {
    "collapsed": false
   },
   "outputs": [
    {
     "data": {
      "image/png": "[encoded data removed]",
      "text/plain": [
       "<matplotlib.figure.Figure at 0x7f232d5ea1d0>"
      ]
     },
     "metadata": {},
     "output_type": "display_data"
    }
   ],
   "source": [
    "# Stratify by LOO concordance\n",
    "true_color = (0.2980392156862745, 0.4470588235294118, 0.6901960784313725)\n",
    "CONCBIN=0.05\n",
    "\n",
    "means = []\n",
    "sds = []\n",
    "nums = []\n",
    "cbs_plot = []\n",
    "cbs = [round(item, 2) for item in np.arange(0.4, 1+CONCBIN, CONCBIN)]\n",
    "for cb in cbs:\n",
    "    x = np.array(tenx_filtered[(tenx_filtered[\"loo_concordance\"]>=cb) & (tenx_filtered[\"loo_concordance\"]<cb+CONCBIN)][\"str.conc\"])\n",
    "    if len(x)>=100:\n",
    "        means.append(np.mean(x))\n",
    "        sds.append(np.sqrt(np.var(x)))\n",
    "        cbs_plot.append(cb)\n",
    "        \n",
    "fig = plt.figure()\n",
    "ax = fig.add_subplot(111)\n",
    "ax.errorbar(cbs_plot, means, yerr=sds, marker=\"o\", linewidth=0.5)\n",
    "ax.spines['right'].set_visible(False)\n",
    "ax.spines['top'].set_visible(False)\n",
    "ax.yaxis.set_ticks_position('left')\n",
    "ax.xaxis.set_ticks_position('bottom')\n",
    "ax.set_xlabel(\"Concordance - LOO\", size=15)\n",
    "ax.set_ylabel(\"Concordance - NA12878\", size=15)\n",
    "ax.set_xlim(left=cbs_plot[0]-CONCBIN/2, right=1+CONCBIN/2)\n",
    "ax.set_ylim(bottom=0, top=1.1)\n",
    "ax.set_xticklabels([\"%.2f\"%item for item in ax.get_xticks()], size=12)\n",
    "ax.set_yticklabels([\"%.2f\"%item for item in ax.get_yticks()], size=12);\n",
    "fig.savefig(\"../haplotype_paper/FiguresRevision/pdfs/na12878_10x_conc.pdf\")"
   ]
  },
  {
   "cell_type": "code",
   "execution_count": 5,
   "metadata": {
    "collapsed": false
   },
   "outputs": [
    {
     "name": "stderr",
     "output_type": "stream",
     "text": [
      "/usr/lib/python3.4/site-packages/ipykernel/__main__.py:3: SettingWithCopyWarning: \n",
      "A value is trying to be set on a copy of a slice from a DataFrame.\n",
      "Try using .loc[row_indexer,col_indexer] = value instead\n",
      "\n",
      "See the caveats in the documentation: http://pandas.pydata.org/pandas-docs/stable/indexing.html#indexing-view-versus-copy\n",
      "  app.launch_new_instance()\n"
     ]
    },
    {
     "data": {
      "text/plain": [
       "(-0.04077860031986612, 3.88275189168836e-44)"
      ]
     },
     "execution_count": 5,
     "metadata": {},
     "output_type": "execute_result"
    }
   ],
   "source": [
    "# Is concordance correlated with distance to nearest het SNP? moderately\n",
    "import scipy.stats\n",
    "tenx_filtered[\"snp.dist\"] = tenx_filtered.apply(lambda x: abs(x[\"snppos\"]-x[\"strpos\"]), 1)\n",
    "tenx_filtered2 = tenx_filtered[tenx_filtered[\"snp.dist\"]<=50000]\n",
    "scipy.stats.pearsonr(tenx_filtered2[\"snp.dist\"], tenx_filtered2[\"str.conc\"])"
   ]
  },
  {
   "cell_type": "code",
   "execution_count": 6,
   "metadata": {
    "collapsed": false
   },
   "outputs": [
    {
     "data": {
      "text/html": [
       "<div>\n",
       "<style scoped>\n",
       "    .dataframe tbody tr th:only-of-type {\n",
       "        vertical-align: middle;\n",
       "    }\n",
       "\n",
       "    .dataframe tbody tr th {\n",
       "        vertical-align: top;\n",
       "    }\n",
       "\n",
       "    .dataframe thead th {\n",
       "        text-align: right;\n",
       "    }\n",
       "</style>\n",
       "<table border=\"1\" class=\"dataframe\">\n",
       "  <thead>\n",
       "    <tr style=\"text-align: right;\">\n",
       "      <th></th>\n",
       "      <th>chrom</th>\n",
       "      <th>strpos</th>\n",
       "      <th>snppos</th>\n",
       "      <th>strpanel</th>\n",
       "      <th>str10x</th>\n",
       "      <th>snppanel</th>\n",
       "      <th>snp10x</th>\n",
       "      <th>locus</th>\n",
       "      <th>loo_concordance</th>\n",
       "      <th>str.conc</th>\n",
       "      <th>snp.conc</th>\n",
       "      <th>str.het</th>\n",
       "      <th>error1</th>\n",
       "      <th>error2</th>\n",
       "      <th>phase.correct</th>\n",
       "      <th>snp.dist</th>\n",
       "    </tr>\n",
       "  </thead>\n",
       "  <tbody>\n",
       "    <tr>\n",
       "      <th>57792</th>\n",
       "      <td>7</td>\n",
       "      <td>83789542</td>\n",
       "      <td>83789601</td>\n",
       "      <td>-20|-16</td>\n",
       "      <td>-20|-12</td>\n",
       "      <td>1|0</td>\n",
       "      <td>1|0</td>\n",
       "      <td>7:83789542</td>\n",
       "      <td>0.708768</td>\n",
       "      <td>False</td>\n",
       "      <td>True</td>\n",
       "      <td>True</td>\n",
       "      <td>0</td>\n",
       "      <td>-4</td>\n",
       "      <td>False</td>\n",
       "      <td>59</td>\n",
       "    </tr>\n",
       "    <tr>\n",
       "      <th>88941</th>\n",
       "      <td>13</td>\n",
       "      <td>82722160</td>\n",
       "      <td>82722134</td>\n",
       "      <td>0|4</td>\n",
       "      <td>0|4</td>\n",
       "      <td>0|1</td>\n",
       "      <td>0|1</td>\n",
       "      <td>13:82722160</td>\n",
       "      <td>0.685804</td>\n",
       "      <td>True</td>\n",
       "      <td>True</td>\n",
       "      <td>True</td>\n",
       "      <td>0</td>\n",
       "      <td>0</td>\n",
       "      <td>True</td>\n",
       "      <td>26</td>\n",
       "    </tr>\n",
       "    <tr>\n",
       "      <th>118161</th>\n",
       "      <td>22</td>\n",
       "      <td>46659670</td>\n",
       "      <td>46659579</td>\n",
       "      <td>0|4</td>\n",
       "      <td>0|4</td>\n",
       "      <td>0|1</td>\n",
       "      <td>0|1</td>\n",
       "      <td>22:46659670</td>\n",
       "      <td>0.994781</td>\n",
       "      <td>True</td>\n",
       "      <td>True</td>\n",
       "      <td>True</td>\n",
       "      <td>0</td>\n",
       "      <td>0</td>\n",
       "      <td>True</td>\n",
       "      <td>91</td>\n",
       "    </tr>\n",
       "  </tbody>\n",
       "</table>\n",
       "</div>"
      ],
      "text/plain": [
       "        chrom    strpos    snppos strpanel   str10x snppanel snp10x  \\\n",
       "57792       7  83789542  83789601  -20|-16  -20|-12      1|0    1|0   \n",
       "88941      13  82722160  82722134      0|4      0|4      0|1    0|1   \n",
       "118161     22  46659670  46659579      0|4      0|4      0|1    0|1   \n",
       "\n",
       "              locus  loo_concordance  str.conc  snp.conc  str.het  error1  \\\n",
       "57792    7:83789542         0.708768     False      True     True       0   \n",
       "88941   13:82722160         0.685804      True      True     True       0   \n",
       "118161  22:46659670         0.994781      True      True     True       0   \n",
       "\n",
       "        error2  phase.correct  snp.dist  \n",
       "57792       -4          False        59  \n",
       "88941        0           True        26  \n",
       "118161       0           True        91  "
      ]
     },
     "execution_count": 6,
     "metadata": {},
     "output_type": "execute_result"
    }
   ],
   "source": [
    "# Look at CODIS + other markers\n",
    "codis_markers = [\"5:149455884\",\"13:82722160\",\"18:60948895\", \\\n",
    "                 \"19:30417140\",\"3:45582231\",\"5:123111245\", \\\n",
    "                \"7:83789542\",\"8:125907107\",\"4:155508888\", \\\n",
    "                \"15:97374244\",\"11:2192318\",\"2:1493425\",\"22:46659670\"]\n",
    "tenx_filtered[tenx_filtered[\"locus\"].apply(lambda x: x in codis_markers)]"
   ]
  },
  {
   "cell_type": "code",
   "execution_count": 7,
   "metadata": {
    "collapsed": false
   },
   "outputs": [
    {
     "data": {
      "image/png": "[encoded data removed]",
      "text/plain": [
       "<matplotlib.figure.Figure at 0x7f2328406748>"
      ]
     },
     "metadata": {},
     "output_type": "display_data"
    },
    {
     "data": {
      "image/png": "[encoded data removed]",
      "text/plain": [
       "<matplotlib.figure.Figure at 0x7f23284296a0>"
      ]
     },
     "metadata": {},
     "output_type": "display_data"
    },
    {
     "data": {
      "image/png": "[encoded data removed]",
      "text/plain": [
       "<matplotlib.figure.Figure at 0x7f23736f2978>"
      ]
     },
     "metadata": {},
     "output_type": "display_data"
    },
    {
     "data": {
      "image/png": "[encoded data removed]",
      "text/plain": [
       "<matplotlib.figure.Figure at 0x7f23905bd470>"
      ]
     },
     "metadata": {},
     "output_type": "display_data"
    },
    {
     "data": {
      "image/png": "[encoded data removed]",
      "text/plain": [
       "<matplotlib.figure.Figure at 0x7f23737de160>"
      ]
     },
     "metadata": {},
     "output_type": "display_data"
    },
    {
     "data": {
      "image/png": "[encoded data removed]",
      "text/plain": [
       "<matplotlib.figure.Figure at 0x7f2372594d30>"
      ]
     },
     "metadata": {},
     "output_type": "display_data"
    }
   ],
   "source": [
    "# Plot examples for panel\n",
    "width=0.5\n",
    "\n",
    "loci = [(\"13:82722160\", 4), (\"7:83789542\", 4)]\n",
    "for locus, period in loci:\n",
    "    chrom, start = locus.split(\":\")\n",
    "    lines = open(\"%s_%s_panel.txt\"%(chrom, start)).readlines()\n",
    "    alleles1 = [int(item)/period for item in lines[0].strip().split()]\n",
    "    alleles2 = [int(item)/period for item in lines[1].strip().split()]\n",
    "    allelesALL = [int(item)/period for item in lines[2].strip().split()]\n",
    "\n",
    "    vals = [item for item in sorted(list(set(allelesALL))) if allelesALL.count(item)>=10]\n",
    "    counts1 = [alleles1.count(item) for item in vals]\n",
    "    counts2 = [alleles2.count(item) for item in vals]\n",
    "    countsALL = [allelesALL.count(item) for item in vals]\n",
    "    fig = plt.figure()\n",
    "    fig.set_size_inches((7, 2))\n",
    "    ax = fig.add_subplot(111)\n",
    "    ax.bar(vals, counts1, color=\"blue\", width=width)\n",
    "    ax.spines['right'].set_visible(False)\n",
    "    ax.spines['top'].set_visible(False)\n",
    "    ax.yaxis.set_ticks_position('left')\n",
    "    ax.xaxis.set_ticks_position('bottom')\n",
    "    ax.set_xticks([])\n",
    "    fig.savefig(\"../haplotype_paper/FiguresRevision/pdfs/%s_%s_hap1.pdf\"%(chrom, start))\n",
    "    \n",
    "    fig = plt.figure()\n",
    "    fig.set_size_inches((7, 2))\n",
    "    ax = fig.add_subplot(111)\n",
    "    ax.bar(vals, counts2, color=\"red\", width=width)\n",
    "    ax.spines['right'].set_visible(False)\n",
    "    ax.spines['top'].set_visible(False)\n",
    "    ax.yaxis.set_ticks_position('left')\n",
    "    ax.xaxis.set_ticks_position('bottom')\n",
    "    ax.set_xticks([])\n",
    "    fig.savefig(\"../haplotype_paper/FiguresRevision/pdfs/%s_%s_hap2.pdf\"%(chrom, start))\n",
    "\n",
    "    fig = plt.figure()\n",
    "    fig.set_size_inches((7, 2))\n",
    "    ax = fig.add_subplot(111)\n",
    "    ax.bar(vals, countsALL, color=\"lightgray\", width=width)\n",
    "    ax.spines['right'].set_visible(False)\n",
    "    ax.spines['top'].set_visible(False)\n",
    "    ax.yaxis.set_ticks_position('left')\n",
    "    ax.xaxis.set_ticks_position('bottom')\n",
    "    ax.set_xticks(vals)\n",
    "    fig.savefig(\"../haplotype_paper/FiguresRevision/pdfs/%s_%s_all.pdf\"%(chrom, start))\n",
    "    #ax.bar([item+width for item in vals], counts2, width=width, color=\"blue\")"
   ]
  }
 ],
 "metadata": {
  "kernelspec": {
   "display_name": "Python 3",
   "language": "python",
   "name": "python3"
  },
  "language_info": {
   "codemirror_mode": {
    "name": "ipython",
    "version": 3
   },
   "file_extension": ".py",
   "mimetype": "text/x-python",
   "name": "python",
   "nbconvert_exporter": "python",
   "pygments_lexer": "ipython3",
   "version": "3.4.5"
  }
 },
 "nbformat": 4,
 "nbformat_minor": 2
}

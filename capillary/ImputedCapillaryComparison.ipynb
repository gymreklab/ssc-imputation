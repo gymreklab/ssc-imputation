{
 "cells": [
  {
   "cell_type": "code",
   "execution_count": 67,
   "metadata": {
    "collapsed": true
   },
   "outputs": [],
   "source": [
    "# compute best offset for each\n",
    "# pull out fasta seqs for each in spreadsheet, remove imperfect\n",
    "# then do concordance"
   ]
  },
  {
   "cell_type": "code",
   "execution_count": 68,
   "metadata": {
    "collapsed": false
   },
   "outputs": [],
   "source": [
    "def GetConcordance(x):\n",
    "    if x[\"gral1\"] < x[\"gral2\"]:\n",
    "        g1, g2 = x[\"gral1\"], x[\"gral2\"]\n",
    "    else: g1, g2 = x[\"gral2\"], x[\"gral1\"]\n",
    "    if x[\"imal1\"] < x[\"imal2\"]:\n",
    "        i1, i2 = x[\"imal1\"], x[\"imal2\"]\n",
    "    else: i1, i2 = x[\"imal2\"], x[\"imal1\"]\n",
    "    if \".\" in [g1, g2, i1, i2]: return np.nan\n",
    "    g1 = int(g1); g2=int(g2); i1=int(i1); i2=int(i2)\n",
    "    g1 = g1 + x[\"offset\"]\n",
    "    g2 = g2 + x[\"offset\"]\n",
    "    if g1 == i1 and g2 == i2: return 1\n",
    "    elif g1 in [i1, i2] or g2 in [i1, i2]: return 0.5\n",
    "    else: return 0\n",
    "    \n",
    "def GetConcordance2(x):\n",
    "    diff1 = abs(x[\"gral1\"]-x[\"gral2\"])\n",
    "    diff2 = abs(x[\"imal1\"]-x[\"imal2\"])\n",
    "    return int(diff1==diff2)"
   ]
  },
  {
   "cell_type": "code",
   "execution_count": 69,
   "metadata": {
    "collapsed": false
   },
   "outputs": [
    {
     "name": "stdout",
     "output_type": "stream",
     "text": [
      "Populating the interactive namespace from numpy and matplotlib\n"
     ]
    }
   ],
   "source": [
    "%pylab inline\n",
    "import matplotlib.pyplot as plt\n",
    "import pandas as pd\n",
    "import scipy.stats\n",
    "import os\n",
    "\n",
    "data = pd.read_csv(\"capillary_vs_imputed_calls.csv\")\n",
    "data[\"offset\"] = 0\n",
    "data[\"conc\"] = data.apply(GetConcordance, 1)\n",
    "data = data[~np.isnan(data[\"conc\"])]"
   ]
  },
  {
   "cell_type": "code",
   "execution_count": 70,
   "metadata": {
    "collapsed": true
   },
   "outputs": [],
   "source": [
    "MINSAMPLES = 50\n",
    "\n",
    "# restrict to repeats analyzed in lobstr paper\n",
    "usestrs = pd.read_csv(\"marshfield_marker_corrections.tab\", sep=\"\\t\", names=[\"chrom\",\"start\",\"end\",\"name2\",\"offset_lob\"])\n",
    "pemb = pd.read_csv(\"pemberton_sorted.tab\", sep=\"\\t\", names=[\"name\",\"name2\"])\n",
    "usestrs = pd.merge(usestrs, pemb, on=[\"name2\"])\n",
    "\n",
    "# Restrict to loci with at least 50 samples \n",
    "names = []\n",
    "calls = []\n",
    "for locus in set(usestrs[\"name\"]):\n",
    "    names.append(locus)\n",
    "    calls.append(data[(data[\"name\"]==locus) & (data[\"gral1\"]!=\".\")].shape[0])\n",
    "callrate = pd.DataFrame({\"name\": names, \"calls\": calls})\n",
    "usestrs = pd.merge(usestrs, callrate, on=[\"name\"])\n",
    "usestrs = usestrs[usestrs[\"calls\"]>=MINSAMPLES]\n",
    "data = pd.merge(usestrs, data, on=[\"name\"])"
   ]
  },
  {
   "cell_type": "code",
   "execution_count": 71,
   "metadata": {
    "collapsed": false
   },
   "outputs": [
    {
     "data": {
      "text/plain": [
       "(199, 2)"
      ]
     },
     "execution_count": 71,
     "metadata": {},
     "output_type": "execute_result"
    }
   ],
   "source": [
    "callrate[callrate[\"calls\"]>=0.8*174].shape"
   ]
  },
  {
   "cell_type": "code",
   "execution_count": 72,
   "metadata": {
    "collapsed": false
   },
   "outputs": [],
   "source": [
    "# Restrict to European samples\n",
    "ONEKGPOP=\"/home/mgymrek/workspace/ssc-imputation/denovos2/other_data/1000GenomesPopulations.csv\"\n",
    "onekg = pd.read_csv(ONEKGPOP)\n",
    "eur_samples = list(onekg[onekg[\"Superpop\"]==\"EUR\"][\"sample\"])\n",
    "data = data[data[\"sample\"].apply(lambda x: x in eur_samples)]"
   ]
  },
  {
   "cell_type": "code",
   "execution_count": 73,
   "metadata": {
    "collapsed": false
   },
   "outputs": [
    {
     "name": "stdout",
     "output_type": "stream",
     "text": [
      "41\n",
      "206\n"
     ]
    }
   ],
   "source": [
    "# how many loci/samples\n",
    "print(len(set(data[\"sample\"])))\n",
    "print(len(set(data[\"name\"])))"
   ]
  },
  {
   "cell_type": "code",
   "execution_count": 74,
   "metadata": {
    "collapsed": false
   },
   "outputs": [],
   "source": [
    "offsets = {}\n",
    "markers = set(data[\"name\"])\n",
    "for col in [\"gral1\",\"gral2\",\"imal1\",\"imal2\"]:\n",
    "    data[col] = data[col].apply(int)\n",
    "for marker in markers:\n",
    "    x = data[data[\"name\"]==marker].copy()\n",
    "    x[\"err1\"] = -1*(x[\"gral1\"]-x[\"imal1\"])\n",
    "    x[\"err2\"] = -1*(x[\"gral1\"]-x[\"imal2\"])\n",
    "    x[\"err3\"] = -1*(x[\"gral2\"]-x[\"imal1\"])\n",
    "    x[\"err4\"] = -1*(x[\"gral2\"]-x[\"imal2\"])\n",
    "    possible_offsets = set(list(x[\"err1\"])+list(x[\"err2\"])+ list(x[\"err3\"]) + list(x[\"err4\"]))\n",
    "    best_offset = 0\n",
    "    best_conc = 0\n",
    "    for po in possible_offsets:\n",
    "        x[\"offset\"] = po\n",
    "        x[\"conc\"] = x.apply(GetConcordance, 1)\n",
    "        m = np.mean(x[\"conc\"])\n",
    "        if m > best_conc:\n",
    "            best_conc = m\n",
    "            best_offset = po\n",
    "    offsets[marker] = best_offset"
   ]
  },
  {
   "cell_type": "code",
   "execution_count": 75,
   "metadata": {
    "collapsed": false
   },
   "outputs": [
    {
     "name": "stdout",
     "output_type": "stream",
     "text": [
      "0.7685219773378159\n"
     ]
    }
   ],
   "source": [
    "data[\"offset\"] = data.apply(lambda x: offsets.get(x[\"name\"], 0), 1)\n",
    "data[\"conc\"] = data.apply(GetConcordance, 1)\n",
    "\n",
    "print(np.mean(data[\"conc\"]))"
   ]
  },
  {
   "cell_type": "code",
   "execution_count": 76,
   "metadata": {
    "collapsed": false
   },
   "outputs": [],
   "source": [
    "markers = list(set(data[\"name\"]))\n",
    "conc = []\n",
    "for marker in markers:\n",
    "    x = data[data[\"name\"]==marker]\n",
    "    conc.append(np.mean(x[\"conc\"]))\n",
    "d = pd.DataFrame({\"name\": markers, \"conc\": conc})\n",
    "d = d.sort_values(\"conc\")"
   ]
  },
  {
   "cell_type": "code",
   "execution_count": 77,
   "metadata": {
    "collapsed": false
   },
   "outputs": [
    {
     "name": "stdout",
     "output_type": "stream",
     "text": [
      "(0.9622866790874177, 0.0)\n"
     ]
    },
    {
     "data": {
      "image/png": "[encoded data removed]",
      "text/plain": [
       "<matplotlib.figure.Figure at 0x7fd50d1908d0>"
      ]
     },
     "metadata": {},
     "output_type": "display_data"
    }
   ],
   "source": [
    "# Bubble plot\n",
    "data[\"dosage1\"] = data[\"gral1\"]+data[\"gral2\"]+data[\"offset\"]*2\n",
    "data[\"dosage2\"] = data[\"imal1\"]+data[\"imal2\"]\n",
    "\n",
    "print(scipy.stats.pearsonr(data[\"dosage1\"], data[\"dosage2\"]))\n",
    "\n",
    "bubble = data.groupby([\"dosage1\",\"dosage2\"], as_index=False).agg({\"conc\": len})\n",
    "fig = plt.figure()\n",
    "ax = fig.add_subplot(111)\n",
    "ax.scatter(bubble[\"dosage1\"], bubble[\"dosage2\"], s=bubble[\"conc\"])\n",
    "ax.plot([-75,75],[-75,75], color=\"black\")\n",
    "ax.set_xlabel(\"Capillary dosage\", size=15)\n",
    "ax.set_ylabel(\"Imputed dosage\", size=15);"
   ]
  },
  {
   "cell_type": "markdown",
   "metadata": {},
   "source": [
    "# Per-locus comparison with SSC LOO"
   ]
  },
  {
   "cell_type": "code",
   "execution_count": 78,
   "metadata": {
    "collapsed": false
   },
   "outputs": [],
   "source": [
    "DATADIR=\"/storage/s1saini/manuscript_strsnp/fig3/ssc-imputation/\"\n",
    "sscloo = pd.read_csv(os.path.join(DATADIR, \"loo\",\"l1o.ALL.chr.csv\")).drop(['pos'], axis=1).drop_duplicates(subset=['str'])\n",
    "sscloo[\"loo_r2\"] = sscloo[\"loo_r\"]**2\n",
    "sscloo[\"wgs_eur_r2\"] = sscloo[\"wgs_eur_r\"]**2\n",
    "id_start = pd.read_csv(os.path.join(DATADIR, \"loo\", \"ALL.START_ID.txt\"), delim_whitespace=True, names=[\"str\",\"pos\"]).drop_duplicates(subset=['pos'])\n",
    "position_to_id = pd.read_csv(\"/storage/s1saini/manuscript_strsnp/fig3/position_to_id/ALL.position_to_id.txt\", names=[\"pos\", \"str\"], delim_whitespace=True)\n",
    "expected_concordance = pd.read_csv(\"/storage/s1saini/manuscript_strsnp/fig3/expected_concordance/ALL.exp_concord.txt\", names=[\"pos\", \"exp_concord\"], delim_whitespace=True)\n",
    "expected_concordance = pd.merge(expected_concordance, position_to_id, on=\"pos\", how=\"inner\")\n",
    "sscloo = pd.merge(sscloo, expected_concordance, on=\"str\", how=\"inner\")\n",
    "sscloo = pd.merge(sscloo[[\"str\",\"loo_concordance\",\"wgs_eur_concordance\",\"wgs_eur_r2\", \"loo_r2\",\"exp_concord\"]], id_start, on=[\"str\"])"
   ]
  },
  {
   "cell_type": "code",
   "execution_count": 79,
   "metadata": {
    "collapsed": false
   },
   "outputs": [],
   "source": [
    "loci = list(set(data[\"name\"]))\n",
    "conc = []\n",
    "conc2 = []\n",
    "r2 = []\n",
    "\n",
    "for l in loci:\n",
    "    x = data[data[\"name\"]==l]\n",
    "    conc.append(np.mean(x.apply(GetConcordance, 1)))\n",
    "    conc2.append(np.mean(x.apply(GetConcordance2, 1)))\n",
    "    r2.append(scipy.stats.pearsonr(x[\"dosage1\"], x[\"dosage2\"])[0]**2)\n",
    "capdata = pd.DataFrame({\"str\": loci, \"cap_conc\": conc, \"cap_r2\": r2, \"cap_conc2\": conc2})"
   ]
  },
  {
   "cell_type": "code",
   "execution_count": 80,
   "metadata": {
    "collapsed": false,
    "scrolled": true
   },
   "outputs": [
    {
     "name": "stdout",
     "output_type": "stream",
     "text": [
      "(0.8303417260396155, 1.050336256812244e-53)\n",
      "206\n"
     ]
    },
    {
     "data": {
      "image/png": "[encoded data removed]",
      "text/plain": [
       "<matplotlib.figure.Figure at 0x7fd50b03b860>"
      ]
     },
     "metadata": {},
     "output_type": "display_data"
    }
   ],
   "source": [
    "comp = pd.merge(capdata, sscloo, on=[\"str\"])\n",
    "\n",
    "true_color = (0.2980392156862745, 0.4470588235294118, 0.6901960784313725)\n",
    "exp_color = (0.3333333333333333, 0.6588235294117647, 0.40784313725490196)\n",
    "\n",
    "fig = plt.figure()\n",
    "ax = fig.add_subplot(111)\n",
    "ax.scatter(comp[\"cap_conc\"], comp[\"wgs_eur_concordance\"], color=true_color)\n",
    "#ax.scatter(comp[\"cap_conc\"], comp[\"exp_concord\"], color=exp_color)\n",
    "ax.plot([0.5, 1], [0.5,1])\n",
    "ax.spines['right'].set_visible(False)\n",
    "ax.spines['top'].set_visible(False)\n",
    "ax.yaxis.set_ticks_position('left')\n",
    "ax.xaxis.set_ticks_position('bottom')\n",
    "ax.set_xlabel(\"Capillary concordance\", size=15)\n",
    "ax.set_ylabel(\"HipSTR concordance\", size=15)\n",
    "fig.savefig(\"../haplotype_paper/FiguresRevision/pdfs/Figure2_Capillary.pdf\")\n",
    "print(scipy.stats.pearsonr(comp[\"cap_conc\"], comp[\"wgs_eur_concordance\"]))\n",
    "print(comp.shape[0])"
   ]
  }
 ],
 "metadata": {
  "kernelspec": {
   "display_name": "Python 3",
   "language": "python",
   "name": "python3"
  },
  "language_info": {
   "codemirror_mode": {
    "name": "ipython",
    "version": 3
   },
   "file_extension": ".py",
   "mimetype": "text/x-python",
   "name": "python",
   "nbconvert_exporter": "python",
   "pygments_lexer": "ipython3",
   "version": "3.4.5"
  }
 },
 "nbformat": 4,
 "nbformat_minor": 2
}

{
 "cells": [
  {
   "cell_type": "code",
   "execution_count": 1,
   "metadata": {
    "collapsed": true
   },
   "outputs": [],
   "source": [
    "import pandas as pd\n",
    "import numpy as np\n",
    "from cyvcf2 import VCF"
   ]
  },
  {
   "cell_type": "code",
   "execution_count": 2,
   "metadata": {
    "collapsed": false
   },
   "outputs": [
    {
     "ename": "FileNotFoundError",
     "evalue": "File b'Pemberton_AdditionalFile1_11242009.txt' does not exist",
     "output_type": "error",
     "traceback": [
      "\u001b[0;31m---------------------------------------------------------------------------\u001b[0m",
      "\u001b[0;31mFileNotFoundError\u001b[0m                         Traceback (most recent call last)",
      "\u001b[0;32m<ipython-input-2-91884120b0f2>\u001b[0m in \u001b[0;36m<module>\u001b[0;34m()\u001b[0m\n\u001b[0;32m----> 1\u001b[0;31m \u001b[0mpemb\u001b[0m \u001b[0;34m=\u001b[0m \u001b[0mpd\u001b[0m\u001b[0;34m.\u001b[0m\u001b[0mread_csv\u001b[0m\u001b[0;34m(\u001b[0m\u001b[0;34m\"Pemberton_AdditionalFile1_11242009.txt\"\u001b[0m\u001b[0;34m,\u001b[0m \u001b[0mdelim_whitespace\u001b[0m\u001b[0;34m=\u001b[0m\u001b[0;32mTrue\u001b[0m\u001b[0;34m)\u001b[0m\u001b[0;34m\u001b[0m\u001b[0m\n\u001b[0m\u001b[1;32m      2\u001b[0m \u001b[0mpemb\u001b[0m\u001b[0;34m.\u001b[0m\u001b[0mshape\u001b[0m\u001b[0;34m\u001b[0m\u001b[0m\n\u001b[1;32m      3\u001b[0m \u001b[0;34m\u001b[0m\u001b[0m\n\u001b[1;32m      4\u001b[0m \u001b[0monekg_snp_info\u001b[0m \u001b[0;34m=\u001b[0m \u001b[0mpd\u001b[0m\u001b[0;34m.\u001b[0m\u001b[0mread_csv\u001b[0m\u001b[0;34m(\u001b[0m\u001b[0;34m\"STRPinfo.txt\"\u001b[0m\u001b[0;34m,\u001b[0m \u001b[0mdelim_whitespace\u001b[0m\u001b[0;34m=\u001b[0m\u001b[0;32mTrue\u001b[0m\u001b[0;34m)\u001b[0m\u001b[0;34m\u001b[0m\u001b[0m\n\u001b[1;32m      5\u001b[0m \u001b[0monekg_snp_info\u001b[0m\u001b[0;34m.\u001b[0m\u001b[0mshape\u001b[0m\u001b[0;34m\u001b[0m\u001b[0m\n",
      "\u001b[0;32m/usr/lib64/python3.4/site-packages/pandas/io/parsers.py\u001b[0m in \u001b[0;36mparser_f\u001b[0;34m(filepath_or_buffer, sep, delimiter, header, names, index_col, usecols, squeeze, prefix, mangle_dupe_cols, dtype, engine, converters, true_values, false_values, skipinitialspace, skiprows, nrows, na_values, keep_default_na, na_filter, verbose, skip_blank_lines, parse_dates, infer_datetime_format, keep_date_col, date_parser, dayfirst, iterator, chunksize, compression, thousands, decimal, lineterminator, quotechar, quoting, escapechar, comment, encoding, dialect, tupleize_cols, error_bad_lines, warn_bad_lines, skipfooter, skip_footer, doublequote, delim_whitespace, as_recarray, compact_ints, use_unsigned, low_memory, buffer_lines, memory_map, float_precision)\u001b[0m\n\u001b[1;32m    707\u001b[0m                     skip_blank_lines=skip_blank_lines)\n\u001b[1;32m    708\u001b[0m \u001b[0;34m\u001b[0m\u001b[0m\n\u001b[0;32m--> 709\u001b[0;31m         \u001b[0;32mreturn\u001b[0m \u001b[0m_read\u001b[0m\u001b[0;34m(\u001b[0m\u001b[0mfilepath_or_buffer\u001b[0m\u001b[0;34m,\u001b[0m \u001b[0mkwds\u001b[0m\u001b[0;34m)\u001b[0m\u001b[0;34m\u001b[0m\u001b[0m\n\u001b[0m\u001b[1;32m    710\u001b[0m \u001b[0;34m\u001b[0m\u001b[0m\n\u001b[1;32m    711\u001b[0m     \u001b[0mparser_f\u001b[0m\u001b[0;34m.\u001b[0m\u001b[0m__name__\u001b[0m \u001b[0;34m=\u001b[0m \u001b[0mname\u001b[0m\u001b[0;34m\u001b[0m\u001b[0m\n",
      "\u001b[0;32m/usr/lib64/python3.4/site-packages/pandas/io/parsers.py\u001b[0m in \u001b[0;36m_read\u001b[0;34m(filepath_or_buffer, kwds)\u001b[0m\n\u001b[1;32m    447\u001b[0m \u001b[0;34m\u001b[0m\u001b[0m\n\u001b[1;32m    448\u001b[0m     \u001b[0;31m# Create the parser.\u001b[0m\u001b[0;34m\u001b[0m\u001b[0;34m\u001b[0m\u001b[0m\n\u001b[0;32m--> 449\u001b[0;31m     \u001b[0mparser\u001b[0m \u001b[0;34m=\u001b[0m \u001b[0mTextFileReader\u001b[0m\u001b[0;34m(\u001b[0m\u001b[0mfilepath_or_buffer\u001b[0m\u001b[0;34m,\u001b[0m \u001b[0;34m**\u001b[0m\u001b[0mkwds\u001b[0m\u001b[0;34m)\u001b[0m\u001b[0;34m\u001b[0m\u001b[0m\n\u001b[0m\u001b[1;32m    450\u001b[0m \u001b[0;34m\u001b[0m\u001b[0m\n\u001b[1;32m    451\u001b[0m     \u001b[0;32mif\u001b[0m \u001b[0mchunksize\u001b[0m \u001b[0;32mor\u001b[0m \u001b[0miterator\u001b[0m\u001b[0;34m:\u001b[0m\u001b[0;34m\u001b[0m\u001b[0m\n",
      "\u001b[0;32m/usr/lib64/python3.4/site-packages/pandas/io/parsers.py\u001b[0m in \u001b[0;36m__init__\u001b[0;34m(self, f, engine, **kwds)\u001b[0m\n\u001b[1;32m    816\u001b[0m             \u001b[0mself\u001b[0m\u001b[0;34m.\u001b[0m\u001b[0moptions\u001b[0m\u001b[0;34m[\u001b[0m\u001b[0;34m'has_index_names'\u001b[0m\u001b[0;34m]\u001b[0m \u001b[0;34m=\u001b[0m \u001b[0mkwds\u001b[0m\u001b[0;34m[\u001b[0m\u001b[0;34m'has_index_names'\u001b[0m\u001b[0;34m]\u001b[0m\u001b[0;34m\u001b[0m\u001b[0m\n\u001b[1;32m    817\u001b[0m \u001b[0;34m\u001b[0m\u001b[0m\n\u001b[0;32m--> 818\u001b[0;31m         \u001b[0mself\u001b[0m\u001b[0;34m.\u001b[0m\u001b[0m_make_engine\u001b[0m\u001b[0;34m(\u001b[0m\u001b[0mself\u001b[0m\u001b[0;34m.\u001b[0m\u001b[0mengine\u001b[0m\u001b[0;34m)\u001b[0m\u001b[0;34m\u001b[0m\u001b[0m\n\u001b[0m\u001b[1;32m    819\u001b[0m \u001b[0;34m\u001b[0m\u001b[0m\n\u001b[1;32m    820\u001b[0m     \u001b[0;32mdef\u001b[0m \u001b[0mclose\u001b[0m\u001b[0;34m(\u001b[0m\u001b[0mself\u001b[0m\u001b[0;34m)\u001b[0m\u001b[0;34m:\u001b[0m\u001b[0;34m\u001b[0m\u001b[0m\n",
      "\u001b[0;32m/usr/lib64/python3.4/site-packages/pandas/io/parsers.py\u001b[0m in \u001b[0;36m_make_engine\u001b[0;34m(self, engine)\u001b[0m\n\u001b[1;32m   1047\u001b[0m     \u001b[0;32mdef\u001b[0m \u001b[0m_make_engine\u001b[0m\u001b[0;34m(\u001b[0m\u001b[0mself\u001b[0m\u001b[0;34m,\u001b[0m \u001b[0mengine\u001b[0m\u001b[0;34m=\u001b[0m\u001b[0;34m'c'\u001b[0m\u001b[0;34m)\u001b[0m\u001b[0;34m:\u001b[0m\u001b[0;34m\u001b[0m\u001b[0m\n\u001b[1;32m   1048\u001b[0m         \u001b[0;32mif\u001b[0m \u001b[0mengine\u001b[0m \u001b[0;34m==\u001b[0m \u001b[0;34m'c'\u001b[0m\u001b[0;34m:\u001b[0m\u001b[0;34m\u001b[0m\u001b[0m\n\u001b[0;32m-> 1049\u001b[0;31m             \u001b[0mself\u001b[0m\u001b[0;34m.\u001b[0m\u001b[0m_engine\u001b[0m \u001b[0;34m=\u001b[0m \u001b[0mCParserWrapper\u001b[0m\u001b[0;34m(\u001b[0m\u001b[0mself\u001b[0m\u001b[0;34m.\u001b[0m\u001b[0mf\u001b[0m\u001b[0;34m,\u001b[0m \u001b[0;34m**\u001b[0m\u001b[0mself\u001b[0m\u001b[0;34m.\u001b[0m\u001b[0moptions\u001b[0m\u001b[0;34m)\u001b[0m\u001b[0;34m\u001b[0m\u001b[0m\n\u001b[0m\u001b[1;32m   1050\u001b[0m         \u001b[0;32melse\u001b[0m\u001b[0;34m:\u001b[0m\u001b[0;34m\u001b[0m\u001b[0m\n\u001b[1;32m   1051\u001b[0m             \u001b[0;32mif\u001b[0m \u001b[0mengine\u001b[0m \u001b[0;34m==\u001b[0m \u001b[0;34m'python'\u001b[0m\u001b[0;34m:\u001b[0m\u001b[0;34m\u001b[0m\u001b[0m\n",
      "\u001b[0;32m/usr/lib64/python3.4/site-packages/pandas/io/parsers.py\u001b[0m in \u001b[0;36m__init__\u001b[0;34m(self, src, **kwds)\u001b[0m\n\u001b[1;32m   1693\u001b[0m         \u001b[0mkwds\u001b[0m\u001b[0;34m[\u001b[0m\u001b[0;34m'allow_leading_cols'\u001b[0m\u001b[0;34m]\u001b[0m \u001b[0;34m=\u001b[0m \u001b[0mself\u001b[0m\u001b[0;34m.\u001b[0m\u001b[0mindex_col\u001b[0m \u001b[0;32mis\u001b[0m \u001b[0;32mnot\u001b[0m \u001b[0;32mFalse\u001b[0m\u001b[0;34m\u001b[0m\u001b[0m\n\u001b[1;32m   1694\u001b[0m \u001b[0;34m\u001b[0m\u001b[0m\n\u001b[0;32m-> 1695\u001b[0;31m         \u001b[0mself\u001b[0m\u001b[0;34m.\u001b[0m\u001b[0m_reader\u001b[0m \u001b[0;34m=\u001b[0m \u001b[0mparsers\u001b[0m\u001b[0;34m.\u001b[0m\u001b[0mTextReader\u001b[0m\u001b[0;34m(\u001b[0m\u001b[0msrc\u001b[0m\u001b[0;34m,\u001b[0m \u001b[0;34m**\u001b[0m\u001b[0mkwds\u001b[0m\u001b[0;34m)\u001b[0m\u001b[0;34m\u001b[0m\u001b[0m\n\u001b[0m\u001b[1;32m   1696\u001b[0m \u001b[0;34m\u001b[0m\u001b[0m\n\u001b[1;32m   1697\u001b[0m         \u001b[0;31m# XXX\u001b[0m\u001b[0;34m\u001b[0m\u001b[0;34m\u001b[0m\u001b[0m\n",
      "\u001b[0;32mpandas/_libs/parsers.pyx\u001b[0m in \u001b[0;36mpandas._libs.parsers.TextReader.__cinit__\u001b[0;34m()\u001b[0m\n",
      "\u001b[0;32mpandas/_libs/parsers.pyx\u001b[0m in \u001b[0;36mpandas._libs.parsers.TextReader._setup_parser_source\u001b[0;34m()\u001b[0m\n",
      "\u001b[0;31mFileNotFoundError\u001b[0m: File b'Pemberton_AdditionalFile1_11242009.txt' does not exist"
     ]
    }
   ],
   "source": [
    "pemb = pd.read_csv(\"Pemberton_AdditionalFile1_11242009.txt\", delim_whitespace=True)\n",
    "pemb.shape\n",
    "\n",
    "onekg_snp_info = pd.read_csv(\"STRPinfo.txt\", delim_whitespace=True)\n",
    "onekg_snp_info.shape\n",
    "\n",
    "locus_ref = pd.merge(pemb, onekg_snp_info, how=\"inner\", left_on=\"alternateName\", right_on=\"MarkerName\")[[\"alternateName\", \"lengthRefSeq(bp)\", \"expectedPCRfragmentSize_forRefSeq(bp)\", \"Chrom\", \"Bpposition\", \"Repeattype\"]]\n",
    "locus_ref.columns = ['id', 'reflen1', 'reflen2', 'chrom', 'pos', 'type']\n",
    "\n",
    "# load the genotype data\n",
    "gtData = pd.read_csv(\"STRPgenotypes.txt\", delim_whitespace=True)\n",
    "samples = [x for x in list(gtData.columns.values) if \"NA\" in x]\n",
    "gtData = gtData.merge(locus_ref, how=\"inner\", left_on=\"Name\", right_on=\"id\")\n",
    "\n",
    "# round to the nearest repeat unit length\n",
    "type_to_length = {'Di':2.0, 'Tetra':4.0, 'Tri':3.0, 'Penta':5.0}\n",
    "for i in range(gtData.shape[0]):\n",
    "    repLength = type_to_length[gtData.at[i, 'type']]\n",
    "    for sample in samples:\n",
    "        gt = gtData.at[i, sample]\n",
    "        if gt == \"0/0\":\n",
    "            gtData.at[i, sample] = \"./.\"\n",
    "        else:\n",
    "            gt_new = [int(x)-gtData.at[i,\"reflen1\"] for x in gt.split(\"/\")]\n",
    "            gt_new_round = [int(np.round(x/repLength)*repLength) for x in gt_new]\n",
    "            #if just one of the alleles was rounded, filter the call\n",
    "            if gt_new[0]!= gt_new_round[0] and gt_new[1]!= gt_new_round[1]:\n",
    "                gtData.at[i, sample] = \"/\".join(map(str,gt_new_round))\n",
    "            elif gt_new[0]== gt_new_round[0] and gt_new[1]== gt_new_round[1]:\n",
    "                gtData.at[i, sample] = \"/\".join(map(str,gt_new_round))\n",
    "            else:\n",
    "                gtData.at[i, sample] = \"./.\" "
   ]
  },
  {
   "cell_type": "code",
   "execution_count": null,
   "metadata": {
    "collapsed": false
   },
   "outputs": [],
   "source": [
    "# load imputation data for the samples available in Marshfield set\n",
    "myDF = pd.DataFrame()\n",
    "chrom_bak = 0\n",
    "for i in range(gtData.shape[0]):\n",
    "    chrom = gtData.at[i,'chrom']\n",
    "    ID = gtData.at[i,'Name']\n",
    "    if chrom != chrom_bak:\n",
    "        strReg = pd.read_csv(\"/storage/s1saini/str-imputation/hipstr_template/str_regions_bed/HipSTR.chr\"+str(chrom)+\".txt\", delim_whitespace=True, names=['chrom', 'start', 'end', 'type', 'reflen', 'ID'])\n",
    "    strRegPos = strReg[strReg['ID']==ID]['start']\n",
    "    if strRegPos.shape[0] == 0:\n",
    "        continue\n",
    "    position = int(strRegPos)\n",
    "    vcf = VCF('/storage/s1saini/manuscript_strsnp/fig3/1kg.panel.anno/1kg.snp.str.chr'+str(chrom)+'.vcf.gz', samples=samples)\n",
    "    for variant in vcf(str(chrom)+\":\"+str(position)+\"-\"+str(position)):\n",
    "        if variant.ID == ID:\n",
    "            tmp1 = [x.split(\"|\") for x in variant.gt_bases]\n",
    "            gt = [\"/\".join(map(str,[len(x)-len(variant.REF) for x in gt])) for gt in tmp1]\n",
    "            myDF = myDF.append(pd.DataFrame([dict(zip([\"Name\"]+vcf.samples, [variant.ID]+gt))], columns=dict(zip([\"Name\"]+vcf.samples, [variant.ID]+gt)).keys()), ignore_index=True)\n",
    "            break\n",
    "    chrom_bak = chrom"
   ]
  },
  {
   "cell_type": "code",
   "execution_count": null,
   "metadata": {
    "collapsed": false
   },
   "outputs": [],
   "source": [
    "common_samples = set([x for x in list(gtData.columns.values) if \"NA\" in x]).intersection(set([x for x in list(myDF.columns.values) if \"NA\" in x]))"
   ]
  },
  {
   "cell_type": "code",
   "execution_count": null,
   "metadata": {
    "collapsed": false
   },
   "outputs": [],
   "source": [
    "#mergedData = pd.DataFrame()\n",
    "#for i in range(gtData.shape[0]):\n",
    "#    for sample in common_samples:\n",
    "#        gral1, gral2 = gtData.at[i, sample].split(\"/\")\n",
    "#        if myDF[myDF['Name']==gtData.at[i,\"Name\"]].shape[0] != 0:\n",
    "#            imal1, imal2 = myDF[myDF['Name']==gtData.at[i,\"Name\"]][sample].values[0].split(\"/\")\n",
    "#            mergedData = mergedData.append(pd.DataFrame([{'name':gtData.at[i,\"Name\"], 'sample':sample, 'gral1':gral1, 'gral2':gral2, 'imal1':imal1, 'imal2':imal2}]))\n",
    "#            \n",
    "#mergedData.to_csv(\"capillary_vs_imputed_calls.csv\", index=False, columns=['sample', 'name', 'gral1', 'gral2', 'imal1', 'imal2'])\n",
    "\n"
   ]
  },
  {
   "cell_type": "code",
   "execution_count": null,
   "metadata": {
    "collapsed": false
   },
   "outputs": [],
   "source": [
    "mergedData = pd.read_csv(\"capillary_vs_imputed_calls.csv\")\n",
    "mergedData.head()"
   ]
  },
  {
   "cell_type": "code",
   "execution_count": null,
   "metadata": {
    "collapsed": false
   },
   "outputs": [],
   "source": [
    "#concord = list()\n",
    "#droppedNa = mergedData[mergedData!=\".\"].dropna(axis=0)\n",
    "#for i in droppedNa.values:\n",
    "#    listA = set(i[0:2].astype(int))\n",
    "#    listB = set(i[2:4].astype(int))\n",
    "#    concord.append( (2-(max(len(listA-listB) , len(listB-listA))))/2.0 )\n",
    "#\n",
    "#concordance = pd.DataFrame({'str':droppedNa['name'], 'concord':concord})\n",
    "#concordance = concordance.groupby('str').mean().reset_index()\n",
    "#concordance.to_csv(\"capillary_vs_imputed_concordance.csv\", index=False)"
   ]
  },
  {
   "cell_type": "code",
   "execution_count": null,
   "metadata": {
    "collapsed": false
   },
   "outputs": [],
   "source": [
    "concordance = pd.read_csv(\"capillary_vs_imputed_concordance.csv\")\n",
    "concordance.head()"
   ]
  },
  {
   "cell_type": "code",
   "execution_count": null,
   "metadata": {
    "collapsed": false
   },
   "outputs": [],
   "source": [
    "impute_performace = pd.read_csv(\"/storage/s1saini/manuscript_strsnp/fig3/final_numbers/ALL.results.csv\")[['str', 'wgs_eur_concordance', 'wgs_afr_concordance', 'wgs_eas_concordance']]\n",
    "impute_performace = impute_performace.merge(concordance, on=\"str\", how=\"inner\")\n",
    "impute_performace.head()"
   ]
  },
  {
   "cell_type": "code",
   "execution_count": null,
   "metadata": {
    "collapsed": false
   },
   "outputs": [],
   "source": [
    "print \"Marfield Concordance\", np.mean(impute_performace.concord.values)\n",
    "print \"hipSTR vs impute (EUR) Concordance\", np.nanmean(impute_performace.wgs_eur_concordance.values)\n",
    "print \"hipSTR vs impute (EAS) Concordance\", np.nanmean(impute_performace.wgs_eas_concordance.values)\n",
    "print \"hipSTR vs impute (AFR) Concordance\", np.nanmean(impute_performace.wgs_afr_concordance.values)"
   ]
  },
  {
   "cell_type": "code",
   "execution_count": null,
   "metadata": {
    "collapsed": false
   },
   "outputs": [],
   "source": [
    "from matplotlib import pyplot as plt\n",
    "%matplotlib inline\n",
    "import seaborn as sns\n",
    "\n",
    "sns.lmplot(x='concord', y='wgs_eur_concordance', data=impute_performace)"
   ]
  },
  {
   "cell_type": "code",
   "execution_count": null,
   "metadata": {
    "collapsed": true
   },
   "outputs": [],
   "source": []
  }
 ],
 "metadata": {
  "kernelspec": {
   "display_name": "Python 3",
   "language": "python",
   "name": "python3"
  },
  "language_info": {
   "codemirror_mode": {
    "name": "ipython",
    "version": 3
   },
   "file_extension": ".py",
   "mimetype": "text/x-python",
   "name": "python",
   "nbconvert_exporter": "python",
   "pygments_lexer": "ipython3",
   "version": "3.4.5"
  }
 },
 "nbformat": 4,
 "nbformat_minor": 2
}

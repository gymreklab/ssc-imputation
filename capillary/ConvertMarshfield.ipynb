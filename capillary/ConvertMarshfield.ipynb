{
 "cells": [
  {
   "cell_type": "code",
   "execution_count": 19,
   "metadata": {
    "collapsed": true
   },
   "outputs": [],
   "source": [
    "import pandas as pd\n",
    "import numpy as np\n",
    "from cyvcf2 import VCF"
   ]
  },
  {
   "cell_type": "code",
   "execution_count": 20,
   "metadata": {
    "collapsed": true
   },
   "outputs": [],
   "source": [
    "pemb = pd.read_csv(\"/storage/s1saini/manuscript_strsnp/fig3/cap_elec/Pemberton_AdditionalFile1_11242009.txt\", delim_whitespace=True)\n",
    "onekg_snp_info = pd.read_csv(\"/storage/s1saini/manuscript_strsnp/fig3/cap_elec/STRPinfo.txt\", delim_whitespace=True)\n",
    "locus_ref = pd.merge(pemb, onekg_snp_info, how=\"inner\", left_on=\"alternateName\", right_on=\"MarkerName\")[[\"alternateName\", \"lengthRefSeq(bp)\", \"expectedPCRfragmentSize_forRefSeq(bp)\", \"Chrom\", \"Bpposition\", \"Repeattype\"]]\n",
    "locus_ref.columns = ['id', 'reflen1', 'reflen2', 'chrom', 'pos', 'type']"
   ]
  },
  {
   "cell_type": "code",
   "execution_count": 21,
   "metadata": {
    "collapsed": false
   },
   "outputs": [],
   "source": [
    "# load the genotype data\n",
    "gtData = pd.read_csv(\"/storage/s1saini/manuscript_strsnp/fig3/cap_elec/STRPgenotypes.txt\", delim_whitespace=True)\n",
    "samples = [x for x in list(gtData.columns.values) if \"NA\" in x]\n",
    "gtData = gtData.merge(locus_ref, how=\"inner\", left_on=\"Name\", right_on=\"id\")\n",
    "gtData_converted = gtData.copy()"
   ]
  },
  {
   "cell_type": "code",
   "execution_count": 22,
   "metadata": {
    "collapsed": false
   },
   "outputs": [],
   "source": [
    "# round to the nearest repeat unit length\n",
    "type_to_length = {'Di':2.0, 'Tetra':4.0, 'Tri':3.0, 'Penta':5.0}\n",
    "for i in range(gtData.shape[0]):\n",
    "    repLength = type_to_length[gtData.at[i, 'type']]\n",
    "    for sample in samples:\n",
    "        gt = gtData.at[i, sample]\n",
    "        if gt == \"0/0\":\n",
    "            gtData_converted.at[i, sample] = \"./.\"\n",
    "        else:\n",
    "            gt_new = [int(x)-gtData.at[i,\"reflen1\"] for x in gt.split(\"/\")]\n",
    "            gt_rounded = [int(np.floor(x/repLength)*repLength) for x in gt_new]\n",
    "            # Filter if we only had to round 1 allele\n",
    "            if gt_new[0]!= gt_rounded[0] and gt_new[1]!= gt_rounded[1]:\n",
    "                gtData_converted.at[i, sample] = \"/\".join(map(str,gt_rounded))\n",
    "            elif gt_new[0]== gt_rounded[0] and gt_new[1]== gt_rounded[1]:\n",
    "                gtData_converted.at[i, sample] = \"/\".join(map(str,gt_rounded))\n",
    "            else:\n",
    "                gtData_converted.at[i, sample] = \"./.\"            # Filter if not multiple of repeat unit\n",
    "            #if gt_new[0]%repLength != 0 or gt_new[1]%repLength !=0:\n",
    "            #    gtData_converted.at[i, sample] = \"./.\" \n",
    "            #else:\n",
    "            #    gtData_converted.at[i, sample] = \"/\".join(map(str,gt_new))"
   ]
  },
  {
   "cell_type": "code",
   "execution_count": 23,
   "metadata": {
    "collapsed": false
   },
   "outputs": [
    {
     "name": "stderr",
     "output_type": "stream",
     "text": [
      "/usr/lib/python3.4/site-packages/ipykernel/__main__.py:17: DeprecationWarning: In future, it will be an error for 'np.bool_' scalars to be interpreted as an index\n"
     ]
    }
   ],
   "source": [
    "# load imputation data for the samples available in Marshfield set\n",
    "myDF = pd.DataFrame()\n",
    "chrom_bak = 0\n",
    "for i in range(gtData.shape[0]):\n",
    "    chrom = gtData.at[i,'chrom']\n",
    "    ID = gtData.at[i,'Name']\n",
    "    if chrom != chrom_bak:\n",
    "        strReg = pd.read_csv(\"/storage/s1saini/str-imputation/hipstr_template/str_regions_bed/HipSTR.chr\"+str(chrom)+\".txt\", delim_whitespace=True, names=['chrom', 'start', 'end', 'type', 'reflen', 'ID'])\n",
    "    strRegPos = strReg[strReg['ID']==ID]['start']\n",
    "    if strRegPos.shape[0] == 0:\n",
    "        continue\n",
    "    position = int(strRegPos)\n",
    "    fname = '/storage/s1saini/manuscript_strsnp/fig3/1kg.panel.anno/1kg.snp.str.chr'+str(chrom)+'.vcf.gz'\n",
    "    vcf = VCF(fname)\n",
    "    for variant in vcf(str(chrom)+\":\"+str(position)+\"-\"+str(position)):\n",
    "        if variant.ID == ID:\n",
    "            tmp1 = [x.split(\"|\") for x in variant.gt_bases]\n",
    "            gt = [\"/\".join(map(str,[len(x)-len(variant.REF) for x in gt])) for gt in tmp1]\n",
    "            myDF = myDF.append(pd.DataFrame([dict(zip([\"Name\"]+vcf.samples, [variant.ID]+gt))], columns=dict(zip([\"Name\"]+vcf.samples, [variant.ID]+gt)).keys()), ignore_index=True)\n",
    "            break\n",
    "    chrom_bak = chrom"
   ]
  },
  {
   "cell_type": "code",
   "execution_count": 24,
   "metadata": {
    "collapsed": false
   },
   "outputs": [],
   "source": [
    "common_samples = set([x for x in list(gtData_converted.columns.values) if \"NA\" in x]).intersection(set([x for x in list(myDF.columns.values) if \"NA\" in x]))"
   ]
  },
  {
   "cell_type": "code",
   "execution_count": 25,
   "metadata": {
    "collapsed": false
   },
   "outputs": [],
   "source": [
    "mergedData = pd.DataFrame()\n",
    "for i in range(gtData_converted.shape[0]):\n",
    "    for sample in common_samples:\n",
    "        gral1, gral2 = gtData_converted.at[i, sample].split(\"/\")\n",
    "        if myDF[myDF['Name']==gtData_converted.at[i,\"Name\"]].shape[0] != 0:\n",
    "            imal1, imal2 = myDF[myDF['Name']==gtData.at[i,\"Name\"]][sample].values[0].split(\"/\")\n",
    "            mergedData = mergedData.append(pd.DataFrame([{'name':gtData.at[i,\"Name\"], 'sample':sample, 'gral1':gral1, 'gral2':gral2, 'imal1':imal1, 'imal2':imal2}]))"
   ]
  },
  {
   "cell_type": "code",
   "execution_count": 26,
   "metadata": {
    "collapsed": false
   },
   "outputs": [],
   "source": [
    "mergedData.to_csv(\"capillary_vs_imputed_calls.csv\", index=False, columns=['sample', 'name', 'gral1', 'gral2', 'imal1', 'imal2'])"
   ]
  }
 ],
 "metadata": {
  "kernelspec": {
   "display_name": "Python 3",
   "language": "python",
   "name": "python3"
  },
  "language_info": {
   "codemirror_mode": {
    "name": "ipython",
    "version": 3
   },
   "file_extension": ".py",
   "mimetype": "text/x-python",
   "name": "python",
   "nbconvert_exporter": "python",
   "pygments_lexer": "ipython3",
   "version": "3.4.5"
  }
 },
 "nbformat": 4,
 "nbformat_minor": 2
}

{
 "cells": [
  {
   "cell_type": "code",
   "execution_count": 79,
   "metadata": {
    "collapsed": false
   },
   "outputs": [
    {
     "name": "stdout",
     "output_type": "stream",
     "text": [
      "Populating the interactive namespace from numpy and matplotlib\n"
     ]
    }
   ],
   "source": [
    "%pylab inline\n",
    "\n",
    "import matplotlib.pyplot as plt\n",
    "import os\n",
    "import pandas as pd\n",
    "import scipy.stats\n",
    "import matplotlib.patches as patches\n",
    "\n",
    "# Load PCA results\n",
    "pca = pd.read_csv(\"/storage/s1saini/ssc-pca/pca_10.eigenvec\", sep=\" \",\n",
    "                 names=[\"sample\",\"sample2\"]+[\"pc%s\"%i for i in range(1,11)])\n",
    "\n",
    "# Load 1kg population labels\n",
    "onekg = pd.read_csv(\"../other_data/1000GenomesPopulations.csv\")\n",
    "\n",
    "# Load pedigree info\n",
    "ped = pd.read_csv(\"../../metadata/ssc_family_ids.txt\", sep=\"\\t\", names=[\"id\",\"sample\"])\n",
    "ped[\"family\"] = ped[\"id\"].apply(lambda x: x.split(\".\")[0])\n",
    "ped[\"rel\"] = ped[\"id\"].apply(lambda x: x.split(\".\")[1])\n",
    "\n",
    "# Merge final data\n",
    "data = pd.merge(pca, onekg, on=\"sample\", how=\"left\")\n",
    "data = pd.merge(data, ped[[\"family\",\"rel\",\"sample\"]], on=\"sample\", how=\"left\")"
   ]
  },
  {
   "cell_type": "code",
   "execution_count": 80,
   "metadata": {
    "collapsed": false
   },
   "outputs": [
    {
     "name": "stderr",
     "output_type": "stream",
     "text": [
      "/usr/lib64/python3.4/site-packages/pandas/core/indexing.py:477: SettingWithCopyWarning: \n",
      "A value is trying to be set on a copy of a slice from a DataFrame.\n",
      "Try using .loc[row_indexer,col_indexer] = value instead\n",
      "\n",
      "See the caveats in the documentation: http://pandas.pydata.org/pandas-docs/stable/indexing.html#indexing-view-versus-copy\n",
      "  self.obj[item] = s\n"
     ]
    },
    {
     "name": "stdout",
     "output_type": "stream",
     "text": [
      "EAS\t36\n",
      "AFR\t48\n",
      "SAS\t114\n",
      "EUR\t1504\n"
     ]
    },
    {
     "data": {
      "image/png": "[encoded data removed]",
      "text/plain": [
       "<matplotlib.figure.Figure at 0x7fce3f280dd8>"
      ]
     },
     "metadata": {},
     "output_type": "display_data"
    }
   ],
   "source": [
    "# Plot PCA to get boundaries\n",
    "fig = plt.figure()\n",
    "ax = fig.add_subplot(111)\n",
    "\n",
    "refdata = data[(data[\"Population\"].apply(lambda x: str(x) != \"nan\"))]\n",
    "ax.scatter(refdata[\"pc1\"], refdata[\"pc2\"], color=\"black\", s=2);\n",
    "\n",
    "ssc = data[(data[\"Population\"].apply(lambda x: str(x) == \"nan\"))]\n",
    "ax.scatter(ssc[\"pc1\"], ssc[\"pc2\"], color=\"red\", s=2);\n",
    "ax.set_xlabel(\"PC1\", size=15)\n",
    "ax.set_ylabel(\"PC2\", size=15);\n",
    "\n",
    "# Get Europeans boundaries\n",
    "#for popname in set(refdata[\"Superpop\"]):\n",
    "for popname in [\"EAS\",\"AFR\",\"SAS\",\"EUR\"]:\n",
    "    pop = refdata[refdata[\"Superpop\"]==popname]\n",
    "    max_pc1 = max(pop[\"pc1\"])\n",
    "    min_pc1 = min(pop[\"pc1\"])\n",
    "    max_pc2 = max(pop[\"pc2\"])\n",
    "    min_pc2 = min(pop[\"pc2\"])\n",
    "    ssc_pop = ssc[(ssc[\"pc1\"]>=min_pc1) & (ssc[\"pc1\"]<=max_pc1) &\n",
    "                 (ssc[\"pc2\"]>=min_pc2) & (ssc[\"pc2\"]<=max_pc2)]\n",
    "    ssc.ix[ssc[\"sample\"].apply(lambda x: x in ssc_pop[\"sample\"].values),\"Superpop\"] = popname\n",
    "    print(\"\\t\".join([popname, str(ssc_pop.shape[0])]))\n",
    "    ax.add_patch(\n",
    "        patches.Rectangle(\n",
    "        (min_pc1, min_pc2),\n",
    "        max_pc1-min_pc1,\n",
    "        max_pc2-min_pc2,\n",
    "        fill=False\n",
    "        ))"
   ]
  },
  {
   "cell_type": "code",
   "execution_count": 82,
   "metadata": {
    "collapsed": false
   },
   "outputs": [],
   "source": [
    "def concat(x):\n",
    "    items = list(set([str(item) for item in x if str(item) != \"nan\"]))\n",
    "    if len(items)==0 or len(items)> 1: return \"Admixed\"\n",
    "    else: return \",\".join(items)\n",
    "ssc_family = ssc.groupby(\"family\", as_index=False).agg({\"Superpop\": concat})\n",
    "ssc_family.to_csv(\"../../metadata/ssc_family_populations.tab\", sep=\"\\t\", index=False)"
   ]
  }
 ],
 "metadata": {
  "kernelspec": {
   "display_name": "Python 3",
   "language": "python",
   "name": "python3"
  },
  "language_info": {
   "codemirror_mode": {
    "name": "ipython",
    "version": 3
   },
   "file_extension": ".py",
   "mimetype": "text/x-python",
   "name": "python",
   "nbconvert_exporter": "python",
   "pygments_lexer": "ipython3",
   "version": "3.4.5"
  }
 },
 "nbformat": 4,
 "nbformat_minor": 2
}

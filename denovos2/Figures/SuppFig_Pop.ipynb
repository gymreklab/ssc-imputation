{
 "cells": [
  {
   "cell_type": "code",
   "execution_count": 25,
   "metadata": {
    "collapsed": false
   },
   "outputs": [
    {
     "name": "stdout",
     "output_type": "stream",
     "text": [
      "Populating the interactive namespace from numpy and matplotlib\n"
     ]
    }
   ],
   "source": [
    "# Set up\n",
    "%pylab inline\n",
    "\n",
    "# Allow us to edit fonts in Illustrator\n",
    "import matplotlib\n",
    "matplotlib.rcParams['ps.useafm'] = True\n",
    "matplotlib.rcParams['pdf.use14corefonts'] = True\n",
    "matplotlib.rcParams['text.usetex'] = True\n",
    "\n",
    "# Libraries\n",
    "import matplotlib.pyplot as plt\n",
    "from matplotlib.patches import Polygon\n",
    "import matplotlib.patches as patches\n",
    "import numpy as np\n",
    "import os\n",
    "import pandas as pd\n",
    "import scipy.stats\n",
    "\n",
    "# Params\n",
    "PTHRESH = 0.8\n",
    "PCOLORS = {\n",
    "    \"ALL\": \"black\",\n",
    "    1: \"gray\",\n",
    "    2: \"red\",\n",
    "    3: \"orange\",\n",
    "    4: \"blue\",\n",
    "    5: \"green\",\n",
    "    6: \"purple\"\n",
    "}\n",
    "\n",
    "# Outputs\n",
    "OUTPATH = \"pdfs\"\n",
    "PREFIX = \"SuppFig\"\n",
    "\n",
    "# Load data\n",
    "RESDIR=\"/storage/mgymrek/ssc-denovos/denovos2/denovocalls_filtered/\"\n",
    "\n",
    "# Load PCA results\n",
    "pca = pd.read_csv(\"/storage/s1saini/ssc-pca/pca_10.eigenvec\", sep=\" \",\n",
    "                 names=[\"sample\",\"sample2\"]+[\"pc%s\"%i for i in range(1,11)])\n",
    "\n",
    "# Load 1kg population labels\n",
    "onekg = pd.read_csv(\"../other_data/1000GenomesPopulations.csv\")\n",
    "\n",
    "# Load pedigree info\n",
    "ped = pd.read_csv(\"../../metadata/ssc_family_ids.txt\", sep=\"\\t\", names=[\"id\",\"sample\"])\n",
    "ped[\"family\"] = ped[\"id\"].apply(lambda x: x.split(\".\")[0])\n",
    "ped[\"rel\"] = ped[\"id\"].apply(lambda x: x.split(\".\")[1])\n",
    "\n",
    "# Merge final data\n",
    "data = pd.merge(pca, onekg, on=\"sample\", how=\"left\")\n",
    "data = pd.merge(data, ped[[\"family\",\"rel\",\"sample\"]], on=\"sample\", how=\"left\")\n",
    "\n",
    "# SSC age data\n",
    "age = pd.read_excel(\"/home/mgymrek/workspace/ssc-imputation/metadata/ssc_age_info_Sebat.xlsx\")\n",
    "age[\"family\"] = age[\"Family_ID\"]\n",
    "age[\"child\"] = age[\"Individual_ID\"]\n",
    "age = age[~(age[\"Paternal_ID\"]==0)]\n",
    "age = age[[\"family\",\"child\",\"Father_age_at_birth\",\"Mother_age_at_birth\"]]"
   ]
  },
  {
   "cell_type": "markdown",
   "metadata": {},
   "source": [
    "# SuppFig A Population PCA"
   ]
  },
  {
   "cell_type": "code",
   "execution_count": 17,
   "metadata": {
    "collapsed": false
   },
   "outputs": [
    {
     "name": "stderr",
     "output_type": "stream",
     "text": [
      "/usr/lib/python3.4/site-packages/ipykernel/__main__.py:9: SettingWithCopyWarning: \n",
      "A value is trying to be set on a copy of a slice from a DataFrame.\n",
      "Try using .loc[row_indexer,col_indexer] = value instead\n",
      "\n",
      "See the caveats in the documentation: http://pandas.pydata.org/pandas-docs/stable/indexing.html#indexing-view-versus-copy\n",
      "/usr/lib64/python3.4/site-packages/pandas/core/indexing.py:477: SettingWithCopyWarning: \n",
      "A value is trying to be set on a copy of a slice from a DataFrame.\n",
      "Try using .loc[row_indexer,col_indexer] = value instead\n",
      "\n",
      "See the caveats in the documentation: http://pandas.pydata.org/pandas-docs/stable/indexing.html#indexing-view-versus-copy\n",
      "  self.obj[item] = s\n"
     ]
    },
    {
     "data": {
      "image/png": "[encoded data removed]",
      "text/plain": [
       "<matplotlib.figure.Figure at 0x7f0fed2cd208>"
      ]
     },
     "metadata": {},
     "output_type": "display_data"
    }
   ],
   "source": [
    "# Plot PCA to get boundaries\n",
    "POPCOLORS = {\n",
    "    \"EUR\": \"green\",\n",
    "    \"AFR\": \"red\",\n",
    "    \"EAS\": \"orange\",\n",
    "    \"SAS\": \"purple\"\n",
    "}\n",
    "refdata = data[(data[\"Population\"].apply(lambda x: str(x) != \"nan\"))]\n",
    "refdata[\"color\"] = refdata.apply(lambda x: POPCOLORS.get(x[\"Superpop\"],\"gray\"), 1)\n",
    "ssc = data[(data[\"Population\"].apply(lambda x: str(x) == \"nan\"))]\n",
    "\n",
    "fig = plt.figure()\n",
    "ax = fig.add_subplot(111)\n",
    "ax.scatter(ssc[\"pc1\"], ssc[\"pc2\"], color=\"black\", s=2);\n",
    "ax.scatter(refdata[\"pc1\"], refdata[\"pc2\"], color=list(refdata[\"color\"]), s=2);\n",
    "ax.set_xlabel(\"PC1\", size=15)\n",
    "ax.set_ylabel(\"PC2\", size=15);\n",
    "\n",
    "# Get Europeans boundaries\n",
    "#for popname in set(refdata[\"Superpop\"]):\n",
    "for popname in [\"EAS\",\"AFR\",\"SAS\",\"EUR\"]:\n",
    "    pop = refdata[refdata[\"Superpop\"]==popname]\n",
    "    max_pc1 = max(pop[\"pc1\"])\n",
    "    min_pc1 = min(pop[\"pc1\"])\n",
    "    max_pc2 = max(pop[\"pc2\"])\n",
    "    min_pc2 = min(pop[\"pc2\"])\n",
    "    ssc_pop = ssc[(ssc[\"pc1\"]>=min_pc1) & (ssc[\"pc1\"]<=max_pc1) &\n",
    "                 (ssc[\"pc2\"]>=min_pc2) & (ssc[\"pc2\"]<=max_pc2)]\n",
    "    ssc.ix[ssc[\"sample\"].apply(lambda x: x in ssc_pop[\"sample\"].values),\"Superpop\"] = popname\n",
    "    ax.add_patch(\n",
    "        patches.Rectangle(\n",
    "        (min_pc1, min_pc2),\n",
    "        max_pc1-min_pc1,\n",
    "        max_pc2-min_pc2,\n",
    "        fill=False\n",
    "        ))\n",
    "ax.spines['right'].set_visible(False)\n",
    "ax.spines['top'].set_visible(False)\n",
    "ax.yaxis.set_ticks_position('left')\n",
    "ax.xaxis.set_ticks_position('bottom')\n",
    "ax.set_xlabel(\"PC1\", size=15)\n",
    "ax.set_ylabel(\"PC2\", size=15)\n",
    "ax.set_xticklabels(ax.get_xticks(), size=12)\n",
    "ax.set_yticklabels([\"%.2f\"%x for x in ax.get_yticks()], size=12);\n",
    "fig.savefig(os.path.join(OUTPATH, \"%s_POPPCA.pdf\"%PREFIX))\n",
    "\n",
    "def concat(x):\n",
    "    items = list(set([str(item) for item in x if str(item) != \"nan\"]))\n",
    "    if len(items)==0 or len(items)> 1: return \"Admixed\"\n",
    "    else: return \",\".join(items)\n",
    "ssc_family = ssc.groupby(\"family\", as_index=False).agg({\"Superpop\": concat})\n",
    "ssc_family.to_csv(\"../../metadata/ssc_family_populations.tab\", sep=\"\\t\", index=False)\n",
    "ssc_family[\"family\"] = ssc_family[\"family\"].apply(int)"
   ]
  },
  {
   "cell_type": "markdown",
   "metadata": {},
   "source": [
    "# SuppFig B: Mutation rate by population"
   ]
  },
  {
   "cell_type": "code",
   "execution_count": 34,
   "metadata": {
    "collapsed": false
   },
   "outputs": [],
   "source": [
    "data = {}\n",
    "data[\"ALL\"] = pd.read_csv(os.path.join(RESDIR, \"denovos_bylength_bychild2.tab\"), sep=\"\\t\")\n",
    "for period in range(1, 7):\n",
    "    data[period] = pd.read_csv(os.path.join(RESDIR, \"denovos_bylength_bychild2_period%s.tab\"%period), sep=\"\\t\")\n",
    "\n",
    "families = [] \n",
    "expected_u = []\n",
    "observed_u = []\n",
    "expected_rates_u = []\n",
    "observed_rates_u = []\n",
    "periods = []\n",
    "totals = []\n",
    "\n",
    "allfams = list(set(data[\"ALL\"][\"family\"]))\n",
    "for period in data.keys():\n",
    "    bychild = data[period]\n",
    "    bychild[\"prior_sum_scaled\"] = bychild[\"prior_sum\"]\n",
    "    for f in allfams:\n",
    "        try:\n",
    "            exp_u = bychild[(bychild[\"family\"] == f) & (bychild[\"status\"]==1) & (bychild[\"pthresh\"]==0)][\"prior_sum_scaled\"].values[0]\n",
    "        except: exp_u = 0\n",
    "        try:\n",
    "            obs_u = bychild[(bychild[\"family\"] == f) & (bychild[\"status\"]==1) & (bychild[\"pthresh\"]==PTHRESH)][\"numutations\"].values[0]\n",
    "        except: obs_u = 0\n",
    "        total = bychild[(bychild[\"family\"] == f) & (bychild[\"status\"]==1) & (bychild[\"pthresh\"]==0)][\"numutations\"].values[0]\n",
    "        exp_r_u = exp_u*1.0/total\n",
    "        obs_r_u = obs_u*1.0/total\n",
    "        totals.append(total)\n",
    "        expected_u.append(exp_u)\n",
    "        observed_u.append(obs_u)\n",
    "        expected_rates_u.append(exp_r_u)\n",
    "        observed_rates_u.append(obs_r_u)\n",
    "        families.append(f)\n",
    "        periods.append(period)\n",
    "\n",
    "pdata = pd.DataFrame({\n",
    "    \"family\": families,\n",
    "    \"exp_u\": expected_u,\n",
    "    \"obs_u\": observed_u,\n",
    "    \"exp_rate_u\": expected_rates_u,\n",
    "    \"obs_rate_u\": observed_rates_u,\n",
    "    \"period\": periods,\n",
    "    \"totals\": totals,\n",
    "})\n",
    "pdata = pd.merge(pdata, ssc_family, on=\"family\")\n",
    "pdata = pd.merge(pdata, age, on=\"family\")\n",
    "poplabels = {\n",
    "    \"EUR\": \"1-EUR\",\n",
    "    \"EAS\": \"2-EAS\",\n",
    "    \"SAS\": \"3-SAS\",\n",
    "    \"AFR\": \"4-AFR\",\n",
    "    \"Admixed\": \"5-Admixed\"\n",
    "}\n",
    "pdata[\"SuperpopLabel\"] = pdata[\"Superpop\"].apply(lambda x: poplabels[x])"
   ]
  },
  {
   "cell_type": "code",
   "execution_count": 66,
   "metadata": {
    "collapsed": false
   },
   "outputs": [],
   "source": [
    "def Adjust(targetvals, covar):\n",
    "    xd = list(covar)\n",
    "    yd = list(targetvals)\n",
    "    par = np.polyfit(xd, yd, 1, full=True)\n",
    "    slope=par[0][0]\n",
    "    intercept=par[0][1]\n",
    "    pred = [slope*item + intercept for item in xd]\n",
    "    return [yd[i]-pred[i] for i in range(len(yd))]\n",
    "\n",
    "def GetLabel(x):\n",
    "    return (x.values[0])"
   ]
  },
  {
   "cell_type": "code",
   "execution_count": 115,
   "metadata": {
    "collapsed": false
   },
   "outputs": [
    {
     "data": {
      "image/png": "[encoded data removed]",
      "text/plain": [
       "<matplotlib.figure.Figure at 0x7f104587b4a8>"
      ]
     },
     "metadata": {},
     "output_type": "display_data"
    },
    {
     "data": {
      "image/png": "[encoded data removed]",
      "text/plain": [
       "<matplotlib.figure.Figure at 0x7f0fe38a0f98>"
      ]
     },
     "metadata": {},
     "output_type": "display_data"
    },
    {
     "data": {
      "image/png": "[encoded data removed]",
      "text/plain": [
       "<matplotlib.figure.Figure at 0x7f0fe3da4c88>"
      ]
     },
     "metadata": {},
     "output_type": "display_data"
    },
    {
     "data": {
      "image/png": "[encoded data removed]",
      "text/plain": [
       "<matplotlib.figure.Figure at 0x7f10451527b8>"
      ]
     },
     "metadata": {},
     "output_type": "display_data"
    },
    {
     "data": {
      "image/png": "[encoded data removed]",
      "text/plain": [
       "<matplotlib.figure.Figure at 0x7f1044c04be0>"
      ]
     },
     "metadata": {},
     "output_type": "display_data"
    },
    {
     "data": {
      "image/png": "[encoded data removed]",
      "text/plain": [
       "<matplotlib.figure.Figure at 0x7f1044588c88>"
      ]
     },
     "metadata": {},
     "output_type": "display_data"
    }
   ],
   "source": [
    "PCOLORS = {\n",
    "    \"ALL\": \"black\",\n",
    "    1: \"gray\",\n",
    "    2: \"red\",\n",
    "    3: \"orange\",\n",
    "    4: \"blue\",\n",
    "    5: \"green\",\n",
    "    6: \"purple\"\n",
    "}\n",
    "for period in range(1, 7):\n",
    "    df = pdata[(pdata[\"period\"]==period)]\n",
    "    df = df.groupby(\"family\", as_index=False).agg({\"totals\": sum, \"obs_u\": sum, \"exp_u\": sum,\n",
    "                                               \"SuperpopLabel\": GetLabel, \"Superpop\": GetLabel,\n",
    "                                              \"Father_age_at_birth\": GetLabel})\n",
    "    df[\"rate\"] = df.apply(lambda x: (x[\"obs_u\"]*1.0/x[\"totals\"])/(x[\"exp_u\"]/x[\"totals\"]), 1) # Normalize by expected rate\n",
    "    df[\"adjrate\"] = Adjust(df[\"rate\"].values, df[\"Father_age_at_birth\"].values)\n",
    "\n",
    "    fig = plt.figure()\n",
    "    fig.set_size_inches((4, 2))\n",
    "    ax = fig.add_subplot(111)\n",
    "    color = PCOLORS[period]\n",
    "    boxprops = dict(linestyle='-', linewidth=1)\n",
    "    medianprops = dict(linestyle='-', linewidth=1)\n",
    "    bp = df.boxplot(by=\"SuperpopLabel\", column=\"adjrate\", ax=ax, boxprops=boxprops,\n",
    "                medianprops=medianprops, return_type='dict')\n",
    "    [[item.set_color(color) for item in bp[key]['boxes']] for key in bp.keys()]\n",
    "    [[item.set_color(color) for item in bp[key]['medians']] for key in bp.keys()]\n",
    "    [[item.set_color(color) for item in bp[key]['whiskers']] for key in bp.keys()]\n",
    "    [[item.set_color(color) for item in bp[key]['caps']] for key in bp.keys()]\n",
    "\n",
    "    ax.set_title(\"\");\n",
    "    fig.suptitle(\"\")\n",
    "    ax.set_xlabel(\"\");\n",
    "    #ax.set_ylabel(\"Adjusted mutation rate\", size=15)\n",
    "    #ax.set_xlabel(\"Population group\", size=15)\n",
    "    ax.set_xticklabels([\"EUR\",\"EAS\",\"SAS\",\"AFR\",\"Admixed\"], size=12)\n",
    "    ax.set_yticklabels([(x) for x in ax.get_yticks()], size=12);\n",
    "\n",
    "    rate_eur = df[df[\"Superpop\"]==\"EUR\"][\"adjrate\"]\n",
    "    rate_afr = df[df[\"Superpop\"]==\"AFR\"][\"adjrate\"]\n",
    "    rate_asia = df[df[\"Superpop\"].apply(lambda x: x in [\"SAS\",\"EAS\"])][\"adjrate\"]\n",
    "    #print(\"EUR vs. AFR\"+\"\\t\"+str(scipy.stats.ttest_ind(rate_eur, rate_afr)))\n",
    "    #print(\"EUR vs. ASIA\"+\"\\t\"+str(scipy.stats.ttest_ind(rate_eur, rate_asia)))\n",
    "    #print(\"AFR vs. ASIA\"+\"\\t\"+str(scipy.stats.ttest_ind(rate_afr, rate_asia)))\n",
    "    fig.savefig(os.path.join(OUTPATH, \"%s_poprate_period%s.pdf\"%(PREFIX, period)))"
   ]
  }
 ],
 "metadata": {
  "kernelspec": {
   "display_name": "Python 3",
   "language": "python",
   "name": "python3"
  },
  "language_info": {
   "codemirror_mode": {
    "name": "ipython",
    "version": 3
   },
   "file_extension": ".py",
   "mimetype": "text/x-python",
   "name": "python",
   "nbconvert_exporter": "python",
   "pygments_lexer": "ipython3",
   "version": "3.4.5"
  }
 },
 "nbformat": 4,
 "nbformat_minor": 2
}

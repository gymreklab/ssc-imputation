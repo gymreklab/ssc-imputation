{
 "cells": [
  {
   "cell_type": "code",
   "execution_count": 1,
   "metadata": {
    "collapsed": false
   },
   "outputs": [
    {
     "name": "stdout",
     "output_type": "stream",
     "text": [
      "Populating the interactive namespace from numpy and matplotlib\n"
     ]
    }
   ],
   "source": [
    "# Set up\n",
    "%pylab inline\n",
    "\n",
    "# Allow us to edit fonts in Illustrator\n",
    "import matplotlib\n",
    "matplotlib.rcParams['ps.useafm'] = True\n",
    "matplotlib.rcParams['pdf.use14corefonts'] = True\n",
    "matplotlib.rcParams['text.usetex'] = True\n",
    "\n",
    "# Libraries\n",
    "import matplotlib.pyplot as plt\n",
    "from matplotlib.patches import Polygon\n",
    "import numpy as np\n",
    "import os\n",
    "import pandas as pd\n",
    "import scipy.stats\n",
    "\n",
    "# Outputs\n",
    "OUTPATH = \"pdfs\"\n",
    "PREFIX = \"SuppFig\"\n",
    "\n",
    "# Load data\n",
    "RESDIR=\"/storage/mgymrek/ssc-denovos/denovos2/denovocalls_filtered/\"\n",
    "MUTEADIR=\"/storage/mgymrek/ssc-denovos/mutea-results/\"\n",
    "codis = pd.read_csv(\"../CODIS.bed\", sep=\"\\t\", names=[\"chrom\",\"pos\",\"end\",\"marker\",\"mutrate\"])\n",
    "codis = codis[codis[\"mutrate\"] != \"?\"]\n",
    "denovo = pd.read_csv(os.path.join(RESDIR, \"denovos_bylength.locus_summary.bed.gz\"), sep=\"\\t\")\n",
    "denovo[\"chrom\"] = denovo[\"#chrom\"]\n",
    "denovo[\"pos\"] = denovo[\"start\"]\n",
    "codis = pd.merge(codis, denovo, on=[\"chrom\",\"pos\"])\n",
    "codis[\"mutrate\"] = codis[\"mutrate\"].apply(float)\n",
    "#mutea = pd.read_csv(os.path.join(MUTEADIR, \"ssc_hipstr_mutea_codis.tab\"),\n",
    "#                   names=[\"chrom\",\"pos\",\"end\",\"log10mu\",\"beta\",\"pgeom\",\"log10mu_se\",\"nsamples\"], sep=\"\\t\")\n",
    "mutea = pd.read_csv(os.path.join(MUTEADIR, \"ssc_autosomal_perlocus_observed.bed.gz\"), sep=\"\\t\")\n",
    "mutea[\"pos\"] = mutea[\"start\"]\n",
    "codis = pd.merge(mutea, codis, on=[\"chrom\",\"pos\"])"
   ]
  },
  {
   "cell_type": "markdown",
   "metadata": {},
   "source": [
    "# SuppFig A: Compare MUTEA and NIST rates"
   ]
  },
  {
   "cell_type": "code",
   "execution_count": 2,
   "metadata": {
    "collapsed": false
   },
   "outputs": [
    {
     "name": "stdout",
     "output_type": "stream",
     "text": [
      "(0.89460724594012131, 0.00047447070022865642)\n",
      "10\n"
     ]
    },
    {
     "data": {
      "image/png": "[encoded data removed]",
      "text/plain": [
       "<matplotlib.figure.Figure at 0x7f8e584e8ef0>"
      ]
     },
     "metadata": {},
     "output_type": "display_data"
    }
   ],
   "source": [
    "# Mutea CODIS estimates vs. NIST reported\n",
    "fig = plt.figure()\n",
    "ax = fig.add_subplot(111)\n",
    "ax.scatter(codis[\"mutrate\"].apply(lambda x: -1*np.log10(x)),\n",
    "          codis[\"ml_mu\"]*-1);\n",
    "for i in range(codis.shape[0]):\n",
    "    xval = codis[\"mutrate\"].apply(lambda x: -1*np.log10(x)).values[i]\n",
    "    mean = -1*codis[\"ml_mu\"].values[i]\n",
    "    se = codis[\"ml_mu_stderr\"].values[i]\n",
    "    ax.plot([xval,xval],[mean-1.96*se,mean+1.96*se], color=\"blue\", linewidth=0.5)\n",
    "ax.plot([2.0,4.0],[2.0,4.0], linestyle=\"dashed\", color=\"gray\")\n",
    "ax.spines['right'].set_visible(False)\n",
    "ax.spines['top'].set_visible(False)\n",
    "ax.yaxis.set_ticks_position('left')\n",
    "ax.xaxis.set_ticks_position('bottom')\n",
    "ax.set_xlabel(\"NIST mutation rate\", size=15)\n",
    "ax.set_ylabel(\"Mutea mutation rate\", size=15)\n",
    "ax.set_xticklabels(ax.get_xticks(), size=12)\n",
    "ax.set_yticklabels(ax.get_yticks(), size=12);\n",
    "print(scipy.stats.pearsonr(codis[\"mutrate\"].apply(lambda x: -1*np.log10(x)), codis[\"ml_mu\"]*-1))\n",
    "print(codis.shape[0])\n",
    "fig.savefig(os.path.join(OUTPATH, \"%s_CODISMutea.pdf\"%PREFIX))"
   ]
  },
  {
   "cell_type": "markdown",
   "metadata": {},
   "source": [
    "# SuppFig B: Compare SSC observed denovos to estimated rates"
   ]
  },
  {
   "cell_type": "code",
   "execution_count": 3,
   "metadata": {
    "collapsed": false
   },
   "outputs": [
    {
     "name": "stderr",
     "output_type": "stream",
     "text": [
      "/usr/lib/python3.4/site-packages/ipykernel/__main__.py:13: FutureWarning: sort(columns=....) is deprecated, use sort_values(by=.....)\n"
     ]
    },
    {
     "data": {
      "image/png": "[encoded data removed]",
      "text/plain": [
       "<matplotlib.figure.Figure at 0x7f8e583d09b0>"
      ]
     },
     "metadata": {},
     "output_type": "display_data"
    }
   ],
   "source": [
    "# Look at denovos vs. reported CODIS rate\n",
    "\n",
    "nsim=100000\n",
    "# Get expected num mutations for each marker\n",
    "codis[\"codis_exp\"] = codis.apply(lambda x: x[\"mutrate\"]*x[\"total_children\"], 1)\n",
    "codis[\"codis_se\"] = codis.apply(lambda x: np.sqrt(np.var(np.random.binomial(n=x[\"total_children\"], p=x[\"mutrate\"], size=nsim))), 1)\n",
    "codis[\"codis_low\"] = codis.apply(lambda x: np.percentile(np.random.binomial(n=x[\"total_children\"], p=x[\"mutrate\"], size=nsim), 2.5), 1)\n",
    "codis[\"codis_high\"] = codis.apply(lambda x: np.percentile(np.random.binomial(n=x[\"total_children\"], p=x[\"mutrate\"], size=nsim), 97.5), 1)\n",
    "codis[\"pval\"] = codis.apply(lambda x: np.mean([item>=x[\"total_mutations\"] for item in np.random.binomial(n=x[\"total_children\"], p=x[\"mutrate\"], size=nsim)]), 1)\n",
    "\n",
    "fig = plt.figure()\n",
    "ax = fig.add_subplot(111)\n",
    "codis = codis.sort(\"codis_exp\")\n",
    "codis[\"order\"] = range(codis.shape[0])\n",
    "ax.scatter(codis[\"order\"], codis[\"codis_exp\"], color=\"black\", label=\"Expected\")\n",
    "for i in range(codis.shape[0]):\n",
    "    x = codis[\"order\"].values[i]\n",
    "    low = codis[\"codis_low\"].values[i]\n",
    "    high = codis[\"codis_high\"].values[i]\n",
    "    obs = codis[\"total_mutations\"].values[i]\n",
    "    if i==0:\n",
    "        ax.scatter([x],[obs], color=\"red\", label=\"Observed\")\n",
    "        ax.plot([x,x],[low,high], color=\"black\", label=\"95\\% CI\")\n",
    "    else:\n",
    "        ax.scatter([x],[obs], color=\"red\")\n",
    "        ax.plot([x,x],[low,high], color=\"black\")\n",
    "ax.spines['right'].set_visible(False)\n",
    "ax.spines['top'].set_visible(False)\n",
    "ax.yaxis.set_ticks_position('left')\n",
    "ax.xaxis.set_ticks_position('bottom')\n",
    "ax.set_xticks(codis[\"order\"])\n",
    "ax.set_xticklabels(codis[\"marker\"], rotation=90, size=12);\n",
    "ax.set_yticklabels(ax.get_yticks(), size=12)\n",
    "ax.set_ylabel(\"Number of mutations\", size=15)\n",
    "ax.legend(loc=\"upper left\", frameon=False)\n",
    "fig.savefig(os.path.join(OUTPATH, \"%s_CODISDenovo.pdf\"%PREFIX))"
   ]
  }
 ],
 "metadata": {
  "kernelspec": {
   "display_name": "Python 3",
   "language": "python",
   "name": "python3"
  },
  "language_info": {
   "codemirror_mode": {
    "name": "ipython",
    "version": 3
   },
   "file_extension": ".py",
   "mimetype": "text/x-python",
   "name": "python",
   "nbconvert_exporter": "python",
   "pygments_lexer": "ipython3",
   "version": "3.4.5"
  }
 },
 "nbformat": 4,
 "nbformat_minor": 2
}

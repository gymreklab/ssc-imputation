{
 "cells": [
  {
   "cell_type": "code",
   "execution_count": null,
   "metadata": {
    "collapsed": true
   },
   "outputs": [],
   "source": [
    "# TODO priors for homopolymers seem off? remove african families?"
   ]
  },
  {
   "cell_type": "code",
   "execution_count": 1,
   "metadata": {
    "collapsed": false
   },
   "outputs": [
    {
     "name": "stdout",
     "output_type": "stream",
     "text": [
      "Populating the interactive namespace from numpy and matplotlib\n"
     ]
    }
   ],
   "source": [
    "# Set up\n",
    "%pylab inline\n",
    "\n",
    "# Allow us to edit fonts in Illustrator\n",
    "import matplotlib\n",
    "matplotlib.rcParams['ps.useafm'] = True\n",
    "matplotlib.rcParams['pdf.use14corefonts'] = True\n",
    "matplotlib.rcParams['text.usetex'] = True\n",
    "\n",
    "# Libraries\n",
    "import matplotlib.pyplot as plt\n",
    "from matplotlib.patches import Polygon\n",
    "import numpy as np\n",
    "import os\n",
    "import pandas as pd\n",
    "import seaborn.apionly as sns\n",
    "import scipy.stats\n",
    "\n",
    "# Params\n",
    "PTHRESH = 0.8\n",
    "PCOLORS = {\n",
    "    \"ALL\": \"black\",\n",
    "    1: \"gray\",\n",
    "    2: \"red\",\n",
    "    3: \"gold\",\n",
    "    4: \"blue\",\n",
    "    5: \"green\",\n",
    "    6: \"purple\"\n",
    "}\n",
    "PLABELS = {\n",
    "    \"ALL\": \"ALL\",\n",
    "    1: \"Mono-\",\n",
    "    2: \"Di-\",\n",
    "    3: \"Tri-\",\n",
    "    4: \"Tetra-\",\n",
    "    5: \"Penta-\",\n",
    "    6: \"Hexa-\"\n",
    "}\n",
    "\n",
    "# Load data\n",
    "RESDIR=\"/storage/mgymrek/ssc-denovos/denovos2/denovocalls_filtered/\"\n",
    "DATADIR=\"/storage/mgymrek/ssc-denovos/denovos2/other-data\"\n",
    "MUTEADIR=\"/storage/mgymrek/ssc-denovos/mutea-results\"\n",
    "data = {}\n",
    "data[\"ALL\"] = pd.read_csv(os.path.join(RESDIR, \"denovos_bylength_bychild2.tab\"), sep=\"\\t\")\n",
    "for period in range(1, 7):\n",
    "    data[period] = pd.read_csv(os.path.join(RESDIR, \"denovos_bylength_bychild2_period%s.tab\"%period), sep=\"\\t\")\n",
    "sgdp = pd.read_csv(os.path.join(DATADIR, \"Gymrek_etal_SupplementalData1_v2.bed.gz\"), sep=\"\\t\", usecols=range(4))\n",
    "ssc = pd.read_csv(os.path.join(MUTEADIR, \"ssc_mutea_auto_scaled.bed.gz\"), sep=\"\\t\",\n",
    "                  usecols=range(4), names=[\"#chrom\",\"start\",\"end\",\"est_logmu_ml_ssc\"])\n",
    "\n",
    "# Outputs\n",
    "OUTPATH = \"pdfs\"\n",
    "PREFIX = \"Figure1\""
   ]
  },
  {
   "cell_type": "code",
   "execution_count": 2,
   "metadata": {
    "collapsed": false
   },
   "outputs": [],
   "source": [
    "# Calculate expected per family\n",
    "families = [] \n",
    "expected_u = []\n",
    "observed_u = []\n",
    "expected_rates_u = []\n",
    "observed_rates_u = []\n",
    "periods = []\n",
    "\n",
    "allfams = list(set(data[\"ALL\"][\"family\"]))\n",
    "for period in data.keys():\n",
    "    bychild = data[period]\n",
    "    bychild[\"prior_sum_scaled\"] = bychild[\"prior_sum\"]\n",
    "    for f in allfams:\n",
    "        try:\n",
    "            exp_u = bychild[(bychild[\"family\"] == f) & (bychild[\"status\"]==1) & (bychild[\"pthresh\"]==0)][\"prior_sum_scaled\"].values[0]\n",
    "        except: exp_u = 0\n",
    "        try:\n",
    "            obs_u = bychild[(bychild[\"family\"] == f) & (bychild[\"status\"]==1) & (bychild[\"pthresh\"]==PTHRESH)][\"numutations\"].values[0]\n",
    "        except: obs_u = 0\n",
    "        total = bychild[(bychild[\"family\"] == f) & (bychild[\"status\"]==1) & (bychild[\"pthresh\"]==0)][\"numutations\"].values[0]\n",
    "        exp_r_u = exp_u*1.0/total\n",
    "        obs_r_u = obs_u*1.0/total\n",
    "        expected_u.append(exp_u)\n",
    "        observed_u.append(obs_u)\n",
    "        expected_rates_u.append(exp_r_u)\n",
    "        observed_rates_u.append(obs_r_u)\n",
    "        families.append(f)\n",
    "        periods.append(period)\n",
    "\n",
    "pdata = pd.DataFrame({\n",
    "    \"family\": families,\n",
    "    \"exp_u\": expected_u,\n",
    "    \"obs_u\": observed_u,\n",
    "    \"exp_rate_u\": expected_rates_u,\n",
    "    \"obs_rate_u\": observed_rates_u,\n",
    "    \"period\": periods\n",
    "})\n",
    "ssc_family = pd.read_csv(\"../../metadata/ssc_family_populations.tab\", sep=\"\\t\")\n",
    "pdata = pd.merge(pdata, ssc_family, on=[\"family\"])"
   ]
  },
  {
   "cell_type": "markdown",
   "metadata": {},
   "source": [
    "# Figure 1B: Compare to MUTEA"
   ]
  },
  {
   "cell_type": "code",
   "execution_count": 39,
   "metadata": {
    "collapsed": false
   },
   "outputs": [
    {
     "data": {
      "image/png": "[encoded data removed]",
      "text/plain": [
       "<matplotlib.figure.Figure at 0x7fb764d7b6a0>"
      ]
     },
     "metadata": {},
     "output_type": "display_data"
    }
   ],
   "source": [
    "mutea = pd.merge(ssc, sgdp, on=[\"#chrom\",\"start\"])\n",
    "mutea2 = mutea[(mutea[\"est_logmu_ml\"]>-7) & (mutea[\"est_logmu_ml_ssc\"]>-7) &\n",
    "              (mutea[\"est_logmu_ml\"]<-1) & (mutea[\"est_logmu_ml_ssc\"]<-1)]\n",
    "sns.jointplot(mutea2[\"est_logmu_ml\"], mutea2[\"est_logmu_ml_ssc\"], kind='kde', stat_func=None,\n",
    "              xlim=(-7,-2), ylim=(-7,-2))\n",
    "plt.savefig(os.path.join(OUTPATH, \"%s_SSCvSGDP.png\"%PREFIX)) # PNG since it's huge. update text in Illustrator\n",
    "plt.show()"
   ]
  },
  {
   "cell_type": "code",
   "execution_count": 23,
   "metadata": {
    "collapsed": false
   },
   "outputs": [
    {
     "name": "stdout",
     "output_type": "stream",
     "text": [
      "(0.8723608325984572, 0.0)\n",
      "744344\n"
     ]
    }
   ],
   "source": [
    "print(str(scipy.stats.pearsonr(mutea[\"est_logmu_ml\"], mutea[\"est_logmu_ml_ssc\"])))\n",
    "print(str(mutea.shape[0]))"
   ]
  },
  {
   "cell_type": "markdown",
   "metadata": {},
   "source": [
    "# Figure 1C: Number of denovos per family"
   ]
  },
  {
   "cell_type": "code",
   "execution_count": 21,
   "metadata": {
    "collapsed": false
   },
   "outputs": [
    {
     "data": {
      "image/png": "[encoded data removed]",
      "text/plain": [
       "<matplotlib.figure.Figure at 0x7f13e882f0f0>"
      ]
     },
     "metadata": {},
     "output_type": "display_data"
    }
   ],
   "source": [
    "fig = plt.figure()\n",
    "ax = fig.add_subplot(111)\n",
    "bins = np.arange(50, 250, 10)\n",
    "df = pdata[(pdata[\"period\"]==\"ALL\")]\n",
    "ax.hist(df[\"obs_u\"], color=\"black\", alpha=0.25,\n",
    "        edgecolor=\"white\", label=\"Observed\", bins=bins);\n",
    "ax.spines['right'].set_visible(False)\n",
    "ax.spines['top'].set_visible(False)\n",
    "ax.yaxis.set_ticks_position('left')\n",
    "ax.xaxis.set_ticks_position('bottom')\n",
    "ax.set_xlabel(\"Number of de novos per family\", size=15)\n",
    "ax.set_ylabel(\"Number of families\", size=15)\n",
    "ax.set_xticklabels(ax.get_xticks(), size=12)\n",
    "ax.set_yticklabels(ax.get_yticks(), size=12)\n",
    "\n",
    "# Mean observed, expected\n",
    "mean_obs = np.mean(df[\"obs_u\"])\n",
    "mean_exp = np.mean(df[\"exp_u\"])\n",
    "ax.axvline(x=mean_obs, linestyle=\"dashed\", color=\"black\", label=\"Mean observed\")\n",
    "#ax.axvline(x=mean_exp, color=\"black\", label=\"Mean expected\");\n",
    "#ax.legend(loc=\"upper right\", frameon=False);\n",
    "fig.savefig(os.path.join(OUTPATH, \"%s_numperfamily.pdf\"%PREFIX))"
   ]
  },
  {
   "cell_type": "markdown",
   "metadata": {},
   "source": [
    "# Figure 1D: Mutation rate by period"
   ]
  },
  {
   "cell_type": "code",
   "execution_count": 109,
   "metadata": {
    "collapsed": false
   },
   "outputs": [
    {
     "data": {
      "image/png": "[encoded data removed]",
      "text/plain": [
       "<matplotlib.figure.Figure at 0x7fdda144fba8>"
      ]
     },
     "metadata": {},
     "output_type": "display_data"
    }
   ],
   "source": [
    "boxdata = []\n",
    "colors = []\n",
    "labels = []\n",
    "for period in list(range(1, 7)):\n",
    "    d = pdata[(pdata[\"period\"].apply(str)==str(period))]\n",
    "    boxdata.append(list(d[\"obs_rate_u\"].apply(np.log10)))\n",
    "    boxdata.append(list(d[\"exp_rate_u\"].apply(np.log10)))\n",
    "    colors.append(PCOLORS[period])\n",
    "    colors.append(PCOLORS[period])\n",
    "    labels.append(\"Obs\")\n",
    "    labels.append(\"Exp\")\n",
    "fig = plt.figure()\n",
    "fig.set_size_inches((7, 2))\n",
    "ax = fig.add_subplot(111)\n",
    "bp = ax.boxplot(boxdata);\n",
    "plt.setp(bp[\"medians\"], color=\"black\")\n",
    "for i in range(len(colors)):\n",
    "    box = bp[\"boxes\"][i]\n",
    "    boxX = []\n",
    "    boxY = []\n",
    "    for j in range(5):\n",
    "        boxX.append(box.get_xdata()[j])\n",
    "        boxY.append(box.get_ydata()[j])\n",
    "    boxCoords = list(zip(boxX, boxY))\n",
    "    boxPolygon = Polygon(boxCoords, facecolor=colors[i])\n",
    "    ax.add_patch(boxPolygon)\n",
    "ax.set_ylim(bottom=-5, top=-3)\n",
    "ax.spines['right'].set_visible(False)\n",
    "ax.spines['top'].set_visible(False)\n",
    "ax.yaxis.set_ticks_position('left')\n",
    "ax.xaxis.set_ticks_position('bottom')\n",
    "ax.set_xticks([item-0.5 for item in range(1, len(boxdata)+1)])\n",
    "ax.set_xticklabels(labels, rotation=45, size=12);\n",
    "ax.set_yticklabels(ax.get_yticks(), size=12)\n",
    "ax.set_ylabel(\"Log10 mutation rate\", size=15);\n",
    "fig.savefig(os.path.join(OUTPATH, \"%s_ratebyperiod.pdf\"%PREFIX))"
   ]
  }
 ],
 "metadata": {
  "kernelspec": {
   "display_name": "Python 3",
   "language": "python",
   "name": "python3"
  },
  "language_info": {
   "codemirror_mode": {
    "name": "ipython",
    "version": 3
   },
   "file_extension": ".py",
   "mimetype": "text/x-python",
   "name": "python",
   "nbconvert_exporter": "python",
   "pygments_lexer": "ipython3",
   "version": "3.4.5"
  }
 },
 "nbformat": 4,
 "nbformat_minor": 2
}
